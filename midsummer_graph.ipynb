{
 "cells": [
  {
   "cell_type": "markdown",
   "metadata": {},
   "source": [
    "# Import Packages"
   ]
  },
  {
   "cell_type": "code",
   "execution_count": 31,
   "metadata": {},
   "outputs": [],
   "source": [
    "import numpy as np\n",
    "import pandas as pd\n",
    "import plotly.offline as py\n",
    "import plotly.graph_objects as go\n",
    "import networkx as nx\n",
    "import re"
   ]
  },
  {
   "cell_type": "markdown",
   "metadata": {},
   "source": [
    "# Read in File"
   ]
  },
  {
   "cell_type": "code",
   "execution_count": 2,
   "metadata": {},
   "outputs": [],
   "source": [
    "f = open(\"midsummer.txt\", \"r\")\n",
    "whole_text = f.read()"
   ]
  },
  {
   "cell_type": "markdown",
   "metadata": {},
   "source": [
    "# Get Scenes"
   ]
  },
  {
   "cell_type": "code",
   "execution_count": 3,
   "metadata": {},
   "outputs": [
    {
     "name": "stdout",
     "output_type": "stream",
     "text": [
      "10\n"
     ]
    }
   ],
   "source": [
    "scenes = whole_text.split('SCENE ')\n",
    "print(len(scenes))"
   ]
  },
  {
   "cell_type": "markdown",
   "metadata": {},
   "source": [
    "## Get all character names"
   ]
  },
  {
   "cell_type": "code",
   "execution_count": 4,
   "metadata": {},
   "outputs": [
    {
     "data": {
      "text/plain": [
       "['Theseus',\n",
       " 'Hippolyta',\n",
       " 'Egeus',\n",
       " 'Hermia',\n",
       " 'Helena',\n",
       " 'Lysander',\n",
       " 'Demetrius',\n",
       " 'Philostrate',\n",
       " 'Quince',\n",
       " 'Snug',\n",
       " 'Bottom',\n",
       " 'Flute',\n",
       " 'Snout',\n",
       " 'Starveling',\n",
       " 'Oberon',\n",
       " 'Titania',\n",
       " 'Puck',\n",
       " 'Goodfellow',\n",
       " 'Peaseblossom',\n",
       " 'Cobweb',\n",
       " 'Moth',\n",
       " 'Mustardseed',\n",
       " 'Pyramus',\n",
       " 'Thisbe',\n",
       " 'Wall',\n",
       " 'Moonshine',\n",
       " 'Lion']"
      ]
     },
     "execution_count": 4,
     "metadata": {},
     "output_type": "execute_result"
    }
   ],
   "source": [
    "characters = re.findall('[A-Z]+[,;]',scenes[0])\n",
    "characters = [name.strip(',').strip(';').title() for name in characters]\n",
    "characters"
   ]
  },
  {
   "cell_type": "code",
   "execution_count": 5,
   "metadata": {},
   "outputs": [
    {
     "data": {
      "text/plain": [
       "['Theseus',\n",
       " 'Hippolyta',\n",
       " 'Egeus',\n",
       " 'Hermia',\n",
       " 'Helena',\n",
       " 'Lysander',\n",
       " 'Demetrius',\n",
       " 'Philostrate',\n",
       " 'Quince',\n",
       " 'Snug',\n",
       " 'Bottom',\n",
       " 'Flute',\n",
       " 'Snout',\n",
       " 'Starveling',\n",
       " 'Oberon',\n",
       " 'Titania',\n",
       " 'Puck',\n",
       " 'Peaseblossom',\n",
       " 'Cobweb',\n",
       " 'Moth',\n",
       " 'Mustardseed',\n",
       " 'Pyramus',\n",
       " 'Thisbe',\n",
       " 'Wall',\n",
       " 'Moonshine',\n",
       " 'Lion',\n",
       " 'Fairies',\n",
       " 'Attendants']"
      ]
     },
     "execution_count": 5,
     "metadata": {},
     "output_type": "execute_result"
    }
   ],
   "source": [
    "characters.remove('Goodfellow') # Puck = Goodfellow\n",
    "characters.append('Fairies')\n",
    "characters.append('Attendants')\n",
    "characters"
   ]
  },
  {
   "cell_type": "markdown",
   "metadata": {},
   "source": [
    "## Make empty appearances"
   ]
  },
  {
   "cell_type": "code",
   "execution_count": 6,
   "metadata": {},
   "outputs": [],
   "source": [
    "from process import get_empty_appearances"
   ]
  },
  {
   "cell_type": "code",
   "execution_count": 7,
   "metadata": {},
   "outputs": [],
   "source": [
    "appearances = get_empty_appearances(characters)"
   ]
  },
  {
   "cell_type": "markdown",
   "metadata": {},
   "source": [
    "# Examine Scenes"
   ]
  },
  {
   "cell_type": "code",
   "execution_count": 8,
   "metadata": {},
   "outputs": [
    {
     "name": "stdout",
     "output_type": "stream",
     "text": [
      "﻿\n",
      "Project Gutenberg’s A Midsummer Night’s Dream, by William Shakespeare\n",
      "\n",
      "This eBook is for the use of anyone anywhere in the United States and\n",
      "most other parts of the world at no cost and with almost no restrictions\n",
      "whatsoever.  You may copy it, give it away or re-use it under the terms\n",
      "of the Project Gutenberg License included with this eBook or online at\n",
      "www.gutenberg.org.  If you are not located in the United States, you’ll\n",
      "have to check the laws of the country where you are located before using\n",
      "this ebook.\n",
      "\n",
      "\n",
      "\n",
      "Title: A Midsummer Night’s Dream\n",
      "\n",
      "Author: William Shakespeare\n",
      "\n",
      "Release Date: November, 1998 [Etext #1514]\n",
      "Last Updated: February 14, 2019\n",
      "\n",
      "Language: English\n",
      "\n",
      "Character set encoding: UTF-8\n",
      "\n",
      "*** START OF THIS PROJECT GUTENBERG EBOOK A MIDSUMMER NIGHT’S DREAM ***\n",
      "\n",
      "\n",
      "\n",
      "This etext was prepared by the PG Shakespeare Team,\n",
      "a team of about twenty Project Gutenberg volunteers.\n",
      "HTML version prepared by Joseph E. Loewenstein, M.D.\n",
      "\n",
      "\n",
      "\n",
      "cover \n",
      "\n",
      "\n",
      "\n",
      "A MIDSUMMER NIGHT’S DREAM\n",
      "\n",
      "\n",
      "\n",
      "by William Shakespeare\n",
      "\n",
      "\n",
      "\n",
      "Contents\n",
      "\n",
      "\n",
      "\n",
      "ACT I\n",
      "Scene I.\n",
      "Athens. A room in the Palace of Theseus\n",
      "Scene II.\n",
      "The Same. A Room in a Cottage\n",
      "\n",
      "ACT II\n",
      "Scene I.\n",
      "A wood near Athens\n",
      "Scene II.\n",
      "Another part of the wood\n",
      "\n",
      "ACT III\n",
      "Scene I.\n",
      "The Wood.\n",
      "Scene II.\n",
      "Another part of the wood\n",
      "\n",
      "ACT IV\n",
      "Scene I.\n",
      "The Wood\n",
      "Scene II.\n",
      "Athens. A Room in Quince’s House\n",
      "\n",
      "ACT V\n",
      "Scene I.\n",
      "Athens. An Apartment in the Palace of Theseus\n",
      "\n",
      "\n",
      "\n",
      "Dramatis Personæ\n",
      "\n",
      "THESEUS, Duke of Athens\n",
      "HIPPOLYTA, Queen of the Amazons, bethrothed to Theseus\n",
      "EGEUS, Father to Hermia\n",
      "HERMIA, daughter to Egeus, in love with Lysander\n",
      "HELENA, in love with Demetrius\n",
      "LYSANDER, in love with Hermia\n",
      "DEMETRIUS, in love with Hermia\n",
      "PHILOSTRATE, Master of the Revels to Theseus\n",
      "\n",
      "QUINCE, the Carpenter\n",
      "SNUG, the Joiner\n",
      "BOTTOM, the Weaver\n",
      "FLUTE, the Bellows-mender\n",
      "SNOUT, the Tinker\n",
      "STARVELING, the Tailor\n",
      "\n",
      "OBERON, King of the Fairies\n",
      "TITANIA, Queen of the Fairies\n",
      "PUCK, or ROBIN GOODFELLOW, a Fairy\n",
      "PEASEBLOSSOM, Fairy\n",
      "COBWEB, Fairy\n",
      "MOTH, Fairy\n",
      "MUSTARDSEED, Fairy\n",
      "\n",
      "PYRAMUS, THISBE, WALL, MOONSHINE, LION; Characters in the Interlude\n",
      "performed by the Clowns\n",
      "\n",
      "Other Fairies attending their King and Queen\n",
      "Attendants on Theseus and Hippolyta\n",
      "\n",
      "SCENE: Athens, and a wood not far from it\n",
      "\n",
      "\n",
      "\n",
      "ACT I\n",
      "\n",
      "\n"
     ]
    }
   ],
   "source": [
    "print(scenes[0])"
   ]
  },
  {
   "cell_type": "code",
   "execution_count": 9,
   "metadata": {},
   "outputs": [
    {
     "name": "stdout",
     "output_type": "stream",
     "text": [
      "I. Athens. An Apartment in the Palace of Theseus\n",
      "\n",
      " Enter Theseus, Hippolyta, Philostrate, Lords and Attendants.\n",
      "\n",
      "HIPPOLYTA.\n",
      "’Tis strange, my Theseus, that these lovers speak of.\n",
      "\n",
      "THESEUS.\n",
      "More strange than true. I never may believe\n",
      "These antique fables, nor these fairy toys.\n",
      "Lovers and madmen have such seething brains,\n",
      "Such shaping fantasies, that apprehend\n",
      "More than cool reason ever comprehends.\n",
      "The lunatic, the lover, and the poet\n",
      "Are of imagination all compact:\n",
      "One sees more devils than vast hell can hold;\n",
      "That is the madman: the lover, all as frantic,\n",
      "Sees Helen’s beauty in a brow of Egypt:\n",
      "The poet’s eye, in a fine frenzy rolling,\n",
      "Doth glance from heaven to earth, from earth to heaven;\n",
      "And as imagination bodies forth\n",
      "The forms of things unknown, the poet’s pen\n",
      "Turns them to shapes, and gives to airy nothing\n",
      "A local habitation and a name.\n",
      "Such tricks hath strong imagination,\n",
      "That if it would but apprehend some joy,\n",
      "It comprehends some bringer of that joy.\n",
      "Or in the night, imagining some fear,\n",
      "How easy is a bush supposed a bear?\n",
      "\n",
      "HIPPOLYTA.\n",
      "But all the story of the night told over,\n",
      "And all their minds transfigur’d so together,\n",
      "More witnesseth than fancy’s images,\n",
      "And grows to something of great constancy;\n",
      "But, howsoever, strange and admirable.\n",
      "\n",
      " Enter lovers: Lysander, Demetrius, Hermia and Helena.\n",
      "\n",
      "THESEUS.\n",
      "Here come the lovers, full of joy and mirth.\n",
      "Joy, gentle friends, joy and fresh days of love\n",
      "Accompany your hearts!\n",
      "\n",
      "LYSANDER.\n",
      "More than to us\n",
      "Wait in your royal walks, your board, your bed!\n",
      "\n",
      "THESEUS.\n",
      "Come now; what masques, what dances shall we have,\n",
      "To wear away this long age of three hours\n",
      "Between our after-supper and bed-time?\n",
      "Where is our usual manager of mirth?\n",
      "What revels are in hand? Is there no play\n",
      "To ease the anguish of a torturing hour?\n",
      "Call Philostrate.\n",
      "\n",
      "PHILOSTRATE.\n",
      "Here, mighty Theseus.\n",
      "\n",
      "THESEUS.\n",
      "Say, what abridgment have you for this evening?\n",
      "What masque? What music? How shall we beguile\n",
      "The lazy time, if not with some delight?\n",
      "\n",
      "PHILOSTRATE.\n",
      "There is a brief how many sports are ripe.\n",
      "Make choice of which your Highness will see first.\n",
      "\n",
      " [_Giving a paper._]\n",
      "\n",
      "THESEUS.\n",
      "[_Reads_] ‘The battle with the Centaurs, to be sung\n",
      "By an Athenian eunuch to the harp.’\n",
      "We’ll none of that. That have I told my love\n",
      "In glory of my kinsman Hercules.\n",
      "‘The riot of the tipsy Bacchanals,\n",
      "Tearing the Thracian singer in their rage?’\n",
      "That is an old device, and it was play’d\n",
      "When I from Thebes came last a conqueror.\n",
      "‘The thrice three Muses mourning for the death\n",
      "Of learning, late deceas’d in beggary.’\n",
      "That is some satire, keen and critical,\n",
      "Not sorting with a nuptial ceremony.\n",
      "‘A tedious brief scene of young Pyramus\n",
      "And his love Thisbe; very tragical mirth.’\n",
      "Merry and tragical? Tedious and brief?\n",
      "That is hot ice and wondrous strange snow.\n",
      "How shall we find the concord of this discord?\n",
      "\n",
      "PHILOSTRATE.\n",
      "A play there is, my lord, some ten words long,\n",
      "Which is as brief as I have known a play;\n",
      "But by ten words, my lord, it is too long,\n",
      "Which makes it tedious. For in all the play\n",
      "There is not one word apt, one player fitted.\n",
      "And tragical, my noble lord, it is.\n",
      "For Pyramus therein doth kill himself,\n",
      "Which, when I saw rehears’d, I must confess,\n",
      "Made mine eyes water; but more merry tears\n",
      "The passion of loud laughter never shed.\n",
      "\n",
      "THESEUS.\n",
      "What are they that do play it?\n",
      "\n",
      "PHILOSTRATE.\n",
      "Hard-handed men that work in Athens here,\n",
      "Which never labour’d in their minds till now;\n",
      "And now have toil’d their unbreath’d memories\n",
      "With this same play against your nuptial.\n",
      "\n",
      "THESEUS.\n",
      "And we will hear it.\n",
      "\n",
      "PHILOSTRATE.\n",
      "No, my noble lord,\n",
      "It is not for you: I have heard it over,\n",
      "And it is nothing, nothing in the world;\n",
      "Unless you can find sport in their intents,\n",
      "Extremely stretch’d and conn’d with cruel pain\n",
      "To do you service.\n",
      "\n",
      "THESEUS.\n",
      "I will hear that play;\n",
      "For never anything can be amiss\n",
      "When simpleness and duty tender it.\n",
      "Go, bring them in: and take your places, ladies.\n",
      "\n",
      " [_Exit Philostrate._]\n",
      "\n",
      "HIPPOLYTA.\n",
      "I love not to see wretchedness o’ercharged,\n",
      "And duty in his service perishing.\n",
      "\n",
      "THESEUS.\n",
      "Why, gentle sweet, you shall see no such thing.\n",
      "\n",
      "HIPPOLYTA.\n",
      "He says they can do nothing in this kind.\n",
      "\n",
      "THESEUS.\n",
      "The kinder we, to give them thanks for nothing.\n",
      "Our sport shall be to take what they mistake:\n",
      "And what poor duty cannot do, noble respect\n",
      "Takes it in might, not merit.\n",
      "Where I have come, great clerks have purposed\n",
      "To greet me with premeditated welcomes;\n",
      "Where I have seen them shiver and look pale,\n",
      "Make periods in the midst of sentences,\n",
      "Throttle their practis’d accent in their fears,\n",
      "And, in conclusion, dumbly have broke off,\n",
      "Not paying me a welcome. Trust me, sweet,\n",
      "Out of this silence yet I pick’d a welcome;\n",
      "And in the modesty of fearful duty\n",
      "I read as much as from the rattling tongue\n",
      "Of saucy and audacious eloquence.\n",
      "Love, therefore, and tongue-tied simplicity\n",
      "In least speak most to my capacity.\n",
      "\n",
      " Enter Philostrate.\n",
      "\n",
      "PHILOSTRATE.\n",
      "So please your grace, the Prologue is address’d.\n",
      "\n",
      "THESEUS.\n",
      "Let him approach.\n",
      "\n",
      " Flourish of trumpets. Enter the Prologue.\n",
      "\n",
      "PROLOGUE\n",
      "If we offend, it is with our good will.\n",
      "That you should think, we come not to offend,\n",
      "But with good will.  To show our simple skill,\n",
      "That is the true beginning of our end.\n",
      "Consider then, we come but in despite.\n",
      "We do not come, as minding to content you,\n",
      "Our true intent is.  All for your delight\n",
      "We are not here.  That you should here repent you,\n",
      "The actors are at hand, and, by their show,\n",
      "You shall know all that you are like to know.\n",
      "\n",
      "THESEUS.\n",
      "This fellow doth not stand upon points.\n",
      "\n",
      "LYSANDER.\n",
      "He hath rid his prologue like a rough colt; he knows not the stop. A\n",
      "good moral, my lord: it is not enough to speak, but to speak true.\n",
      "\n",
      "HIPPOLYTA.\n",
      "Indeed he hath played on this prologue like a child on a recorder; a\n",
      "sound, but not in government.\n",
      "\n",
      "THESEUS.\n",
      "His speech was like a tangled chain; nothing impaired, but all\n",
      "disordered. Who is next?\n",
      "\n",
      " Enter Pyramus and Thisbe, Wall, Moonshine and Lion as in dumb show.\n",
      "\n",
      "PROLOGUE\n",
      "Gentles, perchance you wonder at this show;\n",
      "But wonder on, till truth make all things plain.\n",
      "This man is Pyramus, if you would know;\n",
      "This beauteous lady Thisbe is certain.\n",
      "This man, with lime and rough-cast, doth present\n",
      "Wall, that vile wall which did these lovers sunder;\n",
      "And through Wall’s chink, poor souls, they are content\n",
      "To whisper, at the which let no man wonder.\n",
      "This man, with lanthern, dog, and bush of thorn,\n",
      "Presenteth Moonshine, for, if you will know,\n",
      "By moonshine did these lovers think no scorn\n",
      "To meet at Ninus’ tomb, there, there to woo.\n",
      "This grisly beast (which Lion hight by name)\n",
      "The trusty Thisbe, coming first by night,\n",
      "Did scare away, or rather did affright;\n",
      "And as she fled, her mantle she did fall;\n",
      "Which Lion vile with bloody mouth did stain.\n",
      "Anon comes Pyramus, sweet youth, and tall,\n",
      "And finds his trusty Thisbe’s mantle slain;\n",
      "Whereat with blade, with bloody blameful blade,\n",
      "He bravely broach’d his boiling bloody breast;\n",
      "And Thisbe, tarrying in mulberry shade,\n",
      "His dagger drew, and died. For all the rest,\n",
      "Let Lion, Moonshine, Wall, and lovers twain,\n",
      "At large discourse while here they do remain.\n",
      "\n",
      " [_Exeunt Prologue, Pyramus, Thisbe, Lion and Moonshine._]\n",
      "\n",
      "THESEUS.\n",
      "I wonder if the lion be to speak.\n",
      "\n",
      "DEMETRIUS.\n",
      "No wonder, my lord. One lion may, when many asses do.\n",
      "\n",
      "WALL.\n",
      "In this same interlude it doth befall\n",
      "That I, one Snout by name, present a wall:\n",
      "And such a wall as I would have you think\n",
      "That had in it a crannied hole or chink,\n",
      "Through which the lovers, Pyramus and Thisbe,\n",
      "Did whisper often very secretly.\n",
      "This loam, this rough-cast, and this stone, doth show\n",
      "That I am that same wall; the truth is so:\n",
      "And this the cranny is, right and sinister,\n",
      "Through which the fearful lovers are to whisper.\n",
      "\n",
      "THESEUS.\n",
      "Would you desire lime and hair to speak better?\n",
      "\n",
      "DEMETRIUS.\n",
      "It is the wittiest partition that ever I heard discourse, my lord.\n",
      "\n",
      "THESEUS.\n",
      "Pyramus draws near the wall; silence.\n",
      "\n",
      " Enter Pyramus.\n",
      "\n",
      "PYRAMUS.\n",
      "O grim-look’d night! O night with hue so black!\n",
      "O night, which ever art when day is not!\n",
      "O night, O night, alack, alack, alack,\n",
      "I fear my Thisbe’s promise is forgot!\n",
      "And thou, O wall, O sweet, O lovely wall,\n",
      "That stand’st between her father’s ground and mine;\n",
      "Thou wall, O wall, O sweet and lovely wall,\n",
      "Show me thy chink, to blink through with mine eyne.\n",
      "\n",
      " [_Wall holds up his fingers._]\n",
      "\n",
      "Thanks, courteous wall: Jove shield thee well for this!\n",
      "But what see I? No Thisbe do I see.\n",
      "O wicked wall, through whom I see no bliss,\n",
      "Curs’d be thy stones for thus deceiving me!\n",
      "\n",
      "THESEUS.\n",
      "The wall, methinks, being sensible, should curse again.\n",
      "\n",
      "PYRAMUS.\n",
      "No, in truth, sir, he should not. ‘Deceiving me’ is Thisbe’s cue: she\n",
      "is to enter now, and I am to spy her through the wall. You shall see it\n",
      "will fall pat as I told you. Yonder she comes.\n",
      "\n",
      " Enter Thisbe.\n",
      "\n",
      "THISBE.\n",
      "O wall, full often hast thou heard my moans,\n",
      "For parting my fair Pyramus and me.\n",
      "My cherry lips have often kiss’d thy stones,\n",
      "Thy stones with lime and hair knit up in thee.\n",
      "\n",
      "PYRAMUS.\n",
      "I see a voice; now will I to the chink,\n",
      "To spy an I can hear my Thisbe’s face.\n",
      "Thisbe?\n",
      "\n",
      "THISBE.\n",
      "My love thou art, my love I think.\n",
      "\n",
      "PYRAMUS.\n",
      "Think what thou wilt, I am thy lover’s grace;\n",
      "And like Limander am I trusty still.\n",
      "\n",
      "THISBE.\n",
      "And I like Helen, till the fates me kill.\n",
      "\n",
      "PYRAMUS.\n",
      "Not Shafalus to Procrus was so true.\n",
      "\n",
      "THISBE.\n",
      "As Shafalus to Procrus, I to you.\n",
      "\n",
      "PYRAMUS.\n",
      "O kiss me through the hole of this vile wall.\n",
      "\n",
      "THISBE.\n",
      "I kiss the wall’s hole, not your lips at all.\n",
      "\n",
      "PYRAMUS.\n",
      "Wilt thou at Ninny’s tomb meet me straightway?\n",
      "\n",
      "THISBE.\n",
      "’Tide life, ’tide death, I come without delay.\n",
      "\n",
      "WALL.\n",
      "Thus have I, Wall, my part discharged so;\n",
      "And, being done, thus Wall away doth go.\n",
      "\n",
      " [_Exeunt Wall, Pyramus and Thisbe._]\n",
      "\n",
      "THESEUS.\n",
      "Now is the mural down between the two neighbours.\n",
      "\n",
      "DEMETRIUS.\n",
      "No remedy, my lord, when walls are so wilful to hear without warning.\n",
      "\n",
      "HIPPOLYTA.\n",
      "This is the silliest stuff that ever I heard.\n",
      "\n",
      "THESEUS.\n",
      "The best in this kind are but shadows; and the worst are no worse, if\n",
      "imagination amend them.\n",
      "\n",
      "HIPPOLYTA.\n",
      "It must be your imagination then, and not theirs.\n",
      "\n",
      "THESEUS.\n",
      "If we imagine no worse of them than they of themselves, they may pass\n",
      "for excellent men. Here come two noble beasts in, a man and a lion.\n",
      "\n",
      " Enter Lion and Moonshine.\n",
      "\n",
      "LION.\n",
      "You, ladies, you, whose gentle hearts do fear\n",
      "The smallest monstrous mouse that creeps on floor,\n",
      "May now, perchance, both quake and tremble here,\n",
      "When lion rough in wildest rage doth roar.\n",
      "Then know that I, one Snug the joiner, am\n",
      "A lion fell, nor else no lion’s dam;\n",
      "For if I should as lion come in strife\n",
      "Into this place, ’twere pity on my life.\n",
      "\n",
      "THESEUS.\n",
      "A very gentle beast, and of a good conscience.\n",
      "\n",
      "DEMETRIUS.\n",
      "The very best at a beast, my lord, that e’er I saw.\n",
      "\n",
      "LYSANDER.\n",
      "This lion is a very fox for his valour.\n",
      "\n",
      "THESEUS.\n",
      "True; and a goose for his discretion.\n",
      "\n",
      "DEMETRIUS.\n",
      "Not so, my lord, for his valour cannot carry his discretion, and the\n",
      "fox carries the goose.\n",
      "\n",
      "THESEUS.\n",
      "His discretion, I am sure, cannot carry his valour; for the goose\n",
      "carries not the fox. It is well; leave it to his discretion, and let us\n",
      "listen to the moon.\n",
      "\n",
      "MOONSHINE.\n",
      "This lanthorn doth the hornèd moon present.\n",
      "\n",
      "DEMETRIUS.\n",
      "He should have worn the horns on his head.\n",
      "\n",
      "THESEUS.\n",
      "He is no crescent, and his horns are invisible within the\n",
      "circumference.\n",
      "\n",
      "MOONSHINE.\n",
      "This lanthorn doth the hornèd moon present;\n",
      "Myself the man i’ the moon do seem to be.\n",
      "\n",
      "THESEUS.\n",
      "This is the greatest error of all the rest; the man should be put into\n",
      "the lantern. How is it else the man i’ the moon?\n",
      "\n",
      "DEMETRIUS.\n",
      "He dares not come there for the candle, for you see, it is already in\n",
      "snuff.\n",
      "\n",
      "HIPPOLYTA.\n",
      "I am aweary of this moon. Would he would change!\n",
      "\n",
      "THESEUS.\n",
      "It appears by his small light of discretion that he is in the wane; but\n",
      "yet, in courtesy, in all reason, we must stay the time.\n",
      "\n",
      "LYSANDER.\n",
      "Proceed, Moon.\n",
      "\n",
      "MOON\n",
      "All that I have to say, is to tell you that the lantern is the moon; I\n",
      "the man i’ the moon; this thorn-bush my thorn-bush; and this dog my\n",
      "dog.\n",
      "\n",
      "DEMETRIUS.\n",
      "Why, all these should be in the lantern, for all these are in the moon.\n",
      "But silence; here comes Thisbe.\n",
      "\n",
      " Enter Thisbe.\n",
      "\n",
      "THISBE.\n",
      "This is old Ninny’s tomb. Where is my love?\n",
      "\n",
      "LION.\n",
      "Oh!\n",
      "\n",
      " [_The Lion roars, Thisbe runs off._]\n",
      "\n",
      "DEMETRIUS.\n",
      "Well roared, Lion.\n",
      "\n",
      "THESEUS.\n",
      "Well run, Thisbe.\n",
      "\n",
      "HIPPOLYTA.\n",
      "Well shone, Moon. Truly, the moon shines with a good grace.\n",
      "\n",
      " [_The Lion tears Thisbe’s mantle, and exit._]\n",
      "\n",
      "THESEUS.\n",
      "Well moused, Lion.\n",
      "\n",
      "DEMETRIUS.\n",
      "And then came Pyramus.\n",
      "\n",
      "LYSANDER.\n",
      "And so the lion vanished.\n",
      "\n",
      " Enter Pyramus.\n",
      "\n",
      "PYRAMUS.\n",
      "Sweet Moon, I thank thee for thy sunny beams;\n",
      "I thank thee, Moon, for shining now so bright;\n",
      "For, by thy gracious golden, glittering gleams,\n",
      "I trust to take of truest Thisbe sight.\n",
      "             But stay! O spite!\n",
      "             But mark, poor knight,\n",
      "         What dreadful dole is here!\n",
      "             Eyes, do you see?\n",
      "             How can it be?\n",
      "         O dainty duck! O dear!\n",
      "             Thy mantle good,\n",
      "             What, stained with blood?\n",
      "         Approach, ye Furies fell!\n",
      "             O Fates, come, come;\n",
      "             Cut thread and thrum;\n",
      "         Quail, rush, conclude, and quell!\n",
      "\n",
      "THESEUS.\n",
      "This passion, and the death of a dear friend, would go near to make a\n",
      "man look sad.\n",
      "\n",
      "HIPPOLYTA.\n",
      "Beshrew my heart, but I pity the man.\n",
      "\n",
      "PYRAMUS.\n",
      "O wherefore, Nature, didst thou lions frame,\n",
      "Since lion vile hath here deflower’d my dear?\n",
      "Which is—no, no—which was the fairest dame\n",
      "That liv’d, that lov’d, that lik’d, that look’d with cheer.\n",
      "             Come, tears, confound!\n",
      "             Out, sword, and wound\n",
      "         The pap of Pyramus;\n",
      "             Ay, that left pap,\n",
      "             Where heart doth hop:\n",
      "         Thus die I, thus, thus, thus.\n",
      "             Now am I dead,\n",
      "             Now am I fled;\n",
      "         My soul is in the sky.\n",
      "             Tongue, lose thy light!\n",
      "             Moon, take thy flight!\n",
      "         Now die, die, die, die, die.\n",
      "\n",
      " [_Dies. Exit Moonshine._]\n",
      "\n",
      "DEMETRIUS.\n",
      "No die, but an ace, for him; for he is but one.\n",
      "\n",
      "LYSANDER.\n",
      "Less than an ace, man; for he is dead, he is nothing.\n",
      "\n",
      "THESEUS.\n",
      "With the help of a surgeon he might yet recover and prove an ass.\n",
      "\n",
      "HIPPOLYTA.\n",
      "How chance Moonshine is gone before Thisbe comes back and finds her\n",
      "lover?\n",
      "\n",
      "\n",
      "THESEUS.\n",
      "She will find him by starlight.\n",
      "\n",
      " Enter Thisbe.\n",
      "\n",
      "Here she comes, and her passion ends the play.\n",
      "\n",
      "HIPPOLYTA.\n",
      "Methinks she should not use a long one for such a Pyramus. I hope she\n",
      "will be brief.\n",
      "\n",
      "DEMETRIUS.\n",
      "A mote will turn the balance, which Pyramus, which Thisbe, is the\n",
      "better: he for a man, God warrant us; she for a woman, God bless us!\n",
      "\n",
      "LYSANDER.\n",
      "She hath spied him already with those sweet eyes.\n",
      "\n",
      "DEMETRIUS.\n",
      "And thus she means, _videlicet_—\n",
      "\n",
      "THISBE.\n",
      "             Asleep, my love?\n",
      "             What, dead, my dove?\n",
      "         O Pyramus, arise,\n",
      "             Speak, speak. Quite dumb?\n",
      "             Dead, dead? A tomb\n",
      "         Must cover thy sweet eyes.\n",
      "             These lily lips,\n",
      "             This cherry nose,\n",
      "         These yellow cowslip cheeks,\n",
      "             Are gone, are gone!\n",
      "             Lovers, make moan;\n",
      "         His eyes were green as leeks.\n",
      "             O Sisters Three,\n",
      "             Come, come to me,\n",
      "         With hands as pale as milk;\n",
      "             Lay them in gore,\n",
      "             Since you have shore\n",
      "         With shears his thread of silk.\n",
      "             Tongue, not a word:\n",
      "             Come, trusty sword,\n",
      "         Come, blade, my breast imbrue;\n",
      "             And farewell, friends.\n",
      "             Thus Thisbe ends.\n",
      "         Adieu, adieu, adieu.\n",
      "\n",
      " [_Dies._]\n",
      "\n",
      "THESEUS.\n",
      "Moonshine and Lion are left to bury the dead.\n",
      "\n",
      "DEMETRIUS.\n",
      "Ay, and Wall too.\n",
      "\n",
      "BOTTOM.\n",
      "No, I assure you; the wall is down that parted their fathers. Will it\n",
      "please you to see the epilogue, or to hear a Bergomask dance between\n",
      "two of our company?\n",
      "\n",
      "THESEUS.\n",
      "No epilogue, I pray you; for your play needs no excuse. Never excuse;\n",
      "for when the players are all dead there need none to be blamed. Marry,\n",
      "if he that writ it had played Pyramus, and hanged himself in Thisbe’s\n",
      "garter, it would have been a fine tragedy; and so it is, truly; and\n",
      "very notably discharged. But come, your Bergomask; let your epilogue\n",
      "alone.\n",
      "\n",
      " [_Here a dance of Clowns._]\n",
      "\n",
      "The iron tongue of midnight hath told twelve.\n",
      "Lovers, to bed; ’tis almost fairy time.\n",
      "I fear we shall outsleep the coming morn\n",
      "As much as we this night have overwatch’d.\n",
      "This palpable-gross play hath well beguil’d\n",
      "The heavy gait of night. Sweet friends, to bed.\n",
      "A fortnight hold we this solemnity\n",
      "In nightly revels and new jollity.\n",
      "\n",
      " [_Exeunt._]\n",
      "\n",
      " Enter Puck.\n",
      "\n",
      "PUCK.\n",
      "   Now the hungry lion roars,\n",
      "      And the wolf behowls the moon;\n",
      "   Whilst the heavy ploughman snores,\n",
      "      All with weary task fordone.\n",
      "   Now the wasted brands do glow,\n",
      "      Whilst the screech-owl, screeching loud,\n",
      "   Puts the wretch that lies in woe\n",
      "      In remembrance of a shroud.\n",
      "   Now it is the time of night\n",
      "      That the graves, all gaping wide,\n",
      "   Every one lets forth his sprite,\n",
      "      In the church-way paths to glide.\n",
      "   And we fairies, that do run\n",
      "      By the triple Hecate’s team\n",
      "   From the presence of the sun,\n",
      "      Following darkness like a dream,\n",
      "   Now are frolic; not a mouse\n",
      "      Shall disturb this hallow’d house.\n",
      "   I am sent with broom before,\n",
      "      To sweep the dust behind the door.\n",
      "\n",
      " Enter Oberon and Titania with their Train.\n",
      "\n",
      "OBERON.\n",
      "   Through the house give glimmering light,\n",
      "        By the dead and drowsy fire.\n",
      "   Every elf and fairy sprite\n",
      "        Hop as light as bird from brier,\n",
      "   And this ditty after me,\n",
      "   Sing and dance it trippingly.\n",
      "\n",
      "TITANIA.\n",
      "   First rehearse your song by rote,\n",
      "        To each word a warbling note;\n",
      "   Hand in hand, with fairy grace,\n",
      "   Will we sing, and bless this place.\n",
      "\n",
      " [_Song and Dance._]\n",
      "\n",
      "OBERON.\n",
      "   Now, until the break of day,\n",
      "   Through this house each fairy stray.\n",
      "   To the best bride-bed will we,\n",
      "   Which by us shall blessèd be;\n",
      "   And the issue there create\n",
      "   Ever shall be fortunate.\n",
      "   So shall all the couples three\n",
      "   Ever true in loving be;\n",
      "   And the blots of Nature’s hand\n",
      "   Shall not in their issue stand:\n",
      "   Never mole, hare-lip, nor scar,\n",
      "   Nor mark prodigious, such as are\n",
      "   Despised in nativity,\n",
      "   Shall upon their children be.\n",
      "   With this field-dew consecrate,\n",
      "   Every fairy take his gait,\n",
      "   And each several chamber bless,\n",
      "   Through this palace, with sweet peace;\n",
      "   And the owner of it blest.\n",
      "   Ever shall it in safety rest,\n",
      "   Trip away. Make no stay;\n",
      "   Meet me all by break of day.\n",
      "\n",
      " [_Exeunt Oberon, Titania and Train._]\n",
      "\n",
      "PUCK.\n",
      "   If we shadows have offended,\n",
      "   Think but this, and all is mended,\n",
      "   That you have but slumber’d here\n",
      "   While these visions did appear.\n",
      "   And this weak and idle theme,\n",
      "   No more yielding but a dream,\n",
      "   Gentles, do not reprehend.\n",
      "   If you pardon, we will mend.\n",
      "   And, as I am an honest Puck,\n",
      "   If we have unearnèd luck\n",
      "   Now to ’scape the serpent’s tongue,\n",
      "   We will make amends ere long;\n",
      "   Else the Puck a liar call.\n",
      "   So, good night unto you all.\n",
      "   Give me your hands, if we be friends,\n",
      "   And Robin shall restore amends.\n",
      "\n",
      " [_Exit._]\n",
      "\n",
      "\n",
      "\n",
      "End of the Project Gutenberg EBook of A Midsummer Night’s Dream, by William Shakespeare\n",
      "\n",
      "*** END OF THIS PROJECT GUTENBERG EBOOK A MIDSUMMER NIGHT’S DREAM ***\n",
      "\n",
      "***** This file should be named 1514-0.txt or 1514-0.zip *****\n",
      "This and all associated files of various formats will be found in:\n",
      "        http://www.gutenberg.org/1/5/1/1514/\n",
      "\n",
      "This etext was prepared by the PG Shakespeare Team,\n",
      "a team of about twenty Project Gutenberg volunteers.\n",
      "HTML version prepared by Joseph E. Loewenstein, M.D.\n",
      "\n",
      "Updated editions will replace the previous one--the old editions will\n",
      "be renamed.\n",
      "\n",
      "Creating the works from print editions not protected by U.S. copyright\n",
      "law means that no one owns a United States copyright in these works,\n",
      "so the Foundation (and you!) can copy and distribute it in the United\n",
      "States without permission and without paying copyright\n",
      "royalties. Special rules, set forth in the General Terms of Use part\n",
      "of this license, apply to copying and distributing Project\n",
      "Gutenberg-tm electronic works to protect the PROJECT GUTENBERG-tm\n",
      "concept and trademark. Project Gutenberg is a registered trademark,\n",
      "and may not be used if you charge for the eBooks, unless you receive\n",
      "specific permission. If you do not charge anything for copies of this\n",
      "eBook, complying with the rules is very easy. You may use this eBook\n",
      "for nearly any purpose such as creation of derivative works, reports,\n",
      "performances and research. They may be modified and printed and given\n",
      "away--you may do practically ANYTHING in the United States with eBooks\n",
      "not protected by U.S. copyright law. Redistribution is subject to the\n",
      "trademark license, especially commercial redistribution.\n",
      "\n",
      "START: FULL LICENSE\n",
      "\n",
      "THE FULL PROJECT GUTENBERG LICENSE\n",
      "PLEASE READ THIS BEFORE YOU DISTRIBUTE OR USE THIS WORK\n",
      "\n",
      "To protect the Project Gutenberg-tm mission of promoting the free\n",
      "distribution of electronic works, by using or distributing this work\n",
      "(or any other work associated in any way with the phrase \"Project\n",
      "Gutenberg\"), you agree to comply with all the terms of the Full\n",
      "Project Gutenberg-tm License available with this file or online at\n",
      "www.gutenberg.org/license.\n",
      "\n",
      "Section 1. General Terms of Use and Redistributing Project\n",
      "Gutenberg-tm electronic works\n",
      "\n",
      "1.A. By reading or using any part of this Project Gutenberg-tm\n",
      "electronic work, you indicate that you have read, understand, agree to\n",
      "and accept all the terms of this license and intellectual property\n",
      "(trademark/copyright) agreement. If you do not agree to abide by all\n",
      "the terms of this agreement, you must cease using and return or\n",
      "destroy all copies of Project Gutenberg-tm electronic works in your\n",
      "possession. If you paid a fee for obtaining a copy of or access to a\n",
      "Project Gutenberg-tm electronic work and you do not agree to be bound\n",
      "by the terms of this agreement, you may obtain a refund from the\n",
      "person or entity to whom you paid the fee as set forth in paragraph\n",
      "1.E.8.\n",
      "\n",
      "1.B. \"Project Gutenberg\" is a registered trademark. It may only be\n",
      "used on or associated in any way with an electronic work by people who\n",
      "agree to be bound by the terms of this agreement. There are a few\n",
      "things that you can do with most Project Gutenberg-tm electronic works\n",
      "even without complying with the full terms of this agreement. See\n",
      "paragraph 1.C below. There are a lot of things you can do with Project\n",
      "Gutenberg-tm electronic works if you follow the terms of this\n",
      "agreement and help preserve free future access to Project Gutenberg-tm\n",
      "electronic works. See paragraph 1.E below.\n",
      "\n",
      "1.C. The Project Gutenberg Literary Archive Foundation (\"the\n",
      "Foundation\" or PGLAF), owns a compilation copyright in the collection\n",
      "of Project Gutenberg-tm electronic works. Nearly all the individual\n",
      "works in the collection are in the public domain in the United\n",
      "States. If an individual work is unprotected by copyright law in the\n",
      "United States and you are located in the United States, we do not\n",
      "claim a right to prevent you from copying, distributing, performing,\n",
      "displaying or creating derivative works based on the work as long as\n",
      "all references to Project Gutenberg are removed. Of course, we hope\n",
      "that you will support the Project Gutenberg-tm mission of promoting\n",
      "free access to electronic works by freely sharing Project Gutenberg-tm\n",
      "works in compliance with the terms of this agreement for keeping the\n",
      "Project Gutenberg-tm name associated with the work. You can easily\n",
      "comply with the terms of this agreement by keeping this work in the\n",
      "same format with its attached full Project Gutenberg-tm License when\n",
      "you share it without charge with others.\n",
      "\n",
      "1.D. The copyright laws of the place where you are located also govern\n",
      "what you can do with this work. Copyright laws in most countries are\n",
      "in a constant state of change. If you are outside the United States,\n",
      "check the laws of your country in addition to the terms of this\n",
      "agreement before downloading, copying, displaying, performing,\n",
      "distributing or creating derivative works based on this work or any\n",
      "other Project Gutenberg-tm work. The Foundation makes no\n",
      "representations concerning the copyright status of any work in any\n",
      "country outside the United States.\n",
      "\n",
      "1.E. Unless you have removed all references to Project Gutenberg:\n",
      "\n",
      "1.E.1. The following sentence, with active links to, or other\n",
      "immediate access to, the full Project Gutenberg-tm License must appear\n",
      "prominently whenever any copy of a Project Gutenberg-tm work (any work\n",
      "on which the phrase \"Project Gutenberg\" appears, or with which the\n",
      "phrase \"Project Gutenberg\" is associated) is accessed, displayed,\n",
      "performed, viewed, copied or distributed:\n",
      "\n",
      "  This eBook is for the use of anyone anywhere in the United States and\n",
      "  most other parts of the world at no cost and with almost no\n",
      "  restrictions whatsoever. You may copy it, give it away or re-use it\n",
      "  under the terms of the Project Gutenberg License included with this\n",
      "  eBook or online at www.gutenberg.org. If you are not located in the\n",
      "  United States, you'll have to check the laws of the country where you\n",
      "  are located before using this ebook.\n",
      "\n",
      "1.E.2. If an individual Project Gutenberg-tm electronic work is\n",
      "derived from texts not protected by U.S. copyright law (does not\n",
      "contain a notice indicating that it is posted with permission of the\n",
      "copyright holder), the work can be copied and distributed to anyone in\n",
      "the United States without paying any fees or charges. If you are\n",
      "redistributing or providing access to a work with the phrase \"Project\n",
      "Gutenberg\" associated with or appearing on the work, you must comply\n",
      "either with the requirements of paragraphs 1.E.1 through 1.E.7 or\n",
      "obtain permission for the use of the work and the Project Gutenberg-tm\n",
      "trademark as set forth in paragraphs 1.E.8 or 1.E.9.\n",
      "\n",
      "1.E.3. If an individual Project Gutenberg-tm electronic work is posted\n",
      "with the permission of the copyright holder, your use and distribution\n",
      "must comply with both paragraphs 1.E.1 through 1.E.7 and any\n",
      "additional terms imposed by the copyright holder. Additional terms\n",
      "will be linked to the Project Gutenberg-tm License for all works\n",
      "posted with the permission of the copyright holder found at the\n",
      "beginning of this work.\n",
      "\n",
      "1.E.4. Do not unlink or detach or remove the full Project Gutenberg-tm\n",
      "License terms from this work, or any files containing a part of this\n",
      "work or any other work associated with Project Gutenberg-tm.\n",
      "\n",
      "1.E.5. Do not copy, display, perform, distribute or redistribute this\n",
      "electronic work, or any part of this electronic work, without\n",
      "prominently displaying the sentence set forth in paragraph 1.E.1 with\n",
      "active links or immediate access to the full terms of the Project\n",
      "Gutenberg-tm License.\n",
      "\n",
      "1.E.6. You may convert to and distribute this work in any binary,\n",
      "compressed, marked up, nonproprietary or proprietary form, including\n",
      "any word processing or hypertext form. However, if you provide access\n",
      "to or distribute copies of a Project Gutenberg-tm work in a format\n",
      "other than \"Plain Vanilla ASCII\" or other format used in the official\n",
      "version posted on the official Project Gutenberg-tm web site\n",
      "(www.gutenberg.org), you must, at no additional cost, fee or expense\n",
      "to the user, provide a copy, a means of exporting a copy, or a means\n",
      "of obtaining a copy upon request, of the work in its original \"Plain\n",
      "Vanilla ASCII\" or other form. Any alternate format must include the\n",
      "full Project Gutenberg-tm License as specified in paragraph 1.E.1.\n",
      "\n",
      "1.E.7. Do not charge a fee for access to, viewing, displaying,\n",
      "performing, copying or distributing any Project Gutenberg-tm works\n",
      "unless you comply with paragraph 1.E.8 or 1.E.9.\n",
      "\n",
      "1.E.8. You may charge a reasonable fee for copies of or providing\n",
      "access to or distributing Project Gutenberg-tm electronic works\n",
      "provided that\n",
      "\n",
      "* You pay a royalty fee of 20% of the gross profits you derive from\n",
      "  the use of Project Gutenberg-tm works calculated using the method\n",
      "  you already use to calculate your applicable taxes. The fee is owed\n",
      "  to the owner of the Project Gutenberg-tm trademark, but he has\n",
      "  agreed to donate royalties under this paragraph to the Project\n",
      "  Gutenberg Literary Archive Foundation. Royalty payments must be paid\n",
      "  within 60 days following each date on which you prepare (or are\n",
      "  legally required to prepare) your periodic tax returns. Royalty\n",
      "  payments should be clearly marked as such and sent to the Project\n",
      "  Gutenberg Literary Archive Foundation at the address specified in\n",
      "  Section 4, \"Information about donations to the Project Gutenberg\n",
      "  Literary Archive Foundation.\"\n",
      "\n",
      "* You provide a full refund of any money paid by a user who notifies\n",
      "  you in writing (or by e-mail) within 30 days of receipt that s/he\n",
      "  does not agree to the terms of the full Project Gutenberg-tm\n",
      "  License. You must require such a user to return or destroy all\n",
      "  copies of the works possessed in a physical medium and discontinue\n",
      "  all use of and all access to other copies of Project Gutenberg-tm\n",
      "  works.\n",
      "\n",
      "* You provide, in accordance with paragraph 1.F.3, a full refund of\n",
      "  any money paid for a work or a replacement copy, if a defect in the\n",
      "  electronic work is discovered and reported to you within 90 days of\n",
      "  receipt of the work.\n",
      "\n",
      "* You comply with all other terms of this agreement for free\n",
      "  distribution of Project Gutenberg-tm works.\n",
      "\n",
      "1.E.9. If you wish to charge a fee or distribute a Project\n",
      "Gutenberg-tm electronic work or group of works on different terms than\n",
      "are set forth in this agreement, you must obtain permission in writing\n",
      "from both the Project Gutenberg Literary Archive Foundation and The\n",
      "Project Gutenberg Trademark LLC, the owner of the Project Gutenberg-tm\n",
      "trademark. Contact the Foundation as set forth in Section 3 below.\n",
      "\n",
      "1.F.\n",
      "\n",
      "1.F.1. Project Gutenberg volunteers and employees expend considerable\n",
      "effort to identify, do copyright research on, transcribe and proofread\n",
      "works not protected by U.S. copyright law in creating the Project\n",
      "Gutenberg-tm collection. Despite these efforts, Project Gutenberg-tm\n",
      "electronic works, and the medium on which they may be stored, may\n",
      "contain \"Defects,\" such as, but not limited to, incomplete, inaccurate\n",
      "or corrupt data, transcription errors, a copyright or other\n",
      "intellectual property infringement, a defective or damaged disk or\n",
      "other medium, a computer virus, or computer codes that damage or\n",
      "cannot be read by your equipment.\n",
      "\n",
      "1.F.2. LIMITED WARRANTY, DISCLAIMER OF DAMAGES - Except for the \"Right\n",
      "of Replacement or Refund\" described in paragraph 1.F.3, the Project\n",
      "Gutenberg Literary Archive Foundation, the owner of the Project\n",
      "Gutenberg-tm trademark, and any other party distributing a Project\n",
      "Gutenberg-tm electronic work under this agreement, disclaim all\n",
      "liability to you for damages, costs and expenses, including legal\n",
      "fees. YOU AGREE THAT YOU HAVE NO REMEDIES FOR NEGLIGENCE, STRICT\n",
      "LIABILITY, BREACH OF WARRANTY OR BREACH OF CONTRACT EXCEPT THOSE\n",
      "PROVIDED IN PARAGRAPH 1.F.3. YOU AGREE THAT THE FOUNDATION, THE\n",
      "TRADEMARK OWNER, AND ANY DISTRIBUTOR UNDER THIS AGREEMENT WILL NOT BE\n",
      "LIABLE TO YOU FOR ACTUAL, DIRECT, INDIRECT, CONSEQUENTIAL, PUNITIVE OR\n",
      "INCIDENTAL DAMAGES EVEN IF YOU GIVE NOTICE OF THE POSSIBILITY OF SUCH\n",
      "DAMAGE.\n",
      "\n",
      "1.F.3. LIMITED RIGHT OF REPLACEMENT OR REFUND - If you discover a\n",
      "defect in this electronic work within 90 days of receiving it, you can\n",
      "receive a refund of the money (if any) you paid for it by sending a\n",
      "written explanation to the person you received the work from. If you\n",
      "received the work on a physical medium, you must return the medium\n",
      "with your written explanation. The person or entity that provided you\n",
      "with the defective work may elect to provide a replacement copy in\n",
      "lieu of a refund. If you received the work electronically, the person\n",
      "or entity providing it to you may choose to give you a second\n",
      "opportunity to receive the work electronically in lieu of a refund. If\n",
      "the second copy is also defective, you may demand a refund in writing\n",
      "without further opportunities to fix the problem.\n",
      "\n",
      "1.F.4. Except for the limited right of replacement or refund set forth\n",
      "in paragraph 1.F.3, this work is provided to you 'AS-IS', WITH NO\n",
      "OTHER WARRANTIES OF ANY KIND, EXPRESS OR IMPLIED, INCLUDING BUT NOT\n",
      "LIMITED TO WARRANTIES OF MERCHANTABILITY OR FITNESS FOR ANY PURPOSE.\n",
      "\n",
      "1.F.5. Some states do not allow disclaimers of certain implied\n",
      "warranties or the exclusion or limitation of certain types of\n",
      "damages. If any disclaimer or limitation set forth in this agreement\n",
      "violates the law of the state applicable to this agreement, the\n",
      "agreement shall be interpreted to make the maximum disclaimer or\n",
      "limitation permitted by the applicable state law. The invalidity or\n",
      "unenforceability of any provision of this agreement shall not void the\n",
      "remaining provisions.\n",
      "\n",
      "1.F.6. INDEMNITY - You agree to indemnify and hold the Foundation, the\n",
      "trademark owner, any agent or employee of the Foundation, anyone\n",
      "providing copies of Project Gutenberg-tm electronic works in\n",
      "accordance with this agreement, and any volunteers associated with the\n",
      "production, promotion and distribution of Project Gutenberg-tm\n",
      "electronic works, harmless from all liability, costs and expenses,\n",
      "including legal fees, that arise directly or indirectly from any of\n",
      "the following which you do or cause to occur: (a) distribution of this\n",
      "or any Project Gutenberg-tm work, (b) alteration, modification, or\n",
      "additions or deletions to any Project Gutenberg-tm work, and (c) any\n",
      "Defect you cause.\n",
      "\n",
      "Section 2. Information about the Mission of Project Gutenberg-tm\n",
      "\n",
      "Project Gutenberg-tm is synonymous with the free distribution of\n",
      "electronic works in formats readable by the widest variety of\n",
      "computers including obsolete, old, middle-aged and new computers. It\n",
      "exists because of the efforts of hundreds of volunteers and donations\n",
      "from people in all walks of life.\n",
      "\n",
      "Volunteers and financial support to provide volunteers with the\n",
      "assistance they need are critical to reaching Project Gutenberg-tm's\n",
      "goals and ensuring that the Project Gutenberg-tm collection will\n",
      "remain freely available for generations to come. In 2001, the Project\n",
      "Gutenberg Literary Archive Foundation was created to provide a secure\n",
      "and permanent future for Project Gutenberg-tm and future\n",
      "generations. To learn more about the Project Gutenberg Literary\n",
      "Archive Foundation and how your efforts and donations can help, see\n",
      "Sections 3 and 4 and the Foundation information page at\n",
      "www.gutenberg.org\n",
      "\n",
      "\n",
      "\n",
      "Section 3. Information about the Project Gutenberg Literary Archive Foundation\n",
      "\n",
      "The Project Gutenberg Literary Archive Foundation is a non profit\n",
      "501(c)(3) educational corporation organized under the laws of the\n",
      "state of Mississippi and granted tax exempt status by the Internal\n",
      "Revenue Service. The Foundation's EIN or federal tax identification\n",
      "number is 64-6221541. Contributions to the Project Gutenberg Literary\n",
      "Archive Foundation are tax deductible to the full extent permitted by\n",
      "U.S. federal laws and your state's laws.\n",
      "\n",
      "The Foundation's principal office is in Fairbanks, Alaska, with the\n",
      "mailing address: PO Box 750175, Fairbanks, AK 99775, but its\n",
      "volunteers and employees are scattered throughout numerous\n",
      "locations. Its business office is located at 809 North 1500 West, Salt\n",
      "Lake City, UT 84116, (801) 596-1887. Email contact links and up to\n",
      "date contact information can be found at the Foundation's web site and\n",
      "official page at www.gutenberg.org/contact\n",
      "\n",
      "For additional contact information:\n",
      "\n",
      "    Dr. Gregory B. Newby\n",
      "    Chief Executive and Director\n",
      "    gbnewby@pglaf.org\n",
      "\n",
      "Section 4. Information about Donations to the Project Gutenberg\n",
      "Literary Archive Foundation\n",
      "\n",
      "Project Gutenberg-tm depends upon and cannot survive without wide\n",
      "spread public support and donations to carry out its mission of\n",
      "increasing the number of public domain and licensed works that can be\n",
      "freely distributed in machine readable form accessible by the widest\n",
      "array of equipment including outdated equipment. Many small donations\n",
      "($1 to $5,000) are particularly important to maintaining tax exempt\n",
      "status with the IRS.\n",
      "\n",
      "The Foundation is committed to complying with the laws regulating\n",
      "charities and charitable donations in all 50 states of the United\n",
      "States. Compliance requirements are not uniform and it takes a\n",
      "considerable effort, much paperwork and many fees to meet and keep up\n",
      "with these requirements. We do not solicit donations in locations\n",
      "where we have not received written confirmation of compliance. To SEND\n",
      "DONATIONS or determine the status of compliance for any particular\n",
      "state visit www.gutenberg.org/donate\n",
      "\n",
      "While we cannot and do not solicit contributions from states where we\n",
      "have not met the solicitation requirements, we know of no prohibition\n",
      "against accepting unsolicited donations from donors in such states who\n",
      "approach us with offers to donate.\n",
      "\n",
      "International donations are gratefully accepted, but we cannot make\n",
      "any statements concerning tax treatment of donations received from\n",
      "outside the United States. U.S. laws alone swamp our small staff.\n",
      "\n",
      "Please check the Project Gutenberg Web pages for current donation\n",
      "methods and addresses. Donations are accepted in a number of other\n",
      "ways including checks, online payments and credit card donations. To\n",
      "donate, please visit: www.gutenberg.org/donate\n",
      "\n",
      "Section 5. General Information About Project Gutenberg-tm electronic works.\n",
      "\n",
      "Professor Michael S. Hart was the originator of the Project\n",
      "Gutenberg-tm concept of a library of electronic works that could be\n",
      "freely shared with anyone. For forty years, he produced and\n",
      "distributed Project Gutenberg-tm eBooks with only a loose network of\n",
      "volunteer support.\n",
      "\n",
      "Project Gutenberg-tm eBooks are often created from several printed\n",
      "editions, all of which are confirmed as not protected by copyright in\n",
      "the U.S. unless a copyright notice is included. Thus, we do not\n",
      "necessarily keep eBooks in compliance with any particular paper\n",
      "edition.\n",
      "\n",
      "Most people start at our Web site which has the main PG search\n",
      "facility: www.gutenberg.org\n",
      "\n",
      "This Web site includes information about Project Gutenberg-tm,\n",
      "including how to make donations to the Project Gutenberg Literary\n",
      "Archive Foundation, how to help produce our new eBooks, and how to\n",
      "subscribe to our email newsletter to hear about new eBooks.\n",
      "\n",
      "\n",
      "\n",
      "\n",
      "\n"
     ]
    }
   ],
   "source": [
    "print(scenes[9])"
   ]
  },
  {
   "cell_type": "code",
   "execution_count": 10,
   "metadata": {},
   "outputs": [
    {
     "name": "stdout",
     "output_type": "stream",
     "text": [
      "I. Athens. An Apartment in the Palace of Theseus\n",
      "\n",
      " Enter Theseus, Hippolyta, Philostrate, Lords and Attendants.\n",
      "\n",
      "HIPPOLYTA.\n",
      "’Tis strange, my Theseus, that these lovers speak of.\n",
      "\n",
      "THESEUS.\n",
      "More strange than true. I never may believe\n",
      "These antique fables, nor these fairy toys.\n",
      "Lovers and madmen have such seething brains,\n",
      "Such shaping fantasies, that apprehend\n",
      "More than cool reason ever comprehends.\n",
      "The lunatic, the lover, and the poet\n",
      "Are of imagination all compact:\n",
      "One sees more devils than vast hell can hold;\n",
      "That is the madman: the lover, all as frantic,\n",
      "Sees Helen’s beauty in a brow of Egypt:\n",
      "The poet’s eye, in a fine frenzy rolling,\n",
      "Doth glance from heaven to earth, from earth to heaven;\n",
      "And as imagination bodies forth\n",
      "The forms of things unknown, the poet’s pen\n",
      "Turns them to shapes, and gives to airy nothing\n",
      "A local habitation and a name.\n",
      "Such tricks hath strong imagination,\n",
      "That if it would but apprehend some joy,\n",
      "It comprehends some bringer of that joy.\n",
      "Or in the night, imagining some fear,\n",
      "How easy is a bush supposed a bear?\n",
      "\n",
      "HIPPOLYTA.\n",
      "But all the story of the night told over,\n",
      "And all their minds transfigur’d so together,\n",
      "More witnesseth than fancy’s images,\n",
      "And grows to something of great constancy;\n",
      "But, howsoever, strange and admirable.\n",
      "\n",
      " Enter lovers: Lysander, Demetrius, Hermia and Helena.\n",
      "\n",
      "THESEUS.\n",
      "Here come the lovers, full of joy and mirth.\n",
      "Joy, gentle friends, joy and fresh days of love\n",
      "Accompany your hearts!\n",
      "\n",
      "LYSANDER.\n",
      "More than to us\n",
      "Wait in your royal walks, your board, your bed!\n",
      "\n",
      "THESEUS.\n",
      "Come now; what masques, what dances shall we have,\n",
      "To wear away this long age of three hours\n",
      "Between our after-supper and bed-time?\n",
      "Where is our usual manager of mirth?\n",
      "What revels are in hand? Is there no play\n",
      "To ease the anguish of a torturing hour?\n",
      "Call Philostrate.\n",
      "\n",
      "PHILOSTRATE.\n",
      "Here, mighty Theseus.\n",
      "\n",
      "THESEUS.\n",
      "Say, what abridgment have you for this evening?\n",
      "What masque? What music? How shall we beguile\n",
      "The lazy time, if not with some delight?\n",
      "\n",
      "PHILOSTRATE.\n",
      "There is a brief how many sports are ripe.\n",
      "Make choice of which your Highness will see first.\n",
      "\n",
      " [_Giving a paper._]\n",
      "\n",
      "THESEUS.\n",
      "[_Reads_] ‘The battle with the Centaurs, to be sung\n",
      "By an Athenian eunuch to the harp.’\n",
      "We’ll none of that. That have I told my love\n",
      "In glory of my kinsman Hercules.\n",
      "‘The riot of the tipsy Bacchanals,\n",
      "Tearing the Thracian singer in their rage?’\n",
      "That is an old device, and it was play’d\n",
      "When I from Thebes came last a conqueror.\n",
      "‘The thrice three Muses mourning for the death\n",
      "Of learning, late deceas’d in beggary.’\n",
      "That is some satire, keen and critical,\n",
      "Not sorting with a nuptial ceremony.\n",
      "‘A tedious brief scene of young Pyramus\n",
      "And his love Thisbe; very tragical mirth.’\n",
      "Merry and tragical? Tedious and brief?\n",
      "That is hot ice and wondrous strange snow.\n",
      "How shall we find the concord of this discord?\n",
      "\n",
      "PHILOSTRATE.\n",
      "A play there is, my lord, some ten words long,\n",
      "Which is as brief as I have known a play;\n",
      "But by ten words, my lord, it is too long,\n",
      "Which makes it tedious. For in all the play\n",
      "There is not one word apt, one player fitted.\n",
      "And tragical, my noble lord, it is.\n",
      "For Pyramus therein doth kill himself,\n",
      "Which, when I saw rehears’d, I must confess,\n",
      "Made mine eyes water; but more merry tears\n",
      "The passion of loud laughter never shed.\n",
      "\n",
      "THESEUS.\n",
      "What are they that do play it?\n",
      "\n",
      "PHILOSTRATE.\n",
      "Hard-handed men that work in Athens here,\n",
      "Which never labour’d in their minds till now;\n",
      "And now have toil’d their unbreath’d memories\n",
      "With this same play against your nuptial.\n",
      "\n",
      "THESEUS.\n",
      "And we will hear it.\n",
      "\n",
      "PHILOSTRATE.\n",
      "No, my noble lord,\n",
      "It is not for you: I have heard it over,\n",
      "And it is nothing, nothing in the world;\n",
      "Unless you can find sport in their intents,\n",
      "Extremely stretch’d and conn’d with cruel pain\n",
      "To do you service.\n",
      "\n",
      "THESEUS.\n",
      "I will hear that play;\n",
      "For never anything can be amiss\n",
      "When simpleness and duty tender it.\n",
      "Go, bring them in: and take your places, ladies.\n",
      "\n",
      " [_Exit Philostrate._]\n",
      "\n",
      "HIPPOLYTA.\n",
      "I love not to see wretchedness o’ercharged,\n",
      "And duty in his service perishing.\n",
      "\n",
      "THESEUS.\n",
      "Why, gentle sweet, you shall see no such thing.\n",
      "\n",
      "HIPPOLYTA.\n",
      "He says they can do nothing in this kind.\n",
      "\n",
      "THESEUS.\n",
      "The kinder we, to give them thanks for nothing.\n",
      "Our sport shall be to take what they mistake:\n",
      "And what poor duty cannot do, noble respect\n",
      "Takes it in might, not merit.\n",
      "Where I have come, great clerks have purposed\n",
      "To greet me with premeditated welcomes;\n",
      "Where I have seen them shiver and look pale,\n",
      "Make periods in the midst of sentences,\n",
      "Throttle their practis’d accent in their fears,\n",
      "And, in conclusion, dumbly have broke off,\n",
      "Not paying me a welcome. Trust me, sweet,\n",
      "Out of this silence yet I pick’d a welcome;\n",
      "And in the modesty of fearful duty\n",
      "I read as much as from the rattling tongue\n",
      "Of saucy and audacious eloquence.\n",
      "Love, therefore, and tongue-tied simplicity\n",
      "In least speak most to my capacity.\n",
      "\n",
      " Enter Philostrate.\n",
      "\n",
      "PHILOSTRATE.\n",
      "So please your grace, the Prologue is address’d.\n",
      "\n",
      "THESEUS.\n",
      "Let him approach.\n",
      "\n",
      " Flourish of trumpets. Enter the Prologue.\n",
      "\n",
      "PROLOGUE\n",
      "If we offend, it is with our good will.\n",
      "That you should think, we come not to offend,\n",
      "But with good will.  To show our simple skill,\n",
      "That is the true beginning of our end.\n",
      "Consider then, we come but in despite.\n",
      "We do not come, as minding to content you,\n",
      "Our true intent is.  All for your delight\n",
      "We are not here.  That you should here repent you,\n",
      "The actors are at hand, and, by their show,\n",
      "You shall know all that you are like to know.\n",
      "\n",
      "THESEUS.\n",
      "This fellow doth not stand upon points.\n",
      "\n",
      "LYSANDER.\n",
      "He hath rid his prologue like a rough colt; he knows not the stop. A\n",
      "good moral, my lord: it is not enough to speak, but to speak true.\n",
      "\n",
      "HIPPOLYTA.\n",
      "Indeed he hath played on this prologue like a child on a recorder; a\n",
      "sound, but not in government.\n",
      "\n",
      "THESEUS.\n",
      "His speech was like a tangled chain; nothing impaired, but all\n",
      "disordered. Who is next?\n",
      "\n",
      " Enter Pyramus and Thisbe, Wall, Moonshine and Lion as in dumb show.\n",
      "\n",
      "PROLOGUE\n",
      "Gentles, perchance you wonder at this show;\n",
      "But wonder on, till truth make all things plain.\n",
      "This man is Pyramus, if you would know;\n",
      "This beauteous lady Thisbe is certain.\n",
      "This man, with lime and rough-cast, doth present\n",
      "Wall, that vile wall which did these lovers sunder;\n",
      "And through Wall’s chink, poor souls, they are content\n",
      "To whisper, at the which let no man wonder.\n",
      "This man, with lanthern, dog, and bush of thorn,\n",
      "Presenteth Moonshine, for, if you will know,\n",
      "By moonshine did these lovers think no scorn\n",
      "To meet at Ninus’ tomb, there, there to woo.\n",
      "This grisly beast (which Lion hight by name)\n",
      "The trusty Thisbe, coming first by night,\n",
      "Did scare away, or rather did affright;\n",
      "And as she fled, her mantle she did fall;\n",
      "Which Lion vile with bloody mouth did stain.\n",
      "Anon comes Pyramus, sweet youth, and tall,\n",
      "And finds his trusty Thisbe’s mantle slain;\n",
      "Whereat with blade, with bloody blameful blade,\n",
      "He bravely broach’d his boiling bloody breast;\n",
      "And Thisbe, tarrying in mulberry shade,\n",
      "His dagger drew, and died. For all the rest,\n",
      "Let Lion, Moonshine, Wall, and lovers twain,\n",
      "At large discourse while here they do remain.\n",
      "\n",
      " [_Exeunt Prologue, Pyramus, Thisbe, Lion and Moonshine._]\n",
      "\n",
      "THESEUS.\n",
      "I wonder if the lion be to speak.\n",
      "\n",
      "DEMETRIUS.\n",
      "No wonder, my lord. One lion may, when many asses do.\n",
      "\n",
      "WALL.\n",
      "In this same interlude it doth befall\n",
      "That I, one Snout by name, present a wall:\n",
      "And such a wall as I would have you think\n",
      "That had in it a crannied hole or chink,\n",
      "Through which the lovers, Pyramus and Thisbe,\n",
      "Did whisper often very secretly.\n",
      "This loam, this rough-cast, and this stone, doth show\n",
      "That I am that same wall; the truth is so:\n",
      "And this the cranny is, right and sinister,\n",
      "Through which the fearful lovers are to whisper.\n",
      "\n",
      "THESEUS.\n",
      "Would you desire lime and hair to speak better?\n",
      "\n",
      "DEMETRIUS.\n",
      "It is the wittiest partition that ever I heard discourse, my lord.\n",
      "\n",
      "THESEUS.\n",
      "Pyramus draws near the wall; silence.\n",
      "\n",
      " Enter Pyramus.\n",
      "\n",
      "PYRAMUS.\n",
      "O grim-look’d night! O night with hue so black!\n",
      "O night, which ever art when day is not!\n",
      "O night, O night, alack, alack, alack,\n",
      "I fear my Thisbe’s promise is forgot!\n",
      "And thou, O wall, O sweet, O lovely wall,\n",
      "That stand’st between her father’s ground and mine;\n",
      "Thou wall, O wall, O sweet and lovely wall,\n",
      "Show me thy chink, to blink through with mine eyne.\n",
      "\n",
      " [_Wall holds up his fingers._]\n",
      "\n",
      "Thanks, courteous wall: Jove shield thee well for this!\n",
      "But what see I? No Thisbe do I see.\n",
      "O wicked wall, through whom I see no bliss,\n",
      "Curs’d be thy stones for thus deceiving me!\n",
      "\n",
      "THESEUS.\n",
      "The wall, methinks, being sensible, should curse again.\n",
      "\n",
      "PYRAMUS.\n",
      "No, in truth, sir, he should not. ‘Deceiving me’ is Thisbe’s cue: she\n",
      "is to enter now, and I am to spy her through the wall. You shall see it\n",
      "will fall pat as I told you. Yonder she comes.\n",
      "\n",
      " Enter Thisbe.\n",
      "\n",
      "THISBE.\n",
      "O wall, full often hast thou heard my moans,\n",
      "For parting my fair Pyramus and me.\n",
      "My cherry lips have often kiss’d thy stones,\n",
      "Thy stones with lime and hair knit up in thee.\n",
      "\n",
      "PYRAMUS.\n",
      "I see a voice; now will I to the chink,\n",
      "To spy an I can hear my Thisbe’s face.\n",
      "Thisbe?\n",
      "\n",
      "THISBE.\n",
      "My love thou art, my love I think.\n",
      "\n",
      "PYRAMUS.\n",
      "Think what thou wilt, I am thy lover’s grace;\n",
      "And like Limander am I trusty still.\n",
      "\n",
      "THISBE.\n",
      "And I like Helen, till the fates me kill.\n",
      "\n",
      "PYRAMUS.\n",
      "Not Shafalus to Procrus was so true.\n",
      "\n",
      "THISBE.\n",
      "As Shafalus to Procrus, I to you.\n",
      "\n",
      "PYRAMUS.\n",
      "O kiss me through the hole of this vile wall.\n",
      "\n",
      "THISBE.\n",
      "I kiss the wall’s hole, not your lips at all.\n",
      "\n",
      "PYRAMUS.\n",
      "Wilt thou at Ninny’s tomb meet me straightway?\n",
      "\n",
      "THISBE.\n",
      "’Tide life, ’tide death, I come without delay.\n",
      "\n",
      "WALL.\n",
      "Thus have I, Wall, my part discharged so;\n",
      "And, being done, thus Wall away doth go.\n",
      "\n",
      " [_Exeunt Wall, Pyramus and Thisbe._]\n",
      "\n",
      "THESEUS.\n",
      "Now is the mural down between the two neighbours.\n",
      "\n",
      "DEMETRIUS.\n",
      "No remedy, my lord, when walls are so wilful to hear without warning.\n",
      "\n",
      "HIPPOLYTA.\n",
      "This is the silliest stuff that ever I heard.\n",
      "\n",
      "THESEUS.\n",
      "The best in this kind are but shadows; and the worst are no worse, if\n",
      "imagination amend them.\n",
      "\n",
      "HIPPOLYTA.\n",
      "It must be your imagination then, and not theirs.\n",
      "\n",
      "THESEUS.\n",
      "If we imagine no worse of them than they of themselves, they may pass\n",
      "for excellent men. Here come two noble beasts in, a man and a lion.\n",
      "\n",
      " Enter Lion and Moonshine.\n",
      "\n",
      "LION.\n",
      "You, ladies, you, whose gentle hearts do fear\n",
      "The smallest monstrous mouse that creeps on floor,\n",
      "May now, perchance, both quake and tremble here,\n",
      "When lion rough in wildest rage doth roar.\n",
      "Then know that I, one Snug the joiner, am\n",
      "A lion fell, nor else no lion’s dam;\n",
      "For if I should as lion come in strife\n",
      "Into this place, ’twere pity on my life.\n",
      "\n",
      "THESEUS.\n",
      "A very gentle beast, and of a good conscience.\n",
      "\n",
      "DEMETRIUS.\n",
      "The very best at a beast, my lord, that e’er I saw.\n",
      "\n",
      "LYSANDER.\n",
      "This lion is a very fox for his valour.\n",
      "\n",
      "THESEUS.\n",
      "True; and a goose for his discretion.\n",
      "\n",
      "DEMETRIUS.\n",
      "Not so, my lord, for his valour cannot carry his discretion, and the\n",
      "fox carries the goose.\n",
      "\n",
      "THESEUS.\n",
      "His discretion, I am sure, cannot carry his valour; for the goose\n",
      "carries not the fox. It is well; leave it to his discretion, and let us\n",
      "listen to the moon.\n",
      "\n",
      "MOONSHINE.\n",
      "This lanthorn doth the hornèd moon present.\n",
      "\n",
      "DEMETRIUS.\n",
      "He should have worn the horns on his head.\n",
      "\n",
      "THESEUS.\n",
      "He is no crescent, and his horns are invisible within the\n",
      "circumference.\n",
      "\n",
      "MOONSHINE.\n",
      "This lanthorn doth the hornèd moon present;\n",
      "Myself the man i’ the moon do seem to be.\n",
      "\n",
      "THESEUS.\n",
      "This is the greatest error of all the rest; the man should be put into\n",
      "the lantern. How is it else the man i’ the moon?\n",
      "\n",
      "DEMETRIUS.\n",
      "He dares not come there for the candle, for you see, it is already in\n",
      "snuff.\n",
      "\n",
      "HIPPOLYTA.\n",
      "I am aweary of this moon. Would he would change!\n",
      "\n",
      "THESEUS.\n",
      "It appears by his small light of discretion that he is in the wane; but\n",
      "yet, in courtesy, in all reason, we must stay the time.\n",
      "\n",
      "LYSANDER.\n",
      "Proceed, Moon.\n",
      "\n",
      "MOON\n",
      "All that I have to say, is to tell you that the lantern is the moon; I\n",
      "the man i’ the moon; this thorn-bush my thorn-bush; and this dog my\n",
      "dog.\n",
      "\n",
      "DEMETRIUS.\n",
      "Why, all these should be in the lantern, for all these are in the moon.\n",
      "But silence; here comes Thisbe.\n",
      "\n",
      " Enter Thisbe.\n",
      "\n",
      "THISBE.\n",
      "This is old Ninny’s tomb. Where is my love?\n",
      "\n",
      "LION.\n",
      "Oh!\n",
      "\n",
      " [_The Lion roars, Thisbe runs off._]\n",
      "\n",
      "DEMETRIUS.\n",
      "Well roared, Lion.\n",
      "\n",
      "THESEUS.\n",
      "Well run, Thisbe.\n",
      "\n",
      "HIPPOLYTA.\n",
      "Well shone, Moon. Truly, the moon shines with a good grace.\n",
      "\n",
      " [_The Lion tears Thisbe’s mantle, and exit._]\n",
      "\n",
      "THESEUS.\n",
      "Well moused, Lion.\n",
      "\n",
      "DEMETRIUS.\n",
      "And then came Pyramus.\n",
      "\n",
      "LYSANDER.\n",
      "And so the lion vanished.\n",
      "\n",
      " Enter Pyramus.\n",
      "\n",
      "PYRAMUS.\n",
      "Sweet Moon, I thank thee for thy sunny beams;\n",
      "I thank thee, Moon, for shining now so bright;\n",
      "For, by thy gracious golden, glittering gleams,\n",
      "I trust to take of truest Thisbe sight.\n",
      "             But stay! O spite!\n",
      "             But mark, poor knight,\n",
      "         What dreadful dole is here!\n",
      "             Eyes, do you see?\n",
      "             How can it be?\n",
      "         O dainty duck! O dear!\n",
      "             Thy mantle good,\n",
      "             What, stained with blood?\n",
      "         Approach, ye Furies fell!\n",
      "             O Fates, come, come;\n",
      "             Cut thread and thrum;\n",
      "         Quail, rush, conclude, and quell!\n",
      "\n",
      "THESEUS.\n",
      "This passion, and the death of a dear friend, would go near to make a\n",
      "man look sad.\n",
      "\n",
      "HIPPOLYTA.\n",
      "Beshrew my heart, but I pity the man.\n",
      "\n",
      "PYRAMUS.\n",
      "O wherefore, Nature, didst thou lions frame,\n",
      "Since lion vile hath here deflower’d my dear?\n",
      "Which is—no, no—which was the fairest dame\n",
      "That liv’d, that lov’d, that lik’d, that look’d with cheer.\n",
      "             Come, tears, confound!\n",
      "             Out, sword, and wound\n",
      "         The pap of Pyramus;\n",
      "             Ay, that left pap,\n",
      "             Where heart doth hop:\n",
      "         Thus die I, thus, thus, thus.\n",
      "             Now am I dead,\n",
      "             Now am I fled;\n",
      "         My soul is in the sky.\n",
      "             Tongue, lose thy light!\n",
      "             Moon, take thy flight!\n",
      "         Now die, die, die, die, die.\n",
      "\n",
      " [_Dies. Exit Moonshine._]\n",
      "\n",
      "DEMETRIUS.\n",
      "No die, but an ace, for him; for he is but one.\n",
      "\n",
      "LYSANDER.\n",
      "Less than an ace, man; for he is dead, he is nothing.\n",
      "\n",
      "THESEUS.\n",
      "With the help of a surgeon he might yet recover and prove an ass.\n",
      "\n",
      "HIPPOLYTA.\n",
      "How chance Moonshine is gone before Thisbe comes back and finds her\n",
      "lover?\n",
      "\n",
      "\n",
      "THESEUS.\n",
      "She will find him by starlight.\n",
      "\n",
      " Enter Thisbe.\n",
      "\n",
      "Here she comes, and her passion ends the play.\n",
      "\n",
      "HIPPOLYTA.\n",
      "Methinks she should not use a long one for such a Pyramus. I hope she\n",
      "will be brief.\n",
      "\n",
      "DEMETRIUS.\n",
      "A mote will turn the balance, which Pyramus, which Thisbe, is the\n",
      "better: he for a man, God warrant us; she for a woman, God bless us!\n",
      "\n",
      "LYSANDER.\n",
      "She hath spied him already with those sweet eyes.\n",
      "\n",
      "DEMETRIUS.\n",
      "And thus she means, _videlicet_—\n",
      "\n",
      "THISBE.\n",
      "             Asleep, my love?\n",
      "             What, dead, my dove?\n",
      "         O Pyramus, arise,\n",
      "             Speak, speak. Quite dumb?\n",
      "             Dead, dead? A tomb\n",
      "         Must cover thy sweet eyes.\n",
      "             These lily lips,\n",
      "             This cherry nose,\n",
      "         These yellow cowslip cheeks,\n",
      "             Are gone, are gone!\n",
      "             Lovers, make moan;\n",
      "         His eyes were green as leeks.\n",
      "             O Sisters Three,\n",
      "             Come, come to me,\n",
      "         With hands as pale as milk;\n",
      "             Lay them in gore,\n",
      "             Since you have shore\n",
      "         With shears his thread of silk.\n",
      "             Tongue, not a word:\n",
      "             Come, trusty sword,\n",
      "         Come, blade, my breast imbrue;\n",
      "             And farewell, friends.\n",
      "             Thus Thisbe ends.\n",
      "         Adieu, adieu, adieu.\n",
      "\n",
      " [_Dies._]\n",
      "\n",
      "THESEUS.\n",
      "Moonshine and Lion are left to bury the dead.\n",
      "\n",
      "DEMETRIUS.\n",
      "Ay, and Wall too.\n",
      "\n",
      "BOTTOM.\n",
      "No, I assure you; the wall is down that parted their fathers. Will it\n",
      "please you to see the epilogue, or to hear a Bergomask dance between\n",
      "two of our company?\n",
      "\n",
      "THESEUS.\n",
      "No epilogue, I pray you; for your play needs no excuse. Never excuse;\n",
      "for when the players are all dead there need none to be blamed. Marry,\n",
      "if he that writ it had played Pyramus, and hanged himself in Thisbe’s\n",
      "garter, it would have been a fine tragedy; and so it is, truly; and\n",
      "very notably discharged. But come, your Bergomask; let your epilogue\n",
      "alone.\n",
      "\n",
      " [_Here a dance of Clowns._]\n",
      "\n",
      "The iron tongue of midnight hath told twelve.\n",
      "Lovers, to bed; ’tis almost fairy time.\n",
      "I fear we shall outsleep the coming morn\n",
      "As much as we this night have overwatch’d.\n",
      "This palpable-gross play hath well beguil’d\n",
      "The heavy gait of night. Sweet friends, to bed.\n",
      "A fortnight hold we this solemnity\n",
      "In nightly revels and new jollity.\n",
      "\n",
      " [_Exeunt._]\n",
      "\n",
      " Enter Puck.\n",
      "\n",
      "PUCK.\n",
      "   Now the hungry lion roars,\n",
      "      And the wolf behowls the moon;\n",
      "   Whilst the heavy ploughman snores,\n",
      "      All with weary task fordone.\n",
      "   Now the wasted brands do glow,\n",
      "      Whilst the screech-owl, screeching loud,\n",
      "   Puts the wretch that lies in woe\n",
      "      In remembrance of a shroud.\n",
      "   Now it is the time of night\n",
      "      That the graves, all gaping wide,\n",
      "   Every one lets forth his sprite,\n",
      "      In the church-way paths to glide.\n",
      "   And we fairies, that do run\n",
      "      By the triple Hecate’s team\n",
      "   From the presence of the sun,\n",
      "      Following darkness like a dream,\n",
      "   Now are frolic; not a mouse\n",
      "      Shall disturb this hallow’d house.\n",
      "   I am sent with broom before,\n",
      "      To sweep the dust behind the door.\n",
      "\n",
      " Enter Oberon and Titania with their Train.\n",
      "\n",
      "OBERON.\n",
      "   Through the house give glimmering light,\n",
      "        By the dead and drowsy fire.\n",
      "   Every elf and fairy sprite\n",
      "        Hop as light as bird from brier,\n",
      "   And this ditty after me,\n",
      "   Sing and dance it trippingly.\n",
      "\n",
      "TITANIA.\n",
      "   First rehearse your song by rote,\n",
      "        To each word a warbling note;\n",
      "   Hand in hand, with fairy grace,\n",
      "   Will we sing, and bless this place.\n",
      "\n",
      " [_Song and Dance._]\n",
      "\n",
      "OBERON.\n",
      "   Now, until the break of day,\n",
      "   Through this house each fairy stray.\n",
      "   To the best bride-bed will we,\n",
      "   Which by us shall blessèd be;\n",
      "   And the issue there create\n",
      "   Ever shall be fortunate.\n",
      "   So shall all the couples three\n",
      "   Ever true in loving be;\n",
      "   And the blots of Nature’s hand\n",
      "   Shall not in their issue stand:\n",
      "   Never mole, hare-lip, nor scar,\n",
      "   Nor mark prodigious, such as are\n",
      "   Despised in nativity,\n",
      "   Shall upon their children be.\n",
      "   With this field-dew consecrate,\n",
      "   Every fairy take his gait,\n",
      "   And each several chamber bless,\n",
      "   Through this palace, with sweet peace;\n",
      "   And the owner of it blest.\n",
      "   Ever shall it in safety rest,\n",
      "   Trip away. Make no stay;\n",
      "   Meet me all by break of day.\n",
      "\n",
      " [_Exeunt Oberon, Titania and Train._]\n",
      "\n",
      "PUCK.\n",
      "   If we shadows have offended,\n",
      "   Think but this, and all is mended,\n",
      "   That you have but slumber’d here\n",
      "   While these visions did appear.\n",
      "   And this weak and idle theme,\n",
      "   No more yielding but a dream,\n",
      "   Gentles, do not reprehend.\n",
      "   If you pardon, we will mend.\n",
      "   And, as I am an honest Puck,\n",
      "   If we have unearnèd luck\n",
      "   Now to ’scape the serpent’s tongue,\n",
      "   We will make amends ere long;\n",
      "   Else the Puck a liar call.\n",
      "   So, good night unto you all.\n",
      "   Give me your hands, if we be friends,\n",
      "   And Robin shall restore amends.\n",
      "\n",
      " [_Exit._]\n",
      "\n",
      "\n",
      "\n",
      "End of the Project Gutenberg EBook of A Midsummer Night’s Dream, by William Shakespeare\n",
      "\n",
      "\n"
     ]
    }
   ],
   "source": [
    "print(scenes[9].split('***')[0])"
   ]
  },
  {
   "cell_type": "code",
   "execution_count": 11,
   "metadata": {},
   "outputs": [],
   "source": [
    "scenes[9] = scenes[9].split('***')[0]"
   ]
  },
  {
   "cell_type": "markdown",
   "metadata": {},
   "source": [
    "# Get All Coappearances"
   ]
  },
  {
   "cell_type": "code",
   "execution_count": 12,
   "metadata": {},
   "outputs": [],
   "source": [
    "internal_cast = {'Pyramus': 'Bottom', \n",
    "                 'Thisbe': 'Flute', \n",
    "                 'Wall': 'Snout', \n",
    "                 'Moonshine': 'Starveling', \n",
    "                 'Lion': 'Snug', \n",
    "                 'Prologue': 'Quince'}"
   ]
  },
  {
   "cell_type": "code",
   "execution_count": 13,
   "metadata": {},
   "outputs": [],
   "source": [
    "from process import get_coappear"
   ]
  },
  {
   "cell_type": "code",
   "execution_count": 14,
   "metadata": {},
   "outputs": [
    {
     "name": "stdout",
     "output_type": "stream",
     "text": [
      "I.\n",
      "Enter Theseus, Hippolyta, Philostrate and Attendants.\n",
      "THESEUS.\n",
      "HIPPOLYTA.\n",
      "THESEUS.\n",
      "Exit Philostrate.\n",
      "Enter Egeus, Hermia, Lysander and Demetrius.\n",
      "EGEUS.\n",
      "THESEUS.\n",
      "EGEUS.\n",
      "THESEUS.\n",
      "HERMIA.\n",
      "THESEUS.\n",
      "HERMIA.\n",
      "THESEUS.\n",
      "HERMIA.\n",
      "THESEUS.\n",
      "HERMIA.\n",
      "THESEUS.\n",
      "DEMETRIUS.\n",
      "LYSANDER.\n",
      "EGEUS.\n",
      "LYSANDER.\n",
      "THESEUS.\n",
      "EGEUS.\n",
      "Exeunt all but Lysander and Hermia.\n",
      "LYSANDER.\n",
      "HERMIA.\n",
      "LYSANDER.\n",
      "HERMIA.\n",
      "LYSANDER.\n",
      "HERMIA.\n",
      "LYSANDER.\n",
      "HERMIA.\n",
      "LYSANDER.\n",
      "HERMIA.\n",
      "LYSANDER.\n",
      "HERMIA.\n",
      "LYSANDER.\n",
      "Enter Helena.\n",
      "HERMIA.\n",
      "HELENA.\n",
      "HERMIA.\n",
      "HELENA.\n",
      "HERMIA.\n",
      "HELENA.\n",
      "HERMIA.\n",
      "HELENA.\n",
      "HERMIA.\n",
      "HELENA.\n",
      "HERMIA.\n",
      "LYSANDER.\n",
      "HERMIA.\n",
      "LYSANDER.\n",
      "Exit Hermia.\n",
      "Exit Lysander.\n",
      "HELENA.\n",
      "Exit Helena.\n",
      "II.\n",
      "Enter Quince, Snug, Bottom, Flute, Snout  and Starveling.\n",
      "QUINCE.\n",
      "BOTTOM.\n",
      "QUINCE.\n",
      "BOTTOM.\n",
      "QUINCE.\n",
      "BOTTOM.\n",
      "QUINCE.\n",
      "BOTTOM.\n",
      "QUINCE.\n",
      "BOTTOM.\n",
      "QUINCE.\n",
      "BOTTOM.\n",
      "QUINCE.\n",
      "FLUTE.\n",
      "QUINCE.\n",
      "FLUTE.\n",
      "QUINCE.\n",
      "FLUTE.\n",
      "QUINCE.\n",
      "BOTTOM.\n",
      "QUINCE.\n",
      "BOTTOM.\n",
      "QUINCE.\n",
      "STARVELING.\n",
      "QUINCE.\n",
      "QUINCE.\n",
      "QUINCE.\n",
      "BOTTOM.\n",
      "QUINCE.\n",
      "BOTTOM.\n",
      "QUINCE.\n",
      "BOTTOM.\n",
      "QUINCE.\n",
      "BOTTOM.\n",
      "QUINCE.\n",
      "BOTTOM.\n",
      "QUINCE.\n",
      "BOTTOM.\n",
      "Exeunt.\n",
      "I.\n",
      "Enter a Fairy at one door, and Puck at another.\n",
      "PUCK.\n",
      "PUCK.\n",
      "PUCK.\n",
      "Enter Oberon at one door, with his Train, and Titania at another, with\n",
      " hers.\n",
      "OBERON.\n",
      "TITANIA.\n",
      "OBERON.\n",
      "TITANIA.\n",
      "OBERON.\n",
      "TITANIA.\n",
      "OBERON.\n",
      "TITANIA.\n",
      "OBERON.\n",
      "TITANIA.\n",
      "OBERON.\n",
      "TITANIA.\n",
      "Exit Titania with her Train.\n",
      "OBERON.\n",
      "PUCK.\n",
      "OBERON.\n",
      "PUCK.\n",
      "Exit Puck.\n",
      "OBERON.\n",
      "Enter Demetrius, Helena following him.\n",
      "DEMETRIUS.\n",
      "HELENA.\n",
      "DEMETRIUS.\n",
      "HELENA.\n",
      "DEMETRIUS.\n",
      "HELENA.\n",
      "DEMETRIUS.\n",
      "HELENA.\n",
      "DEMETRIUS.\n",
      "HELENA.\n",
      "DEMETRIUS.\n",
      "HELENA.\n",
      "Exit Demetrius.\n",
      "Exit Helena.\n",
      "OBERON.\n",
      "Enter Puck.\n",
      "PUCK.\n",
      "OBERON.\n",
      "PUCK.\n",
      "Exeunt.\n",
      "II.\n",
      "Enter Titania with her Train.\n",
      "TITANIA.\n",
      "FAIRY.\n",
      "CHORUS.\n",
      "FAIRY.\n",
      "CHORUS.\n",
      "FAIRY.\n",
      "Exeunt Fairies. Titania sleeps.\n",
      "Enter Oberon.\n",
      "OBERON.\n",
      "Exit.\n",
      "Enter Lysander and Hermia.\n",
      "LYSANDER.\n",
      "HERMIA.\n",
      "LYSANDER.\n",
      "HERMIA.\n",
      "LYSANDER.\n",
      "HERMIA.\n",
      "LYSANDER.\n",
      "HERMIA.\n",
      "They sleep.\n",
      "Enter Puck.\n",
      "PUCK.\n",
      "Exit.\n",
      "Enter Demetrius and Helena, running.\n",
      "HELENA.\n",
      "DEMETRIUS.\n",
      "HELENA.\n",
      "DEMETRIUS.\n",
      "Exit Demetrius.\n",
      "HELENA.\n",
      "LYSANDER.\n",
      "HELENA.\n",
      "LYSANDER.\n",
      "HELENA.\n",
      "Exit.\n",
      "LYSANDER.\n",
      "Exit.\n",
      "HERMIA.\n",
      "Exit.\n",
      "I.\n",
      "Enter Bottom, Quince, Snout, Starveling, Snug and Flute.\n",
      "BOTTOM.\n",
      "QUINCE.\n",
      "BOTTOM.\n",
      "QUINCE.\n",
      "BOTTOM.\n",
      "STARVELING.\n",
      "BOTTOM.\n",
      "QUINCE.\n",
      "BOTTOM.\n",
      "STARVELING.\n",
      "BOTTOM.\n",
      "BOTTOM.\n",
      "QUINCE.\n",
      "BOTTOM.\n",
      "QUINCE.\n",
      "BOTTOM.\n",
      "QUINCE.\n",
      "BOTTOM.\n",
      "QUINCE.\n",
      "Enter Puck behind.\n",
      "PUCK.\n",
      "QUINCE.\n",
      "PYRAMUS.\n",
      "QUINCE.\n",
      "PYRAMUS.\n",
      "Exit.\n",
      "PUCK.\n",
      "Exit.\n",
      "THISBE.\n",
      "QUINCE.\n",
      "THISBE.\n",
      "QUINCE.\n",
      "THISBE.\n",
      "Enter Puck and Bottom with an ass’s head.\n",
      "PYRAMUS.\n",
      "QUINCE.\n",
      "Exeunt Clowns.\n",
      "PUCK.\n",
      "Exit.\n",
      "BOTTOM.\n",
      "Enter Snout.\n",
      "BOTTOM.\n",
      "Exit Snout.\n",
      "Enter Quince.\n",
      "QUINCE.\n",
      "Exit.\n",
      "BOTTOM.\n",
      "TITANIA.\n",
      "BOTTOM.\n",
      "TITANIA.\n",
      "BOTTOM.\n",
      "TITANIA.\n",
      "BOTTOM.\n",
      "TITANIA.\n",
      "Enter four Fairies.\n",
      "PEASEBLOSSOM.\n",
      "COBWEB.\n",
      "I.\n",
      "MOTH.\n",
      "I.\n",
      "MUSTARDSEED.\n",
      "I.\n",
      "ALL.\n",
      "TITANIA.\n",
      "PEASEBLOSSOM.\n",
      "COBWEB.\n",
      "MOTH.\n",
      "MUSTARDSEED.\n",
      "BOTTOM.\n",
      "COBWEB.\n",
      "BOTTOM.\n",
      "PEASEBLOSSOM.\n",
      "BOTTOM.\n",
      "MUSTARDSEED.\n",
      "BOTTOM.\n",
      "TITANIA.\n",
      "Exeunt.\n",
      "II.\n",
      "Enter Oberon.\n",
      "OBERON.\n",
      "Enter Puck.\n",
      "PUCK.\n",
      "OBERON.\n",
      "PUCK.\n",
      "Enter Demetrius and Hermia.\n",
      "OBERON.\n",
      "PUCK.\n",
      "DEMETRIUS.\n",
      "HERMIA.\n",
      "DEMETRIUS.\n",
      "HERMIA.\n",
      "DEMETRIUS.\n",
      "HERMIA.\n",
      "DEMETRIUS.\n",
      "HERMIA.\n",
      "DEMETRIUS.\n",
      "HERMIA.\n",
      "Exit.\n",
      "DEMETRIUS.\n",
      "OBERON.\n",
      "PUCK.\n",
      "OBERON.\n",
      "PUCK.\n",
      "Exit.\n",
      "OBERON.\n",
      "Enter Puck.\n",
      "PUCK.\n",
      "OBERON.\n",
      "PUCK.\n",
      "Enter Lysander and Helena.\n",
      "LYSANDER.\n",
      "HELENA.\n",
      "LYSANDER.\n",
      "HELENA.\n",
      "LYSANDER.\n",
      "DEMETRIUS.\n",
      "HELENA.\n",
      "LYSANDER.\n",
      "HELENA.\n",
      "DEMETRIUS.\n",
      "LYSANDER.\n",
      "DEMETRIUS.\n",
      "Enter Hermia.\n",
      "HERMIA.\n",
      "LYSANDER.\n",
      "HERMIA.\n",
      "LYSANDER.\n",
      "HERMIA.\n",
      "HELENA.\n",
      "HERMIA.\n",
      "HELENA.\n",
      "HERMIA.\n",
      "HELENA.\n",
      "LYSANDER.\n",
      "HELENA.\n",
      "HERMIA.\n",
      "DEMETRIUS.\n",
      "LYSANDER.\n",
      "DEMETRIUS.\n",
      "LYSANDER.\n",
      "DEMETRIUS.\n",
      "HERMIA.\n",
      "LYSANDER.\n",
      "DEMETRIUS.\n",
      "LYSANDER.\n",
      "HERMIA.\n",
      "LYSANDER.\n",
      "HERMIA.\n",
      "HELENA.\n",
      "LYSANDER.\n",
      "DEMETRIUS.\n",
      "LYSANDER.\n",
      "HERMIA.\n",
      "LYSANDER.\n",
      "HERMIA.\n",
      "HELENA.\n",
      "HERMIA.\n",
      "HELENA.\n",
      "HERMIA.\n",
      "HELENA.\n",
      "HERMIA.\n",
      "HELENA.\n",
      "HERMIA.\n",
      "HELENA.\n",
      "LYSANDER.\n",
      "DEMETRIUS.\n",
      "HELENA.\n",
      "HERMIA.\n",
      "LYSANDER.\n",
      "DEMETRIUS.\n",
      "LYSANDER.\n",
      "DEMETRIUS.\n",
      "Exeunt Lysander and Demetrius.\n",
      "HERMIA.\n",
      "HELENA.\n",
      "Exit.\n",
      "HERMIA.\n",
      "Exit,\n",
      "OBERON.\n",
      "PUCK.\n",
      "OBERON.\n",
      "PUCK.\n",
      "OBERON.\n",
      "Exit Oberon.\n",
      "PUCK.\n",
      "Enter Lysander.\n",
      "LYSANDER.\n",
      "PUCK.\n",
      "LYSANDER.\n",
      "PUCK.\n",
      "Exit Lysander as following the voice.\n",
      "Enter Demetrius.\n",
      "DEMETRIUS.\n",
      "PUCK.\n",
      "DEMETRIUS.\n",
      "PUCK.\n",
      "Exeunt.\n",
      "Enter Lysander.\n",
      "LYSANDER.\n",
      "Sleeps.\n",
      "Enter Puck and Demetrius.\n",
      "PUCK.\n",
      "DEMETRIUS.\n",
      "PUCK.\n",
      "DEMETRIUS.\n",
      "Lies down and sleeps.\n",
      "Enter Helena.\n",
      "HELENA.\n",
      "Sleeps.\n",
      "PUCK.\n",
      "Enter Hermia.\n",
      "HERMIA.\n",
      "PUCK.\n",
      "Exit Puck.\n",
      "I.\n",
      "Enter Titania and Bottom; Peaseblossom, Cobweb, Moth, Mustardseed and\n",
      " other Fairies attending; Oberon behind, unseen.\n",
      "TITANIA.\n",
      "BOTTOM.\n",
      "PEASEBLOSSOM.\n",
      "BOTTOM.\n",
      "COBWEB.\n",
      "BOTTOM.\n",
      "MUSTARDSEED.\n",
      "BOTTOM.\n",
      "MUSTARDSEED.\n",
      "BOTTOM.\n",
      "TITANIA.\n",
      "BOTTOM.\n",
      "TITANIA.\n",
      "BOTTOM.\n",
      "TITANIA.\n",
      "BOTTOM.\n",
      "TITANIA.\n",
      "They sleep.\n",
      "Enter Puck.\n",
      "OBERON.\n",
      "TITANIA.\n",
      "OBERON.\n",
      "TITANIA.\n",
      "OBERON.\n",
      "TITANIA.\n",
      "PUCK.\n",
      "OBERON.\n",
      "PUCK.\n",
      "OBERON.\n",
      "TITANIA.\n",
      "Exeunt.\n",
      "Enter Theseus, Hippolyta, Egeus and Train.\n",
      "THESEUS.\n",
      "Exit an Attendant.\n",
      "HIPPOLYTA.\n",
      "THESEUS.\n",
      "EGEUS.\n",
      "THESEUS.\n",
      "EGEUS.\n",
      "THESEUS.\n",
      "LYSANDER.\n",
      "THESEUS.\n",
      "LYSANDER.\n",
      "EGEUS.\n",
      "DEMETRIUS.\n",
      "THESEUS.\n",
      "Exeunt Theseus, Hippolyta, Egeus and Train.\n",
      "DEMETRIUS.\n",
      "HERMIA.\n",
      "HELENA.\n",
      "DEMETRIUS.\n",
      "HERMIA.\n",
      "HELENA.\n",
      "LYSANDER.\n",
      "DEMETRIUS.\n",
      "Exeunt.\n",
      "BOTTOM.\n",
      "Exit.\n",
      "II.\n",
      "Enter Quince, Flute, Snout and Starveling.\n",
      "QUINCE.\n",
      "STARVELING.\n",
      "FLUTE.\n",
      "QUINCE.\n",
      "FLUTE.\n",
      "QUINCE.\n",
      "FLUTE.\n",
      "Enter Snug.\n",
      "FLUTE.\n",
      "Enter Bottom.\n",
      "BOTTOM.\n",
      "QUINCE.\n",
      "BOTTOM.\n",
      "QUINCE.\n",
      "BOTTOM.\n",
      "Exeunt.\n",
      "I.\n",
      "Enter Theseus, Hippolyta, Philostrate, Lords and Attendants.\n",
      "HIPPOLYTA.\n",
      "THESEUS.\n",
      "HIPPOLYTA.\n",
      "Enter lovers: Lysander, Demetrius, Hermia and Helena.\n",
      "THESEUS.\n",
      "LYSANDER.\n",
      "THESEUS.\n",
      "PHILOSTRATE.\n",
      "THESEUS.\n",
      "PHILOSTRATE.\n",
      "THESEUS.\n",
      "PHILOSTRATE.\n",
      "THESEUS.\n",
      "PHILOSTRATE.\n",
      "THESEUS.\n",
      "PHILOSTRATE.\n",
      "THESEUS.\n",
      "Exit Philostrate.\n",
      "HIPPOLYTA.\n",
      "THESEUS.\n",
      "HIPPOLYTA.\n",
      "THESEUS.\n",
      "Enter Philostrate.\n",
      "PHILOSTRATE.\n",
      "THESEUS.\n",
      "Enter the Prologue.\n",
      "THESEUS.\n",
      "LYSANDER.\n",
      "HIPPOLYTA.\n",
      "THESEUS.\n",
      "Enter Pyramus and Thisbe, Wall, Moonshine and Lion as in dumb show.\n",
      "Exeunt Prologue, Pyramus, Thisbe, Lion and Moonshine.\n",
      "THESEUS.\n",
      "DEMETRIUS.\n",
      "WALL.\n",
      "THESEUS.\n",
      "DEMETRIUS.\n",
      "THESEUS.\n",
      "Enter Pyramus.\n",
      "PYRAMUS.\n",
      "THESEUS.\n",
      "PYRAMUS.\n",
      "Enter Thisbe.\n",
      "THISBE.\n",
      "PYRAMUS.\n",
      "THISBE.\n",
      "PYRAMUS.\n",
      "THISBE.\n",
      "PYRAMUS.\n",
      "THISBE.\n",
      "PYRAMUS.\n",
      "THISBE.\n",
      "PYRAMUS.\n",
      "THISBE.\n",
      "WALL.\n",
      "Exeunt Wall, Pyramus and Thisbe.\n",
      "THESEUS.\n",
      "DEMETRIUS.\n",
      "HIPPOLYTA.\n",
      "THESEUS.\n",
      "HIPPOLYTA.\n",
      "THESEUS.\n",
      "Enter Lion and Moonshine.\n",
      "LION.\n",
      "THESEUS.\n",
      "DEMETRIUS.\n",
      "LYSANDER.\n",
      "THESEUS.\n",
      "DEMETRIUS.\n",
      "THESEUS.\n",
      "MOONSHINE.\n",
      "DEMETRIUS.\n",
      "THESEUS.\n",
      "MOONSHINE.\n",
      "THESEUS.\n",
      "DEMETRIUS.\n",
      "HIPPOLYTA.\n",
      "THESEUS.\n",
      "LYSANDER.\n",
      "DEMETRIUS.\n",
      "Enter Thisbe.\n",
      "THISBE.\n",
      "LION.\n",
      "DEMETRIUS.\n",
      "THESEUS.\n",
      "HIPPOLYTA.\n",
      "THESEUS.\n",
      "DEMETRIUS.\n",
      "LYSANDER.\n",
      "Enter Pyramus.\n",
      "PYRAMUS.\n",
      "THESEUS.\n",
      "HIPPOLYTA.\n",
      "PYRAMUS.\n",
      "Exit Moonshine.\n",
      "DEMETRIUS.\n",
      "LYSANDER.\n",
      "THESEUS.\n",
      "HIPPOLYTA.\n",
      "THESEUS.\n",
      "Enter Thisbe.\n",
      "HIPPOLYTA.\n",
      "DEMETRIUS.\n",
      "LYSANDER.\n",
      "DEMETRIUS.\n",
      "THISBE.\n",
      "THESEUS.\n",
      "DEMETRIUS.\n",
      "BOTTOM.\n",
      "THESEUS.\n",
      "Exeunt.\n",
      "Enter Puck.\n",
      "PUCK.\n",
      "Enter Oberon and Titania with their Train.\n",
      "OBERON.\n",
      "TITANIA.\n",
      "OBERON.\n",
      "Exeunt Oberon, Titania and Train.\n",
      "PUCK.\n",
      "Exit.\n"
     ]
    }
   ],
   "source": [
    "appearances_Ii = get_coappear(scenes[1], 'I', internal_cast, appearances)\n",
    "appearances_Iii = get_coappear(scenes[2], 'I', internal_cast, appearances_Ii)\n",
    "\n",
    "appearances_IIi = get_coappear(scenes[3], 'II', internal_cast, appearances_Iii)\n",
    "appearances_IIii = get_coappear(scenes[4], 'II', internal_cast, appearances_IIi)\n",
    "\n",
    "appearances_IIIi = get_coappear(scenes[5], 'III', internal_cast, appearances_IIii)\n",
    "appearances_IIIii = get_coappear(scenes[6], 'III', internal_cast, appearances_IIIi)\n",
    "\n",
    "appearances_IVi = get_coappear(scenes[7], 'IV', internal_cast, appearances_IIIii)\n",
    "appearances_IVii = get_coappear(scenes[8], 'IV', internal_cast, appearances_IVi)\n",
    "\n",
    "all_appearances = get_coappear(scenes[9], 'V', internal_cast, appearances_IVii)"
   ]
  },
  {
   "cell_type": "markdown",
   "metadata": {},
   "source": [
    "# Get co-appearance counts and scene counts"
   ]
  },
  {
   "cell_type": "code",
   "execution_count": 15,
   "metadata": {},
   "outputs": [],
   "source": [
    "appearance_counts = get_empty_appearances(characters, True)\n",
    "scene_counts = {}"
   ]
  },
  {
   "cell_type": "code",
   "execution_count": 16,
   "metadata": {},
   "outputs": [],
   "source": [
    "# For each character that appears, get how many scenes the character appears in and\n",
    "# how many times each pair of characters appears together\n",
    "for character in all_appearances:\n",
    "    scene_counts[character] = []\n",
    "    for co_char in all_appearances[character]:\n",
    "        appearance_counts[character][co_char] = len(all_appearances[character][co_char])\n",
    "        scene_counts[character].extend(all_appearances[character][co_char])\n",
    "        \n",
    "    scene_counts[character] = len(set(scene_counts[character]))"
   ]
  },
  {
   "cell_type": "code",
   "execution_count": 17,
   "metadata": {},
   "outputs": [
    {
     "data": {
      "text/plain": [
       "{'Theseus': {'Hippolyta': 3,\n",
       "  'Egeus': 2,\n",
       "  'Hermia': 3,\n",
       "  'Helena': 2,\n",
       "  'Lysander': 3,\n",
       "  'Demetrius': 3,\n",
       "  'Philostrate': 2,\n",
       "  'Quince': 1,\n",
       "  'Snug': 1,\n",
       "  'Bottom': 2,\n",
       "  'Flute': 1,\n",
       "  'Snout': 1,\n",
       "  'Starveling': 1,\n",
       "  'Oberon': 0,\n",
       "  'Titania': 0,\n",
       "  'Puck': 0,\n",
       "  'Peaseblossom': 0,\n",
       "  'Cobweb': 0,\n",
       "  'Moth': 0,\n",
       "  'Mustardseed': 0,\n",
       "  'Pyramus': 0,\n",
       "  'Thisbe': 0,\n",
       "  'Wall': 0,\n",
       "  'Moonshine': 0,\n",
       "  'Lion': 0,\n",
       "  'Fairies': 0,\n",
       "  'Attendants': 3},\n",
       " 'Hippolyta': {'Theseus': 3,\n",
       "  'Egeus': 2,\n",
       "  'Hermia': 3,\n",
       "  'Helena': 2,\n",
       "  'Lysander': 3,\n",
       "  'Demetrius': 3,\n",
       "  'Philostrate': 2,\n",
       "  'Quince': 1,\n",
       "  'Snug': 1,\n",
       "  'Bottom': 2,\n",
       "  'Flute': 1,\n",
       "  'Snout': 1,\n",
       "  'Starveling': 1,\n",
       "  'Oberon': 0,\n",
       "  'Titania': 0,\n",
       "  'Puck': 0,\n",
       "  'Peaseblossom': 0,\n",
       "  'Cobweb': 0,\n",
       "  'Moth': 0,\n",
       "  'Mustardseed': 0,\n",
       "  'Pyramus': 0,\n",
       "  'Thisbe': 0,\n",
       "  'Wall': 0,\n",
       "  'Moonshine': 0,\n",
       "  'Lion': 0,\n",
       "  'Fairies': 0,\n",
       "  'Attendants': 3},\n",
       " 'Egeus': {'Theseus': 2,\n",
       "  'Hippolyta': 2,\n",
       "  'Hermia': 2,\n",
       "  'Helena': 1,\n",
       "  'Lysander': 2,\n",
       "  'Demetrius': 2,\n",
       "  'Philostrate': 0,\n",
       "  'Quince': 0,\n",
       "  'Snug': 0,\n",
       "  'Bottom': 1,\n",
       "  'Flute': 0,\n",
       "  'Snout': 0,\n",
       "  'Starveling': 0,\n",
       "  'Oberon': 0,\n",
       "  'Titania': 0,\n",
       "  'Puck': 0,\n",
       "  'Peaseblossom': 0,\n",
       "  'Cobweb': 0,\n",
       "  'Moth': 0,\n",
       "  'Mustardseed': 0,\n",
       "  'Pyramus': 0,\n",
       "  'Thisbe': 0,\n",
       "  'Wall': 0,\n",
       "  'Moonshine': 0,\n",
       "  'Lion': 0,\n",
       "  'Fairies': 0,\n",
       "  'Attendants': 2},\n",
       " 'Hermia': {'Theseus': 3,\n",
       "  'Hippolyta': 3,\n",
       "  'Egeus': 2,\n",
       "  'Helena': 5,\n",
       "  'Lysander': 5,\n",
       "  'Demetrius': 5,\n",
       "  'Philostrate': 1,\n",
       "  'Quince': 1,\n",
       "  'Snug': 1,\n",
       "  'Bottom': 2,\n",
       "  'Flute': 1,\n",
       "  'Snout': 1,\n",
       "  'Starveling': 1,\n",
       "  'Oberon': 2,\n",
       "  'Titania': 2,\n",
       "  'Puck': 3,\n",
       "  'Peaseblossom': 1,\n",
       "  'Cobweb': 1,\n",
       "  'Moth': 1,\n",
       "  'Mustardseed': 1,\n",
       "  'Pyramus': 0,\n",
       "  'Thisbe': 0,\n",
       "  'Wall': 0,\n",
       "  'Moonshine': 0,\n",
       "  'Lion': 0,\n",
       "  'Fairies': 1,\n",
       "  'Attendants': 3},\n",
       " 'Helena': {'Theseus': 2,\n",
       "  'Hippolyta': 2,\n",
       "  'Egeus': 1,\n",
       "  'Hermia': 5,\n",
       "  'Lysander': 5,\n",
       "  'Demetrius': 5,\n",
       "  'Philostrate': 1,\n",
       "  'Quince': 1,\n",
       "  'Snug': 1,\n",
       "  'Bottom': 2,\n",
       "  'Flute': 1,\n",
       "  'Snout': 1,\n",
       "  'Starveling': 1,\n",
       "  'Oberon': 3,\n",
       "  'Titania': 2,\n",
       "  'Puck': 2,\n",
       "  'Peaseblossom': 1,\n",
       "  'Cobweb': 1,\n",
       "  'Moth': 1,\n",
       "  'Mustardseed': 1,\n",
       "  'Pyramus': 0,\n",
       "  'Thisbe': 0,\n",
       "  'Wall': 0,\n",
       "  'Moonshine': 0,\n",
       "  'Lion': 0,\n",
       "  'Fairies': 2,\n",
       "  'Attendants': 2},\n",
       " 'Lysander': {'Theseus': 3,\n",
       "  'Hippolyta': 3,\n",
       "  'Egeus': 2,\n",
       "  'Hermia': 5,\n",
       "  'Helena': 5,\n",
       "  'Demetrius': 5,\n",
       "  'Philostrate': 1,\n",
       "  'Quince': 1,\n",
       "  'Snug': 1,\n",
       "  'Bottom': 2,\n",
       "  'Flute': 1,\n",
       "  'Snout': 1,\n",
       "  'Starveling': 1,\n",
       "  'Oberon': 2,\n",
       "  'Titania': 2,\n",
       "  'Puck': 3,\n",
       "  'Peaseblossom': 1,\n",
       "  'Cobweb': 1,\n",
       "  'Moth': 1,\n",
       "  'Mustardseed': 1,\n",
       "  'Pyramus': 0,\n",
       "  'Thisbe': 0,\n",
       "  'Wall': 0,\n",
       "  'Moonshine': 0,\n",
       "  'Lion': 0,\n",
       "  'Fairies': 1,\n",
       "  'Attendants': 3},\n",
       " 'Demetrius': {'Theseus': 3,\n",
       "  'Hippolyta': 3,\n",
       "  'Egeus': 2,\n",
       "  'Hermia': 5,\n",
       "  'Helena': 5,\n",
       "  'Lysander': 5,\n",
       "  'Philostrate': 1,\n",
       "  'Quince': 1,\n",
       "  'Snug': 1,\n",
       "  'Bottom': 2,\n",
       "  'Flute': 1,\n",
       "  'Snout': 1,\n",
       "  'Starveling': 1,\n",
       "  'Oberon': 3,\n",
       "  'Titania': 2,\n",
       "  'Puck': 2,\n",
       "  'Peaseblossom': 1,\n",
       "  'Cobweb': 1,\n",
       "  'Moth': 1,\n",
       "  'Mustardseed': 1,\n",
       "  'Pyramus': 0,\n",
       "  'Thisbe': 0,\n",
       "  'Wall': 0,\n",
       "  'Moonshine': 0,\n",
       "  'Lion': 0,\n",
       "  'Fairies': 2,\n",
       "  'Attendants': 3},\n",
       " 'Philostrate': {'Theseus': 2,\n",
       "  'Hippolyta': 2,\n",
       "  'Egeus': 0,\n",
       "  'Hermia': 1,\n",
       "  'Helena': 1,\n",
       "  'Lysander': 1,\n",
       "  'Demetrius': 1,\n",
       "  'Quince': 1,\n",
       "  'Snug': 1,\n",
       "  'Bottom': 1,\n",
       "  'Flute': 1,\n",
       "  'Snout': 1,\n",
       "  'Starveling': 1,\n",
       "  'Oberon': 0,\n",
       "  'Titania': 0,\n",
       "  'Puck': 0,\n",
       "  'Peaseblossom': 0,\n",
       "  'Cobweb': 0,\n",
       "  'Moth': 0,\n",
       "  'Mustardseed': 0,\n",
       "  'Pyramus': 0,\n",
       "  'Thisbe': 0,\n",
       "  'Wall': 0,\n",
       "  'Moonshine': 0,\n",
       "  'Lion': 0,\n",
       "  'Fairies': 0,\n",
       "  'Attendants': 2},\n",
       " 'Quince': {'Theseus': 1,\n",
       "  'Hippolyta': 1,\n",
       "  'Egeus': 0,\n",
       "  'Hermia': 1,\n",
       "  'Helena': 1,\n",
       "  'Lysander': 1,\n",
       "  'Demetrius': 1,\n",
       "  'Philostrate': 1,\n",
       "  'Snug': 4,\n",
       "  'Bottom': 4,\n",
       "  'Flute': 4,\n",
       "  'Snout': 4,\n",
       "  'Starveling': 4,\n",
       "  'Oberon': 0,\n",
       "  'Titania': 1,\n",
       "  'Puck': 1,\n",
       "  'Peaseblossom': 0,\n",
       "  'Cobweb': 0,\n",
       "  'Moth': 0,\n",
       "  'Mustardseed': 0,\n",
       "  'Pyramus': 0,\n",
       "  'Thisbe': 0,\n",
       "  'Wall': 0,\n",
       "  'Moonshine': 0,\n",
       "  'Lion': 0,\n",
       "  'Fairies': 0,\n",
       "  'Attendants': 1},\n",
       " 'Snug': {'Theseus': 1,\n",
       "  'Hippolyta': 1,\n",
       "  'Egeus': 0,\n",
       "  'Hermia': 1,\n",
       "  'Helena': 1,\n",
       "  'Lysander': 1,\n",
       "  'Demetrius': 1,\n",
       "  'Philostrate': 1,\n",
       "  'Quince': 4,\n",
       "  'Bottom': 4,\n",
       "  'Flute': 4,\n",
       "  'Snout': 4,\n",
       "  'Starveling': 4,\n",
       "  'Oberon': 0,\n",
       "  'Titania': 1,\n",
       "  'Puck': 1,\n",
       "  'Peaseblossom': 0,\n",
       "  'Cobweb': 0,\n",
       "  'Moth': 0,\n",
       "  'Mustardseed': 0,\n",
       "  'Pyramus': 0,\n",
       "  'Thisbe': 0,\n",
       "  'Wall': 0,\n",
       "  'Moonshine': 0,\n",
       "  'Lion': 0,\n",
       "  'Fairies': 0,\n",
       "  'Attendants': 1},\n",
       " 'Bottom': {'Theseus': 2,\n",
       "  'Hippolyta': 2,\n",
       "  'Egeus': 1,\n",
       "  'Hermia': 2,\n",
       "  'Helena': 2,\n",
       "  'Lysander': 2,\n",
       "  'Demetrius': 2,\n",
       "  'Philostrate': 1,\n",
       "  'Quince': 4,\n",
       "  'Snug': 4,\n",
       "  'Flute': 4,\n",
       "  'Snout': 4,\n",
       "  'Starveling': 4,\n",
       "  'Oberon': 1,\n",
       "  'Titania': 2,\n",
       "  'Puck': 2,\n",
       "  'Peaseblossom': 2,\n",
       "  'Cobweb': 2,\n",
       "  'Moth': 2,\n",
       "  'Mustardseed': 2,\n",
       "  'Pyramus': 0,\n",
       "  'Thisbe': 0,\n",
       "  'Wall': 0,\n",
       "  'Moonshine': 0,\n",
       "  'Lion': 0,\n",
       "  'Fairies': 1,\n",
       "  'Attendants': 2},\n",
       " 'Flute': {'Theseus': 1,\n",
       "  'Hippolyta': 1,\n",
       "  'Egeus': 0,\n",
       "  'Hermia': 1,\n",
       "  'Helena': 1,\n",
       "  'Lysander': 1,\n",
       "  'Demetrius': 1,\n",
       "  'Philostrate': 1,\n",
       "  'Quince': 4,\n",
       "  'Snug': 4,\n",
       "  'Bottom': 4,\n",
       "  'Snout': 4,\n",
       "  'Starveling': 4,\n",
       "  'Oberon': 0,\n",
       "  'Titania': 1,\n",
       "  'Puck': 1,\n",
       "  'Peaseblossom': 0,\n",
       "  'Cobweb': 0,\n",
       "  'Moth': 0,\n",
       "  'Mustardseed': 0,\n",
       "  'Pyramus': 0,\n",
       "  'Thisbe': 0,\n",
       "  'Wall': 0,\n",
       "  'Moonshine': 0,\n",
       "  'Lion': 0,\n",
       "  'Fairies': 0,\n",
       "  'Attendants': 1},\n",
       " 'Snout': {'Theseus': 1,\n",
       "  'Hippolyta': 1,\n",
       "  'Egeus': 0,\n",
       "  'Hermia': 1,\n",
       "  'Helena': 1,\n",
       "  'Lysander': 1,\n",
       "  'Demetrius': 1,\n",
       "  'Philostrate': 1,\n",
       "  'Quince': 4,\n",
       "  'Snug': 4,\n",
       "  'Bottom': 4,\n",
       "  'Flute': 4,\n",
       "  'Starveling': 4,\n",
       "  'Oberon': 0,\n",
       "  'Titania': 1,\n",
       "  'Puck': 1,\n",
       "  'Peaseblossom': 0,\n",
       "  'Cobweb': 0,\n",
       "  'Moth': 0,\n",
       "  'Mustardseed': 0,\n",
       "  'Pyramus': 0,\n",
       "  'Thisbe': 0,\n",
       "  'Wall': 0,\n",
       "  'Moonshine': 0,\n",
       "  'Lion': 0,\n",
       "  'Fairies': 0,\n",
       "  'Attendants': 1},\n",
       " 'Starveling': {'Theseus': 1,\n",
       "  'Hippolyta': 1,\n",
       "  'Egeus': 0,\n",
       "  'Hermia': 1,\n",
       "  'Helena': 1,\n",
       "  'Lysander': 1,\n",
       "  'Demetrius': 1,\n",
       "  'Philostrate': 1,\n",
       "  'Quince': 4,\n",
       "  'Snug': 4,\n",
       "  'Bottom': 4,\n",
       "  'Flute': 4,\n",
       "  'Snout': 4,\n",
       "  'Oberon': 0,\n",
       "  'Titania': 1,\n",
       "  'Puck': 1,\n",
       "  'Peaseblossom': 0,\n",
       "  'Cobweb': 0,\n",
       "  'Moth': 0,\n",
       "  'Mustardseed': 0,\n",
       "  'Pyramus': 0,\n",
       "  'Thisbe': 0,\n",
       "  'Wall': 0,\n",
       "  'Moonshine': 0,\n",
       "  'Lion': 0,\n",
       "  'Fairies': 0,\n",
       "  'Attendants': 1},\n",
       " 'Oberon': {'Theseus': 0,\n",
       "  'Hippolyta': 0,\n",
       "  'Egeus': 0,\n",
       "  'Hermia': 2,\n",
       "  'Helena': 3,\n",
       "  'Lysander': 2,\n",
       "  'Demetrius': 3,\n",
       "  'Philostrate': 0,\n",
       "  'Quince': 0,\n",
       "  'Snug': 0,\n",
       "  'Bottom': 1,\n",
       "  'Flute': 0,\n",
       "  'Snout': 0,\n",
       "  'Starveling': 0,\n",
       "  'Titania': 4,\n",
       "  'Puck': 4,\n",
       "  'Peaseblossom': 1,\n",
       "  'Cobweb': 1,\n",
       "  'Moth': 1,\n",
       "  'Mustardseed': 1,\n",
       "  'Pyramus': 0,\n",
       "  'Thisbe': 0,\n",
       "  'Wall': 0,\n",
       "  'Moonshine': 0,\n",
       "  'Lion': 0,\n",
       "  'Fairies': 3,\n",
       "  'Attendants': 0},\n",
       " 'Titania': {'Theseus': 0,\n",
       "  'Hippolyta': 0,\n",
       "  'Egeus': 0,\n",
       "  'Hermia': 2,\n",
       "  'Helena': 2,\n",
       "  'Lysander': 2,\n",
       "  'Demetrius': 2,\n",
       "  'Philostrate': 0,\n",
       "  'Quince': 1,\n",
       "  'Snug': 1,\n",
       "  'Bottom': 2,\n",
       "  'Flute': 1,\n",
       "  'Snout': 1,\n",
       "  'Starveling': 1,\n",
       "  'Oberon': 4,\n",
       "  'Puck': 5,\n",
       "  'Peaseblossom': 2,\n",
       "  'Cobweb': 2,\n",
       "  'Moth': 2,\n",
       "  'Mustardseed': 2,\n",
       "  'Pyramus': 0,\n",
       "  'Thisbe': 0,\n",
       "  'Wall': 0,\n",
       "  'Moonshine': 0,\n",
       "  'Lion': 0,\n",
       "  'Fairies': 4,\n",
       "  'Attendants': 0},\n",
       " 'Puck': {'Theseus': 0,\n",
       "  'Hippolyta': 0,\n",
       "  'Egeus': 0,\n",
       "  'Hermia': 3,\n",
       "  'Helena': 2,\n",
       "  'Lysander': 3,\n",
       "  'Demetrius': 2,\n",
       "  'Philostrate': 0,\n",
       "  'Quince': 1,\n",
       "  'Snug': 1,\n",
       "  'Bottom': 2,\n",
       "  'Flute': 1,\n",
       "  'Snout': 1,\n",
       "  'Starveling': 1,\n",
       "  'Oberon': 4,\n",
       "  'Titania': 5,\n",
       "  'Peaseblossom': 1,\n",
       "  'Cobweb': 1,\n",
       "  'Moth': 1,\n",
       "  'Mustardseed': 1,\n",
       "  'Pyramus': 0,\n",
       "  'Thisbe': 0,\n",
       "  'Wall': 0,\n",
       "  'Moonshine': 0,\n",
       "  'Lion': 0,\n",
       "  'Fairies': 3,\n",
       "  'Attendants': 0},\n",
       " 'Peaseblossom': {'Theseus': 0,\n",
       "  'Hippolyta': 0,\n",
       "  'Egeus': 0,\n",
       "  'Hermia': 1,\n",
       "  'Helena': 1,\n",
       "  'Lysander': 1,\n",
       "  'Demetrius': 1,\n",
       "  'Philostrate': 0,\n",
       "  'Quince': 0,\n",
       "  'Snug': 0,\n",
       "  'Bottom': 2,\n",
       "  'Flute': 0,\n",
       "  'Snout': 0,\n",
       "  'Starveling': 0,\n",
       "  'Oberon': 1,\n",
       "  'Titania': 2,\n",
       "  'Puck': 1,\n",
       "  'Cobweb': 2,\n",
       "  'Moth': 2,\n",
       "  'Mustardseed': 2,\n",
       "  'Pyramus': 0,\n",
       "  'Thisbe': 0,\n",
       "  'Wall': 0,\n",
       "  'Moonshine': 0,\n",
       "  'Lion': 0,\n",
       "  'Fairies': 1,\n",
       "  'Attendants': 0},\n",
       " 'Cobweb': {'Theseus': 0,\n",
       "  'Hippolyta': 0,\n",
       "  'Egeus': 0,\n",
       "  'Hermia': 1,\n",
       "  'Helena': 1,\n",
       "  'Lysander': 1,\n",
       "  'Demetrius': 1,\n",
       "  'Philostrate': 0,\n",
       "  'Quince': 0,\n",
       "  'Snug': 0,\n",
       "  'Bottom': 2,\n",
       "  'Flute': 0,\n",
       "  'Snout': 0,\n",
       "  'Starveling': 0,\n",
       "  'Oberon': 1,\n",
       "  'Titania': 2,\n",
       "  'Puck': 1,\n",
       "  'Peaseblossom': 2,\n",
       "  'Moth': 2,\n",
       "  'Mustardseed': 2,\n",
       "  'Pyramus': 0,\n",
       "  'Thisbe': 0,\n",
       "  'Wall': 0,\n",
       "  'Moonshine': 0,\n",
       "  'Lion': 0,\n",
       "  'Fairies': 1,\n",
       "  'Attendants': 0},\n",
       " 'Moth': {'Theseus': 0,\n",
       "  'Hippolyta': 0,\n",
       "  'Egeus': 0,\n",
       "  'Hermia': 1,\n",
       "  'Helena': 1,\n",
       "  'Lysander': 1,\n",
       "  'Demetrius': 1,\n",
       "  'Philostrate': 0,\n",
       "  'Quince': 0,\n",
       "  'Snug': 0,\n",
       "  'Bottom': 2,\n",
       "  'Flute': 0,\n",
       "  'Snout': 0,\n",
       "  'Starveling': 0,\n",
       "  'Oberon': 1,\n",
       "  'Titania': 2,\n",
       "  'Puck': 1,\n",
       "  'Peaseblossom': 2,\n",
       "  'Cobweb': 2,\n",
       "  'Mustardseed': 2,\n",
       "  'Pyramus': 0,\n",
       "  'Thisbe': 0,\n",
       "  'Wall': 0,\n",
       "  'Moonshine': 0,\n",
       "  'Lion': 0,\n",
       "  'Fairies': 1,\n",
       "  'Attendants': 0},\n",
       " 'Mustardseed': {'Theseus': 0,\n",
       "  'Hippolyta': 0,\n",
       "  'Egeus': 0,\n",
       "  'Hermia': 1,\n",
       "  'Helena': 1,\n",
       "  'Lysander': 1,\n",
       "  'Demetrius': 1,\n",
       "  'Philostrate': 0,\n",
       "  'Quince': 0,\n",
       "  'Snug': 0,\n",
       "  'Bottom': 2,\n",
       "  'Flute': 0,\n",
       "  'Snout': 0,\n",
       "  'Starveling': 0,\n",
       "  'Oberon': 1,\n",
       "  'Titania': 2,\n",
       "  'Puck': 1,\n",
       "  'Peaseblossom': 2,\n",
       "  'Cobweb': 2,\n",
       "  'Moth': 2,\n",
       "  'Pyramus': 0,\n",
       "  'Thisbe': 0,\n",
       "  'Wall': 0,\n",
       "  'Moonshine': 0,\n",
       "  'Lion': 0,\n",
       "  'Fairies': 1,\n",
       "  'Attendants': 0},\n",
       " 'Pyramus': {'Theseus': 0,\n",
       "  'Hippolyta': 0,\n",
       "  'Egeus': 0,\n",
       "  'Hermia': 0,\n",
       "  'Helena': 0,\n",
       "  'Lysander': 0,\n",
       "  'Demetrius': 0,\n",
       "  'Philostrate': 0,\n",
       "  'Quince': 0,\n",
       "  'Snug': 0,\n",
       "  'Bottom': 0,\n",
       "  'Flute': 0,\n",
       "  'Snout': 0,\n",
       "  'Starveling': 0,\n",
       "  'Oberon': 0,\n",
       "  'Titania': 0,\n",
       "  'Puck': 0,\n",
       "  'Peaseblossom': 0,\n",
       "  'Cobweb': 0,\n",
       "  'Moth': 0,\n",
       "  'Mustardseed': 0,\n",
       "  'Thisbe': 0,\n",
       "  'Wall': 0,\n",
       "  'Moonshine': 0,\n",
       "  'Lion': 0,\n",
       "  'Fairies': 0,\n",
       "  'Attendants': 0},\n",
       " 'Thisbe': {'Theseus': 0,\n",
       "  'Hippolyta': 0,\n",
       "  'Egeus': 0,\n",
       "  'Hermia': 0,\n",
       "  'Helena': 0,\n",
       "  'Lysander': 0,\n",
       "  'Demetrius': 0,\n",
       "  'Philostrate': 0,\n",
       "  'Quince': 0,\n",
       "  'Snug': 0,\n",
       "  'Bottom': 0,\n",
       "  'Flute': 0,\n",
       "  'Snout': 0,\n",
       "  'Starveling': 0,\n",
       "  'Oberon': 0,\n",
       "  'Titania': 0,\n",
       "  'Puck': 0,\n",
       "  'Peaseblossom': 0,\n",
       "  'Cobweb': 0,\n",
       "  'Moth': 0,\n",
       "  'Mustardseed': 0,\n",
       "  'Pyramus': 0,\n",
       "  'Wall': 0,\n",
       "  'Moonshine': 0,\n",
       "  'Lion': 0,\n",
       "  'Fairies': 0,\n",
       "  'Attendants': 0},\n",
       " 'Wall': {'Theseus': 0,\n",
       "  'Hippolyta': 0,\n",
       "  'Egeus': 0,\n",
       "  'Hermia': 0,\n",
       "  'Helena': 0,\n",
       "  'Lysander': 0,\n",
       "  'Demetrius': 0,\n",
       "  'Philostrate': 0,\n",
       "  'Quince': 0,\n",
       "  'Snug': 0,\n",
       "  'Bottom': 0,\n",
       "  'Flute': 0,\n",
       "  'Snout': 0,\n",
       "  'Starveling': 0,\n",
       "  'Oberon': 0,\n",
       "  'Titania': 0,\n",
       "  'Puck': 0,\n",
       "  'Peaseblossom': 0,\n",
       "  'Cobweb': 0,\n",
       "  'Moth': 0,\n",
       "  'Mustardseed': 0,\n",
       "  'Pyramus': 0,\n",
       "  'Thisbe': 0,\n",
       "  'Moonshine': 0,\n",
       "  'Lion': 0,\n",
       "  'Fairies': 0,\n",
       "  'Attendants': 0},\n",
       " 'Moonshine': {'Theseus': 0,\n",
       "  'Hippolyta': 0,\n",
       "  'Egeus': 0,\n",
       "  'Hermia': 0,\n",
       "  'Helena': 0,\n",
       "  'Lysander': 0,\n",
       "  'Demetrius': 0,\n",
       "  'Philostrate': 0,\n",
       "  'Quince': 0,\n",
       "  'Snug': 0,\n",
       "  'Bottom': 0,\n",
       "  'Flute': 0,\n",
       "  'Snout': 0,\n",
       "  'Starveling': 0,\n",
       "  'Oberon': 0,\n",
       "  'Titania': 0,\n",
       "  'Puck': 0,\n",
       "  'Peaseblossom': 0,\n",
       "  'Cobweb': 0,\n",
       "  'Moth': 0,\n",
       "  'Mustardseed': 0,\n",
       "  'Pyramus': 0,\n",
       "  'Thisbe': 0,\n",
       "  'Wall': 0,\n",
       "  'Lion': 0,\n",
       "  'Fairies': 0,\n",
       "  'Attendants': 0},\n",
       " 'Lion': {'Theseus': 0,\n",
       "  'Hippolyta': 0,\n",
       "  'Egeus': 0,\n",
       "  'Hermia': 0,\n",
       "  'Helena': 0,\n",
       "  'Lysander': 0,\n",
       "  'Demetrius': 0,\n",
       "  'Philostrate': 0,\n",
       "  'Quince': 0,\n",
       "  'Snug': 0,\n",
       "  'Bottom': 0,\n",
       "  'Flute': 0,\n",
       "  'Snout': 0,\n",
       "  'Starveling': 0,\n",
       "  'Oberon': 0,\n",
       "  'Titania': 0,\n",
       "  'Puck': 0,\n",
       "  'Peaseblossom': 0,\n",
       "  'Cobweb': 0,\n",
       "  'Moth': 0,\n",
       "  'Mustardseed': 0,\n",
       "  'Pyramus': 0,\n",
       "  'Thisbe': 0,\n",
       "  'Wall': 0,\n",
       "  'Moonshine': 0,\n",
       "  'Fairies': 0,\n",
       "  'Attendants': 0},\n",
       " 'Fairies': {'Theseus': 0,\n",
       "  'Hippolyta': 0,\n",
       "  'Egeus': 0,\n",
       "  'Hermia': 1,\n",
       "  'Helena': 2,\n",
       "  'Lysander': 1,\n",
       "  'Demetrius': 2,\n",
       "  'Philostrate': 0,\n",
       "  'Quince': 0,\n",
       "  'Snug': 0,\n",
       "  'Bottom': 1,\n",
       "  'Flute': 0,\n",
       "  'Snout': 0,\n",
       "  'Starveling': 0,\n",
       "  'Oberon': 3,\n",
       "  'Titania': 4,\n",
       "  'Puck': 3,\n",
       "  'Peaseblossom': 1,\n",
       "  'Cobweb': 1,\n",
       "  'Moth': 1,\n",
       "  'Mustardseed': 1,\n",
       "  'Pyramus': 0,\n",
       "  'Thisbe': 0,\n",
       "  'Wall': 0,\n",
       "  'Moonshine': 0,\n",
       "  'Lion': 0,\n",
       "  'Attendants': 0},\n",
       " 'Attendants': {'Theseus': 3,\n",
       "  'Hippolyta': 3,\n",
       "  'Egeus': 2,\n",
       "  'Hermia': 3,\n",
       "  'Helena': 2,\n",
       "  'Lysander': 3,\n",
       "  'Demetrius': 3,\n",
       "  'Philostrate': 2,\n",
       "  'Quince': 1,\n",
       "  'Snug': 1,\n",
       "  'Bottom': 2,\n",
       "  'Flute': 1,\n",
       "  'Snout': 1,\n",
       "  'Starveling': 1,\n",
       "  'Oberon': 0,\n",
       "  'Titania': 0,\n",
       "  'Puck': 0,\n",
       "  'Peaseblossom': 0,\n",
       "  'Cobweb': 0,\n",
       "  'Moth': 0,\n",
       "  'Mustardseed': 0,\n",
       "  'Pyramus': 0,\n",
       "  'Thisbe': 0,\n",
       "  'Wall': 0,\n",
       "  'Moonshine': 0,\n",
       "  'Lion': 0,\n",
       "  'Fairies': 0}}"
      ]
     },
     "execution_count": 17,
     "metadata": {},
     "output_type": "execute_result"
    }
   ],
   "source": [
    "appearance_counts"
   ]
  },
  {
   "cell_type": "code",
   "execution_count": 18,
   "metadata": {},
   "outputs": [
    {
     "data": {
      "text/plain": [
       "{'Theseus': 3,\n",
       " 'Hippolyta': 3,\n",
       " 'Egeus': 2,\n",
       " 'Hermia': 5,\n",
       " 'Helena': 6,\n",
       " 'Lysander': 5,\n",
       " 'Demetrius': 6,\n",
       " 'Philostrate': 2,\n",
       " 'Quince': 4,\n",
       " 'Snug': 4,\n",
       " 'Bottom': 5,\n",
       " 'Flute': 4,\n",
       " 'Snout': 4,\n",
       " 'Starveling': 4,\n",
       " 'Oberon': 5,\n",
       " 'Titania': 5,\n",
       " 'Puck': 6,\n",
       " 'Peaseblossom': 2,\n",
       " 'Cobweb': 2,\n",
       " 'Moth': 2,\n",
       " 'Mustardseed': 2,\n",
       " 'Pyramus': 0,\n",
       " 'Thisbe': 0,\n",
       " 'Wall': 0,\n",
       " 'Moonshine': 0,\n",
       " 'Lion': 0,\n",
       " 'Fairies': 4,\n",
       " 'Attendants': 3}"
      ]
     },
     "execution_count": 18,
     "metadata": {},
     "output_type": "execute_result"
    }
   ],
   "source": [
    "scene_counts"
   ]
  },
  {
   "cell_type": "markdown",
   "metadata": {},
   "source": [
    "# Graph the network of characters"
   ]
  },
  {
   "cell_type": "code",
   "execution_count": 19,
   "metadata": {},
   "outputs": [],
   "source": [
    "midsummer = nx.Graph()"
   ]
  },
  {
   "cell_type": "code",
   "execution_count": 20,
   "metadata": {},
   "outputs": [],
   "source": [
    "# Add node for each character\n",
    "for char in scene_counts.keys():\n",
    "    if scene_counts[char] > 0:\n",
    "        midsummer.add_node(char, size = scene_counts[char])"
   ]
  },
  {
   "cell_type": "code",
   "execution_count": 21,
   "metadata": {},
   "outputs": [
    {
     "data": {
      "text/plain": [
       "NodeView(('Theseus', 'Hippolyta', 'Egeus', 'Hermia', 'Helena', 'Lysander', 'Demetrius', 'Philostrate', 'Quince', 'Snug', 'Bottom', 'Flute', 'Snout', 'Starveling', 'Oberon', 'Titania', 'Puck', 'Peaseblossom', 'Cobweb', 'Moth', 'Mustardseed', 'Fairies', 'Attendants'))"
      ]
     },
     "execution_count": 21,
     "metadata": {},
     "output_type": "execute_result"
    }
   ],
   "source": [
    "midsummer.nodes"
   ]
  },
  {
   "cell_type": "code",
   "execution_count": 22,
   "metadata": {},
   "outputs": [],
   "source": [
    "# For each co-appearance between two characters, add an edge\n",
    "for char in appearance_counts.keys():\n",
    "    for co_char in appearance_counts[char].keys():\n",
    "        \n",
    "        # Only add edge if the count is positive\n",
    "        if appearance_counts[char][co_char] > 0:\n",
    "            midsummer.add_edge(char, co_char, weight = appearance_counts[char][co_char])"
   ]
  },
  {
   "cell_type": "code",
   "execution_count": 23,
   "metadata": {},
   "outputs": [
    {
     "data": {
      "text/plain": [
       "EdgeView([('Theseus', 'Hippolyta'), ('Theseus', 'Egeus'), ('Theseus', 'Hermia'), ('Theseus', 'Helena'), ('Theseus', 'Lysander'), ('Theseus', 'Demetrius'), ('Theseus', 'Philostrate'), ('Theseus', 'Quince'), ('Theseus', 'Snug'), ('Theseus', 'Bottom'), ('Theseus', 'Flute'), ('Theseus', 'Snout'), ('Theseus', 'Starveling'), ('Theseus', 'Attendants'), ('Hippolyta', 'Egeus'), ('Hippolyta', 'Hermia'), ('Hippolyta', 'Helena'), ('Hippolyta', 'Lysander'), ('Hippolyta', 'Demetrius'), ('Hippolyta', 'Philostrate'), ('Hippolyta', 'Quince'), ('Hippolyta', 'Snug'), ('Hippolyta', 'Bottom'), ('Hippolyta', 'Flute'), ('Hippolyta', 'Snout'), ('Hippolyta', 'Starveling'), ('Hippolyta', 'Attendants'), ('Egeus', 'Hermia'), ('Egeus', 'Helena'), ('Egeus', 'Lysander'), ('Egeus', 'Demetrius'), ('Egeus', 'Bottom'), ('Egeus', 'Attendants'), ('Hermia', 'Helena'), ('Hermia', 'Lysander'), ('Hermia', 'Demetrius'), ('Hermia', 'Philostrate'), ('Hermia', 'Quince'), ('Hermia', 'Snug'), ('Hermia', 'Bottom'), ('Hermia', 'Flute'), ('Hermia', 'Snout'), ('Hermia', 'Starveling'), ('Hermia', 'Oberon'), ('Hermia', 'Titania'), ('Hermia', 'Puck'), ('Hermia', 'Peaseblossom'), ('Hermia', 'Cobweb'), ('Hermia', 'Moth'), ('Hermia', 'Mustardseed'), ('Hermia', 'Fairies'), ('Hermia', 'Attendants'), ('Helena', 'Lysander'), ('Helena', 'Demetrius'), ('Helena', 'Philostrate'), ('Helena', 'Quince'), ('Helena', 'Snug'), ('Helena', 'Bottom'), ('Helena', 'Flute'), ('Helena', 'Snout'), ('Helena', 'Starveling'), ('Helena', 'Oberon'), ('Helena', 'Titania'), ('Helena', 'Puck'), ('Helena', 'Peaseblossom'), ('Helena', 'Cobweb'), ('Helena', 'Moth'), ('Helena', 'Mustardseed'), ('Helena', 'Fairies'), ('Helena', 'Attendants'), ('Lysander', 'Demetrius'), ('Lysander', 'Philostrate'), ('Lysander', 'Quince'), ('Lysander', 'Snug'), ('Lysander', 'Bottom'), ('Lysander', 'Flute'), ('Lysander', 'Snout'), ('Lysander', 'Starveling'), ('Lysander', 'Oberon'), ('Lysander', 'Titania'), ('Lysander', 'Puck'), ('Lysander', 'Peaseblossom'), ('Lysander', 'Cobweb'), ('Lysander', 'Moth'), ('Lysander', 'Mustardseed'), ('Lysander', 'Fairies'), ('Lysander', 'Attendants'), ('Demetrius', 'Philostrate'), ('Demetrius', 'Quince'), ('Demetrius', 'Snug'), ('Demetrius', 'Bottom'), ('Demetrius', 'Flute'), ('Demetrius', 'Snout'), ('Demetrius', 'Starveling'), ('Demetrius', 'Oberon'), ('Demetrius', 'Titania'), ('Demetrius', 'Puck'), ('Demetrius', 'Peaseblossom'), ('Demetrius', 'Cobweb'), ('Demetrius', 'Moth'), ('Demetrius', 'Mustardseed'), ('Demetrius', 'Fairies'), ('Demetrius', 'Attendants'), ('Philostrate', 'Quince'), ('Philostrate', 'Snug'), ('Philostrate', 'Bottom'), ('Philostrate', 'Flute'), ('Philostrate', 'Snout'), ('Philostrate', 'Starveling'), ('Philostrate', 'Attendants'), ('Quince', 'Snug'), ('Quince', 'Bottom'), ('Quince', 'Flute'), ('Quince', 'Snout'), ('Quince', 'Starveling'), ('Quince', 'Titania'), ('Quince', 'Puck'), ('Quince', 'Attendants'), ('Snug', 'Bottom'), ('Snug', 'Flute'), ('Snug', 'Snout'), ('Snug', 'Starveling'), ('Snug', 'Titania'), ('Snug', 'Puck'), ('Snug', 'Attendants'), ('Bottom', 'Flute'), ('Bottom', 'Snout'), ('Bottom', 'Starveling'), ('Bottom', 'Oberon'), ('Bottom', 'Titania'), ('Bottom', 'Puck'), ('Bottom', 'Peaseblossom'), ('Bottom', 'Cobweb'), ('Bottom', 'Moth'), ('Bottom', 'Mustardseed'), ('Bottom', 'Fairies'), ('Bottom', 'Attendants'), ('Flute', 'Snout'), ('Flute', 'Starveling'), ('Flute', 'Titania'), ('Flute', 'Puck'), ('Flute', 'Attendants'), ('Snout', 'Starveling'), ('Snout', 'Titania'), ('Snout', 'Puck'), ('Snout', 'Attendants'), ('Starveling', 'Titania'), ('Starveling', 'Puck'), ('Starveling', 'Attendants'), ('Oberon', 'Titania'), ('Oberon', 'Puck'), ('Oberon', 'Peaseblossom'), ('Oberon', 'Cobweb'), ('Oberon', 'Moth'), ('Oberon', 'Mustardseed'), ('Oberon', 'Fairies'), ('Titania', 'Puck'), ('Titania', 'Peaseblossom'), ('Titania', 'Cobweb'), ('Titania', 'Moth'), ('Titania', 'Mustardseed'), ('Titania', 'Fairies'), ('Puck', 'Peaseblossom'), ('Puck', 'Cobweb'), ('Puck', 'Moth'), ('Puck', 'Mustardseed'), ('Puck', 'Fairies'), ('Peaseblossom', 'Cobweb'), ('Peaseblossom', 'Moth'), ('Peaseblossom', 'Mustardseed'), ('Peaseblossom', 'Fairies'), ('Cobweb', 'Moth'), ('Cobweb', 'Mustardseed'), ('Cobweb', 'Fairies'), ('Moth', 'Mustardseed'), ('Moth', 'Fairies'), ('Mustardseed', 'Fairies')])"
      ]
     },
     "execution_count": 23,
     "metadata": {},
     "output_type": "execute_result"
    }
   ],
   "source": [
    "midsummer.edges()"
   ]
  },
  {
   "cell_type": "code",
   "execution_count": 24,
   "metadata": {},
   "outputs": [],
   "source": [
    "# Get positions for the nodes in G\n",
    "pos_ = nx.spring_layout(midsummer)"
   ]
  },
  {
   "cell_type": "code",
   "execution_count": 25,
   "metadata": {},
   "outputs": [
    {
     "data": {
      "text/plain": [
       "{'Theseus': array([0.15549021, 0.64615676]),\n",
       " 'Hippolyta': array([-0.04070214,  0.76175404]),\n",
       " 'Egeus': array([0.61167639, 0.77745784]),\n",
       " 'Hermia': array([0.02457706, 0.13962701]),\n",
       " 'Helena': array([ 0.06590227, -0.10379414]),\n",
       " 'Lysander': array([0.23546185, 0.19281088]),\n",
       " 'Demetrius': array([0.25613162, 0.00791374]),\n",
       " 'Philostrate': array([-0.45933117,  0.93174067]),\n",
       " 'Quince': array([-0.52048898,  0.22235036]),\n",
       " 'Snug': array([-0.655577  , -0.01949484]),\n",
       " 'Bottom': array([-0.19060986, -0.03755511]),\n",
       " 'Flute': array([-0.75472791,  0.37949174]),\n",
       " 'Snout': array([-0.54036872,  0.47459791]),\n",
       " 'Starveling': array([-0.80745163,  0.13783187]),\n",
       " 'Oberon': array([ 0.03780243, -0.73314664]),\n",
       " 'Titania': array([ 0.08483665, -0.44663926]),\n",
       " 'Puck': array([-0.20380274, -0.47672891]),\n",
       " 'Peaseblossom': array([ 0.64716213, -0.5179198 ]),\n",
       " 'Cobweb': array([ 0.31071593, -1.        ]),\n",
       " 'Moth': array([ 0.69454997, -0.79478399]),\n",
       " 'Mustardseed': array([ 0.84219945, -0.37782358]),\n",
       " 'Fairies': array([ 0.36197453, -0.75602293]),\n",
       " 'Attendants': array([-0.15542033,  0.59217639])}"
      ]
     },
     "execution_count": 25,
     "metadata": {},
     "output_type": "execute_result"
    }
   ],
   "source": [
    "pos_"
   ]
  },
  {
   "cell_type": "code",
   "execution_count": 26,
   "metadata": {},
   "outputs": [
    {
     "data": {
      "text/plain": [
       "{'weight': 3}"
      ]
     },
     "execution_count": 26,
     "metadata": {},
     "output_type": "execute_result"
    }
   ],
   "source": [
    "midsummer.edges()[('Theseus', 'Hippolyta')]"
   ]
  },
  {
   "cell_type": "code",
   "execution_count": 27,
   "metadata": {},
   "outputs": [],
   "source": [
    "def make_edge(x, y, text, width):\n",
    "    \n",
    "    '''Creates a scatter trace for the edge between x's and y's with given width\n",
    "\n",
    "    Parameters\n",
    "    ----------\n",
    "    x    : a tuple of the endpoints' x-coordinates in the form, tuple([x0, x1, None])\n",
    "    \n",
    "    y    : a tuple of the endpoints' y-coordinates in the form, tuple([y0, y1, None])\n",
    "    \n",
    "    width: the width of the line\n",
    "\n",
    "    Returns\n",
    "    -------\n",
    "    An edge trace that goes between x0 and x1 with specified width.\n",
    "    '''\n",
    "    return  go.Scatter(x         = x,\n",
    "                       y         = y,\n",
    "                       line      = dict(width = width,\n",
    "                                   color = 'cornflowerblue'),\n",
    "                       hoverinfo = 'text',\n",
    "                       text      = ([text]),\n",
    "                       mode      = 'lines')"
   ]
  },
  {
   "cell_type": "code",
   "execution_count": 33,
   "metadata": {},
   "outputs": [],
   "source": [
    "# For each edge, make an edge_trace, append to list\n",
    "edge_trace = []\n",
    "for edge in midsummer.edges():\n",
    "    \n",
    "    if midsummer.edges()[edge]['weight'] > 0:\n",
    "        char_1 = edge[0]\n",
    "        char_2 = edge[1]\n",
    "\n",
    "        x0, y0 = pos_[char_1]\n",
    "        x1, y1 = pos_[char_2]\n",
    "\n",
    "        text   = char_1 + '--' + char_2 + ': ' + str(midsummer.edges()[edge]['weight'])\n",
    "        \n",
    "        trace  = make_edge([x0, x1, None], [y0, y1, None], text,\n",
    "                           0.3*midsummer.edges()[edge]['weight']**1.75)\n",
    "\n",
    "        edge_trace.append(trace)"
   ]
  },
  {
   "cell_type": "code",
   "execution_count": 36,
   "metadata": {},
   "outputs": [],
   "source": [
    "# Make a node trace\n",
    "node_trace = go.Scatter(x         = [],\n",
    "                        y         = [],\n",
    "                        text      = [],\n",
    "                        textposition = \"top center\",\n",
    "                        textfont_size = 10,\n",
    "                        mode      = 'markers+text',\n",
    "                        hoverinfo = 'none',\n",
    "                        marker    = dict(color = [],\n",
    "                                         size  = [],\n",
    "                                         line  = None))\n",
    "# For each node in midsummer, get the position and size and add to the node_trace\n",
    "for node in midsummer.nodes():\n",
    "    x, y = pos_[node]\n",
    "    node_trace['x'] += tuple([x])\n",
    "    node_trace['y'] += tuple([y])\n",
    "    node_trace['marker']['color'] += tuple(['cornflowerblue'])\n",
    "    node_trace['marker']['size'] += tuple([5*midsummer.nodes()[node]['size']])\n",
    "    node_trace['text'] += tuple(['<b>' + node + '</b>'])"
   ]
  },
  {
   "cell_type": "code",
   "execution_count": 37,
   "metadata": {},
   "outputs": [
    {
     "data": {
      "application/vnd.plotly.v1+json": {
       "config": {
        "plotlyServerURL": "https://plot.ly"
       },
       "data": [
        {
         "hoverinfo": "text",
         "line": {
          "color": "cornflowerblue",
          "width": 2.0515563512592996
         },
         "mode": "lines",
         "text": [
          "Theseus--Hippolyta: 3"
         ],
         "type": "scatter",
         "x": [
          0.1554902138750292,
          -0.04070213698679434,
          null
         ],
         "y": [
          0.6461567604274282,
          0.7617540358084427,
          null
         ]
        },
        {
         "hoverinfo": "text",
         "line": {
          "color": "cornflowerblue",
          "width": 1.0090756983044573
         },
         "mode": "lines",
         "text": [
          "Theseus--Egeus: 2"
         ],
         "type": "scatter",
         "x": [
          0.1554902138750292,
          0.6116763894640966,
          null
         ],
         "y": [
          0.6461567604274282,
          0.777457843952184,
          null
         ]
        },
        {
         "hoverinfo": "text",
         "line": {
          "color": "cornflowerblue",
          "width": 2.0515563512592996
         },
         "mode": "lines",
         "text": [
          "Theseus--Hermia: 3"
         ],
         "type": "scatter",
         "x": [
          0.1554902138750292,
          0.02457706255091086,
          null
         ],
         "y": [
          0.6461567604274282,
          0.13962701387691515,
          null
         ]
        },
        {
         "hoverinfo": "text",
         "line": {
          "color": "cornflowerblue",
          "width": 1.0090756983044573
         },
         "mode": "lines",
         "text": [
          "Theseus--Helena: 2"
         ],
         "type": "scatter",
         "x": [
          0.1554902138750292,
          0.06590227141141339,
          null
         ],
         "y": [
          0.6461567604274282,
          -0.10379414452443335,
          null
         ]
        },
        {
         "hoverinfo": "text",
         "line": {
          "color": "cornflowerblue",
          "width": 2.0515563512592996
         },
         "mode": "lines",
         "text": [
          "Theseus--Lysander: 3"
         ],
         "type": "scatter",
         "x": [
          0.1554902138750292,
          0.23546184612347698,
          null
         ],
         "y": [
          0.6461567604274282,
          0.1928108793466501,
          null
         ]
        },
        {
         "hoverinfo": "text",
         "line": {
          "color": "cornflowerblue",
          "width": 2.0515563512592996
         },
         "mode": "lines",
         "text": [
          "Theseus--Demetrius: 3"
         ],
         "type": "scatter",
         "x": [
          0.1554902138750292,
          0.25613161776046967,
          null
         ],
         "y": [
          0.6461567604274282,
          0.00791373722457011,
          null
         ]
        },
        {
         "hoverinfo": "text",
         "line": {
          "color": "cornflowerblue",
          "width": 1.0090756983044573
         },
         "mode": "lines",
         "text": [
          "Theseus--Philostrate: 2"
         ],
         "type": "scatter",
         "x": [
          0.1554902138750292,
          -0.4593311733942905,
          null
         ],
         "y": [
          0.6461567604274282,
          0.9317406714960749,
          null
         ]
        },
        {
         "hoverinfo": "text",
         "line": {
          "color": "cornflowerblue",
          "width": 0.3
         },
         "mode": "lines",
         "text": [
          "Theseus--Quince: 1"
         ],
         "type": "scatter",
         "x": [
          0.1554902138750292,
          -0.5204889824338365,
          null
         ],
         "y": [
          0.6461567604274282,
          0.22235035580694495,
          null
         ]
        },
        {
         "hoverinfo": "text",
         "line": {
          "color": "cornflowerblue",
          "width": 0.3
         },
         "mode": "lines",
         "text": [
          "Theseus--Snug: 1"
         ],
         "type": "scatter",
         "x": [
          0.1554902138750292,
          -0.655576999427171,
          null
         ],
         "y": [
          0.6461567604274282,
          -0.01949483935384284,
          null
         ]
        },
        {
         "hoverinfo": "text",
         "line": {
          "color": "cornflowerblue",
          "width": 1.0090756983044573
         },
         "mode": "lines",
         "text": [
          "Theseus--Bottom: 2"
         ],
         "type": "scatter",
         "x": [
          0.1554902138750292,
          -0.1906098569695587,
          null
         ],
         "y": [
          0.6461567604274282,
          -0.03755510788633763,
          null
         ]
        },
        {
         "hoverinfo": "text",
         "line": {
          "color": "cornflowerblue",
          "width": 0.3
         },
         "mode": "lines",
         "text": [
          "Theseus--Flute: 1"
         ],
         "type": "scatter",
         "x": [
          0.1554902138750292,
          -0.7547279135512309,
          null
         ],
         "y": [
          0.6461567604274282,
          0.3794917410761324,
          null
         ]
        },
        {
         "hoverinfo": "text",
         "line": {
          "color": "cornflowerblue",
          "width": 0.3
         },
         "mode": "lines",
         "text": [
          "Theseus--Snout: 1"
         ],
         "type": "scatter",
         "x": [
          0.1554902138750292,
          -0.5403687168238172,
          null
         ],
         "y": [
          0.6461567604274282,
          0.47459790892090853,
          null
         ]
        },
        {
         "hoverinfo": "text",
         "line": {
          "color": "cornflowerblue",
          "width": 0.3
         },
         "mode": "lines",
         "text": [
          "Theseus--Starveling: 1"
         ],
         "type": "scatter",
         "x": [
          0.1554902138750292,
          -0.8074516311500721,
          null
         ],
         "y": [
          0.6461567604274282,
          0.13783186893176808,
          null
         ]
        },
        {
         "hoverinfo": "text",
         "line": {
          "color": "cornflowerblue",
          "width": 2.0515563512592996
         },
         "mode": "lines",
         "text": [
          "Theseus--Attendants: 3"
         ],
         "type": "scatter",
         "x": [
          0.1554902138750292,
          -0.15542033470591832,
          null
         ],
         "y": [
          0.6461567604274282,
          0.5921763898081837,
          null
         ]
        },
        {
         "hoverinfo": "text",
         "line": {
          "color": "cornflowerblue",
          "width": 1.0090756983044573
         },
         "mode": "lines",
         "text": [
          "Hippolyta--Egeus: 2"
         ],
         "type": "scatter",
         "x": [
          -0.04070213698679434,
          0.6116763894640966,
          null
         ],
         "y": [
          0.7617540358084427,
          0.777457843952184,
          null
         ]
        },
        {
         "hoverinfo": "text",
         "line": {
          "color": "cornflowerblue",
          "width": 2.0515563512592996
         },
         "mode": "lines",
         "text": [
          "Hippolyta--Hermia: 3"
         ],
         "type": "scatter",
         "x": [
          -0.04070213698679434,
          0.02457706255091086,
          null
         ],
         "y": [
          0.7617540358084427,
          0.13962701387691515,
          null
         ]
        },
        {
         "hoverinfo": "text",
         "line": {
          "color": "cornflowerblue",
          "width": 1.0090756983044573
         },
         "mode": "lines",
         "text": [
          "Hippolyta--Helena: 2"
         ],
         "type": "scatter",
         "x": [
          -0.04070213698679434,
          0.06590227141141339,
          null
         ],
         "y": [
          0.7617540358084427,
          -0.10379414452443335,
          null
         ]
        },
        {
         "hoverinfo": "text",
         "line": {
          "color": "cornflowerblue",
          "width": 2.0515563512592996
         },
         "mode": "lines",
         "text": [
          "Hippolyta--Lysander: 3"
         ],
         "type": "scatter",
         "x": [
          -0.04070213698679434,
          0.23546184612347698,
          null
         ],
         "y": [
          0.7617540358084427,
          0.1928108793466501,
          null
         ]
        },
        {
         "hoverinfo": "text",
         "line": {
          "color": "cornflowerblue",
          "width": 2.0515563512592996
         },
         "mode": "lines",
         "text": [
          "Hippolyta--Demetrius: 3"
         ],
         "type": "scatter",
         "x": [
          -0.04070213698679434,
          0.25613161776046967,
          null
         ],
         "y": [
          0.7617540358084427,
          0.00791373722457011,
          null
         ]
        },
        {
         "hoverinfo": "text",
         "line": {
          "color": "cornflowerblue",
          "width": 1.0090756983044573
         },
         "mode": "lines",
         "text": [
          "Hippolyta--Philostrate: 2"
         ],
         "type": "scatter",
         "x": [
          -0.04070213698679434,
          -0.4593311733942905,
          null
         ],
         "y": [
          0.7617540358084427,
          0.9317406714960749,
          null
         ]
        },
        {
         "hoverinfo": "text",
         "line": {
          "color": "cornflowerblue",
          "width": 0.3
         },
         "mode": "lines",
         "text": [
          "Hippolyta--Quince: 1"
         ],
         "type": "scatter",
         "x": [
          -0.04070213698679434,
          -0.5204889824338365,
          null
         ],
         "y": [
          0.7617540358084427,
          0.22235035580694495,
          null
         ]
        },
        {
         "hoverinfo": "text",
         "line": {
          "color": "cornflowerblue",
          "width": 0.3
         },
         "mode": "lines",
         "text": [
          "Hippolyta--Snug: 1"
         ],
         "type": "scatter",
         "x": [
          -0.04070213698679434,
          -0.655576999427171,
          null
         ],
         "y": [
          0.7617540358084427,
          -0.01949483935384284,
          null
         ]
        },
        {
         "hoverinfo": "text",
         "line": {
          "color": "cornflowerblue",
          "width": 1.0090756983044573
         },
         "mode": "lines",
         "text": [
          "Hippolyta--Bottom: 2"
         ],
         "type": "scatter",
         "x": [
          -0.04070213698679434,
          -0.1906098569695587,
          null
         ],
         "y": [
          0.7617540358084427,
          -0.03755510788633763,
          null
         ]
        },
        {
         "hoverinfo": "text",
         "line": {
          "color": "cornflowerblue",
          "width": 0.3
         },
         "mode": "lines",
         "text": [
          "Hippolyta--Flute: 1"
         ],
         "type": "scatter",
         "x": [
          -0.04070213698679434,
          -0.7547279135512309,
          null
         ],
         "y": [
          0.7617540358084427,
          0.3794917410761324,
          null
         ]
        },
        {
         "hoverinfo": "text",
         "line": {
          "color": "cornflowerblue",
          "width": 0.3
         },
         "mode": "lines",
         "text": [
          "Hippolyta--Snout: 1"
         ],
         "type": "scatter",
         "x": [
          -0.04070213698679434,
          -0.5403687168238172,
          null
         ],
         "y": [
          0.7617540358084427,
          0.47459790892090853,
          null
         ]
        },
        {
         "hoverinfo": "text",
         "line": {
          "color": "cornflowerblue",
          "width": 0.3
         },
         "mode": "lines",
         "text": [
          "Hippolyta--Starveling: 1"
         ],
         "type": "scatter",
         "x": [
          -0.04070213698679434,
          -0.8074516311500721,
          null
         ],
         "y": [
          0.7617540358084427,
          0.13783186893176808,
          null
         ]
        },
        {
         "hoverinfo": "text",
         "line": {
          "color": "cornflowerblue",
          "width": 2.0515563512592996
         },
         "mode": "lines",
         "text": [
          "Hippolyta--Attendants: 3"
         ],
         "type": "scatter",
         "x": [
          -0.04070213698679434,
          -0.15542033470591832,
          null
         ],
         "y": [
          0.7617540358084427,
          0.5921763898081837,
          null
         ]
        },
        {
         "hoverinfo": "text",
         "line": {
          "color": "cornflowerblue",
          "width": 1.0090756983044573
         },
         "mode": "lines",
         "text": [
          "Egeus--Hermia: 2"
         ],
         "type": "scatter",
         "x": [
          0.6116763894640966,
          0.02457706255091086,
          null
         ],
         "y": [
          0.777457843952184,
          0.13962701387691515,
          null
         ]
        },
        {
         "hoverinfo": "text",
         "line": {
          "color": "cornflowerblue",
          "width": 0.3
         },
         "mode": "lines",
         "text": [
          "Egeus--Helena: 1"
         ],
         "type": "scatter",
         "x": [
          0.6116763894640966,
          0.06590227141141339,
          null
         ],
         "y": [
          0.777457843952184,
          -0.10379414452443335,
          null
         ]
        },
        {
         "hoverinfo": "text",
         "line": {
          "color": "cornflowerblue",
          "width": 1.0090756983044573
         },
         "mode": "lines",
         "text": [
          "Egeus--Lysander: 2"
         ],
         "type": "scatter",
         "x": [
          0.6116763894640966,
          0.23546184612347698,
          null
         ],
         "y": [
          0.777457843952184,
          0.1928108793466501,
          null
         ]
        },
        {
         "hoverinfo": "text",
         "line": {
          "color": "cornflowerblue",
          "width": 1.0090756983044573
         },
         "mode": "lines",
         "text": [
          "Egeus--Demetrius: 2"
         ],
         "type": "scatter",
         "x": [
          0.6116763894640966,
          0.25613161776046967,
          null
         ],
         "y": [
          0.777457843952184,
          0.00791373722457011,
          null
         ]
        },
        {
         "hoverinfo": "text",
         "line": {
          "color": "cornflowerblue",
          "width": 0.3
         },
         "mode": "lines",
         "text": [
          "Egeus--Bottom: 1"
         ],
         "type": "scatter",
         "x": [
          0.6116763894640966,
          -0.1906098569695587,
          null
         ],
         "y": [
          0.777457843952184,
          -0.03755510788633763,
          null
         ]
        },
        {
         "hoverinfo": "text",
         "line": {
          "color": "cornflowerblue",
          "width": 1.0090756983044573
         },
         "mode": "lines",
         "text": [
          "Egeus--Attendants: 2"
         ],
         "type": "scatter",
         "x": [
          0.6116763894640966,
          -0.15542033470591832,
          null
         ],
         "y": [
          0.777457843952184,
          0.5921763898081837,
          null
         ]
        },
        {
         "hoverinfo": "text",
         "line": {
          "color": "cornflowerblue",
          "width": 5.015552287323165
         },
         "mode": "lines",
         "text": [
          "Hermia--Helena: 5"
         ],
         "type": "scatter",
         "x": [
          0.02457706255091086,
          0.06590227141141339,
          null
         ],
         "y": [
          0.13962701387691515,
          -0.10379414452443335,
          null
         ]
        },
        {
         "hoverinfo": "text",
         "line": {
          "color": "cornflowerblue",
          "width": 5.015552287323165
         },
         "mode": "lines",
         "text": [
          "Hermia--Lysander: 5"
         ],
         "type": "scatter",
         "x": [
          0.02457706255091086,
          0.23546184612347698,
          null
         ],
         "y": [
          0.13962701387691515,
          0.1928108793466501,
          null
         ]
        },
        {
         "hoverinfo": "text",
         "line": {
          "color": "cornflowerblue",
          "width": 5.015552287323165
         },
         "mode": "lines",
         "text": [
          "Hermia--Demetrius: 5"
         ],
         "type": "scatter",
         "x": [
          0.02457706255091086,
          0.25613161776046967,
          null
         ],
         "y": [
          0.13962701387691515,
          0.00791373722457011,
          null
         ]
        },
        {
         "hoverinfo": "text",
         "line": {
          "color": "cornflowerblue",
          "width": 0.3
         },
         "mode": "lines",
         "text": [
          "Hermia--Philostrate: 1"
         ],
         "type": "scatter",
         "x": [
          0.02457706255091086,
          -0.4593311733942905,
          null
         ],
         "y": [
          0.13962701387691515,
          0.9317406714960749,
          null
         ]
        },
        {
         "hoverinfo": "text",
         "line": {
          "color": "cornflowerblue",
          "width": 0.3
         },
         "mode": "lines",
         "text": [
          "Hermia--Quince: 1"
         ],
         "type": "scatter",
         "x": [
          0.02457706255091086,
          -0.5204889824338365,
          null
         ],
         "y": [
          0.13962701387691515,
          0.22235035580694495,
          null
         ]
        },
        {
         "hoverinfo": "text",
         "line": {
          "color": "cornflowerblue",
          "width": 0.3
         },
         "mode": "lines",
         "text": [
          "Hermia--Snug: 1"
         ],
         "type": "scatter",
         "x": [
          0.02457706255091086,
          -0.655576999427171,
          null
         ],
         "y": [
          0.13962701387691515,
          -0.01949483935384284,
          null
         ]
        },
        {
         "hoverinfo": "text",
         "line": {
          "color": "cornflowerblue",
          "width": 1.0090756983044573
         },
         "mode": "lines",
         "text": [
          "Hermia--Bottom: 2"
         ],
         "type": "scatter",
         "x": [
          0.02457706255091086,
          -0.1906098569695587,
          null
         ],
         "y": [
          0.13962701387691515,
          -0.03755510788633763,
          null
         ]
        },
        {
         "hoverinfo": "text",
         "line": {
          "color": "cornflowerblue",
          "width": 0.3
         },
         "mode": "lines",
         "text": [
          "Hermia--Flute: 1"
         ],
         "type": "scatter",
         "x": [
          0.02457706255091086,
          -0.7547279135512309,
          null
         ],
         "y": [
          0.13962701387691515,
          0.3794917410761324,
          null
         ]
        },
        {
         "hoverinfo": "text",
         "line": {
          "color": "cornflowerblue",
          "width": 0.3
         },
         "mode": "lines",
         "text": [
          "Hermia--Snout: 1"
         ],
         "type": "scatter",
         "x": [
          0.02457706255091086,
          -0.5403687168238172,
          null
         ],
         "y": [
          0.13962701387691515,
          0.47459790892090853,
          null
         ]
        },
        {
         "hoverinfo": "text",
         "line": {
          "color": "cornflowerblue",
          "width": 0.3
         },
         "mode": "lines",
         "text": [
          "Hermia--Starveling: 1"
         ],
         "type": "scatter",
         "x": [
          0.02457706255091086,
          -0.8074516311500721,
          null
         ],
         "y": [
          0.13962701387691515,
          0.13783186893176808,
          null
         ]
        },
        {
         "hoverinfo": "text",
         "line": {
          "color": "cornflowerblue",
          "width": 1.0090756983044573
         },
         "mode": "lines",
         "text": [
          "Hermia--Oberon: 2"
         ],
         "type": "scatter",
         "x": [
          0.02457706255091086,
          0.03780242648066849,
          null
         ],
         "y": [
          0.13962701387691515,
          -0.7331466447881557,
          null
         ]
        },
        {
         "hoverinfo": "text",
         "line": {
          "color": "cornflowerblue",
          "width": 1.0090756983044573
         },
         "mode": "lines",
         "text": [
          "Hermia--Titania: 2"
         ],
         "type": "scatter",
         "x": [
          0.02457706255091086,
          0.08483664581578082,
          null
         ],
         "y": [
          0.13962701387691515,
          -0.4466392644341982,
          null
         ]
        },
        {
         "hoverinfo": "text",
         "line": {
          "color": "cornflowerblue",
          "width": 2.0515563512592996
         },
         "mode": "lines",
         "text": [
          "Hermia--Puck: 3"
         ],
         "type": "scatter",
         "x": [
          0.02457706255091086,
          -0.20380273707368468,
          null
         ],
         "y": [
          0.13962701387691515,
          -0.47672890520182126,
          null
         ]
        },
        {
         "hoverinfo": "text",
         "line": {
          "color": "cornflowerblue",
          "width": 0.3
         },
         "mode": "lines",
         "text": [
          "Hermia--Peaseblossom: 1"
         ],
         "type": "scatter",
         "x": [
          0.02457706255091086,
          0.6471621292801955,
          null
         ],
         "y": [
          0.13962701387691515,
          -0.5179197960503585,
          null
         ]
        },
        {
         "hoverinfo": "text",
         "line": {
          "color": "cornflowerblue",
          "width": 0.3
         },
         "mode": "lines",
         "text": [
          "Hermia--Cobweb: 1"
         ],
         "type": "scatter",
         "x": [
          0.02457706255091086,
          0.31071592584759494,
          null
         ],
         "y": [
          0.13962701387691515,
          -1,
          null
         ]
        },
        {
         "hoverinfo": "text",
         "line": {
          "color": "cornflowerblue",
          "width": 0.3
         },
         "mode": "lines",
         "text": [
          "Hermia--Moth: 1"
         ],
         "type": "scatter",
         "x": [
          0.02457706255091086,
          0.6945499683517943,
          null
         ],
         "y": [
          0.13962701387691515,
          -0.7947839872811138,
          null
         ]
        },
        {
         "hoverinfo": "text",
         "line": {
          "color": "cornflowerblue",
          "width": 0.3
         },
         "mode": "lines",
         "text": [
          "Hermia--Mustardseed: 1"
         ],
         "type": "scatter",
         "x": [
          0.02457706255091086,
          0.8421994532944821,
          null
         ],
         "y": [
          0.13962701387691515,
          -0.3778235831239674,
          null
         ]
        },
        {
         "hoverinfo": "text",
         "line": {
          "color": "cornflowerblue",
          "width": 0.3
         },
         "mode": "lines",
         "text": [
          "Hermia--Fairies: 1"
         ],
         "type": "scatter",
         "x": [
          0.02457706255091086,
          0.3619745322604507,
          null
         ],
         "y": [
          0.13962701387691515,
          -0.7560229340319775,
          null
         ]
        },
        {
         "hoverinfo": "text",
         "line": {
          "color": "cornflowerblue",
          "width": 2.0515563512592996
         },
         "mode": "lines",
         "text": [
          "Hermia--Attendants: 3"
         ],
         "type": "scatter",
         "x": [
          0.02457706255091086,
          -0.15542033470591832,
          null
         ],
         "y": [
          0.13962701387691515,
          0.5921763898081837,
          null
         ]
        },
        {
         "hoverinfo": "text",
         "line": {
          "color": "cornflowerblue",
          "width": 5.015552287323165
         },
         "mode": "lines",
         "text": [
          "Helena--Lysander: 5"
         ],
         "type": "scatter",
         "x": [
          0.06590227141141339,
          0.23546184612347698,
          null
         ],
         "y": [
          -0.10379414452443335,
          0.1928108793466501,
          null
         ]
        },
        {
         "hoverinfo": "text",
         "line": {
          "color": "cornflowerblue",
          "width": 5.015552287323165
         },
         "mode": "lines",
         "text": [
          "Helena--Demetrius: 5"
         ],
         "type": "scatter",
         "x": [
          0.06590227141141339,
          0.25613161776046967,
          null
         ],
         "y": [
          -0.10379414452443335,
          0.00791373722457011,
          null
         ]
        },
        {
         "hoverinfo": "text",
         "line": {
          "color": "cornflowerblue",
          "width": 0.3
         },
         "mode": "lines",
         "text": [
          "Helena--Philostrate: 1"
         ],
         "type": "scatter",
         "x": [
          0.06590227141141339,
          -0.4593311733942905,
          null
         ],
         "y": [
          -0.10379414452443335,
          0.9317406714960749,
          null
         ]
        },
        {
         "hoverinfo": "text",
         "line": {
          "color": "cornflowerblue",
          "width": 0.3
         },
         "mode": "lines",
         "text": [
          "Helena--Quince: 1"
         ],
         "type": "scatter",
         "x": [
          0.06590227141141339,
          -0.5204889824338365,
          null
         ],
         "y": [
          -0.10379414452443335,
          0.22235035580694495,
          null
         ]
        },
        {
         "hoverinfo": "text",
         "line": {
          "color": "cornflowerblue",
          "width": 0.3
         },
         "mode": "lines",
         "text": [
          "Helena--Snug: 1"
         ],
         "type": "scatter",
         "x": [
          0.06590227141141339,
          -0.655576999427171,
          null
         ],
         "y": [
          -0.10379414452443335,
          -0.01949483935384284,
          null
         ]
        },
        {
         "hoverinfo": "text",
         "line": {
          "color": "cornflowerblue",
          "width": 1.0090756983044573
         },
         "mode": "lines",
         "text": [
          "Helena--Bottom: 2"
         ],
         "type": "scatter",
         "x": [
          0.06590227141141339,
          -0.1906098569695587,
          null
         ],
         "y": [
          -0.10379414452443335,
          -0.03755510788633763,
          null
         ]
        },
        {
         "hoverinfo": "text",
         "line": {
          "color": "cornflowerblue",
          "width": 0.3
         },
         "mode": "lines",
         "text": [
          "Helena--Flute: 1"
         ],
         "type": "scatter",
         "x": [
          0.06590227141141339,
          -0.7547279135512309,
          null
         ],
         "y": [
          -0.10379414452443335,
          0.3794917410761324,
          null
         ]
        },
        {
         "hoverinfo": "text",
         "line": {
          "color": "cornflowerblue",
          "width": 0.3
         },
         "mode": "lines",
         "text": [
          "Helena--Snout: 1"
         ],
         "type": "scatter",
         "x": [
          0.06590227141141339,
          -0.5403687168238172,
          null
         ],
         "y": [
          -0.10379414452443335,
          0.47459790892090853,
          null
         ]
        },
        {
         "hoverinfo": "text",
         "line": {
          "color": "cornflowerblue",
          "width": 0.3
         },
         "mode": "lines",
         "text": [
          "Helena--Starveling: 1"
         ],
         "type": "scatter",
         "x": [
          0.06590227141141339,
          -0.8074516311500721,
          null
         ],
         "y": [
          -0.10379414452443335,
          0.13783186893176808,
          null
         ]
        },
        {
         "hoverinfo": "text",
         "line": {
          "color": "cornflowerblue",
          "width": 2.0515563512592996
         },
         "mode": "lines",
         "text": [
          "Helena--Oberon: 3"
         ],
         "type": "scatter",
         "x": [
          0.06590227141141339,
          0.03780242648066849,
          null
         ],
         "y": [
          -0.10379414452443335,
          -0.7331466447881557,
          null
         ]
        },
        {
         "hoverinfo": "text",
         "line": {
          "color": "cornflowerblue",
          "width": 1.0090756983044573
         },
         "mode": "lines",
         "text": [
          "Helena--Titania: 2"
         ],
         "type": "scatter",
         "x": [
          0.06590227141141339,
          0.08483664581578082,
          null
         ],
         "y": [
          -0.10379414452443335,
          -0.4466392644341982,
          null
         ]
        },
        {
         "hoverinfo": "text",
         "line": {
          "color": "cornflowerblue",
          "width": 1.0090756983044573
         },
         "mode": "lines",
         "text": [
          "Helena--Puck: 2"
         ],
         "type": "scatter",
         "x": [
          0.06590227141141339,
          -0.20380273707368468,
          null
         ],
         "y": [
          -0.10379414452443335,
          -0.47672890520182126,
          null
         ]
        },
        {
         "hoverinfo": "text",
         "line": {
          "color": "cornflowerblue",
          "width": 0.3
         },
         "mode": "lines",
         "text": [
          "Helena--Peaseblossom: 1"
         ],
         "type": "scatter",
         "x": [
          0.06590227141141339,
          0.6471621292801955,
          null
         ],
         "y": [
          -0.10379414452443335,
          -0.5179197960503585,
          null
         ]
        },
        {
         "hoverinfo": "text",
         "line": {
          "color": "cornflowerblue",
          "width": 0.3
         },
         "mode": "lines",
         "text": [
          "Helena--Cobweb: 1"
         ],
         "type": "scatter",
         "x": [
          0.06590227141141339,
          0.31071592584759494,
          null
         ],
         "y": [
          -0.10379414452443335,
          -1,
          null
         ]
        },
        {
         "hoverinfo": "text",
         "line": {
          "color": "cornflowerblue",
          "width": 0.3
         },
         "mode": "lines",
         "text": [
          "Helena--Moth: 1"
         ],
         "type": "scatter",
         "x": [
          0.06590227141141339,
          0.6945499683517943,
          null
         ],
         "y": [
          -0.10379414452443335,
          -0.7947839872811138,
          null
         ]
        },
        {
         "hoverinfo": "text",
         "line": {
          "color": "cornflowerblue",
          "width": 0.3
         },
         "mode": "lines",
         "text": [
          "Helena--Mustardseed: 1"
         ],
         "type": "scatter",
         "x": [
          0.06590227141141339,
          0.8421994532944821,
          null
         ],
         "y": [
          -0.10379414452443335,
          -0.3778235831239674,
          null
         ]
        },
        {
         "hoverinfo": "text",
         "line": {
          "color": "cornflowerblue",
          "width": 1.0090756983044573
         },
         "mode": "lines",
         "text": [
          "Helena--Fairies: 2"
         ],
         "type": "scatter",
         "x": [
          0.06590227141141339,
          0.3619745322604507,
          null
         ],
         "y": [
          -0.10379414452443335,
          -0.7560229340319775,
          null
         ]
        },
        {
         "hoverinfo": "text",
         "line": {
          "color": "cornflowerblue",
          "width": 1.0090756983044573
         },
         "mode": "lines",
         "text": [
          "Helena--Attendants: 2"
         ],
         "type": "scatter",
         "x": [
          0.06590227141141339,
          -0.15542033470591832,
          null
         ],
         "y": [
          -0.10379414452443335,
          0.5921763898081837,
          null
         ]
        },
        {
         "hoverinfo": "text",
         "line": {
          "color": "cornflowerblue",
          "width": 5.015552287323165
         },
         "mode": "lines",
         "text": [
          "Lysander--Demetrius: 5"
         ],
         "type": "scatter",
         "x": [
          0.23546184612347698,
          0.25613161776046967,
          null
         ],
         "y": [
          0.1928108793466501,
          0.00791373722457011,
          null
         ]
        },
        {
         "hoverinfo": "text",
         "line": {
          "color": "cornflowerblue",
          "width": 0.3
         },
         "mode": "lines",
         "text": [
          "Lysander--Philostrate: 1"
         ],
         "type": "scatter",
         "x": [
          0.23546184612347698,
          -0.4593311733942905,
          null
         ],
         "y": [
          0.1928108793466501,
          0.9317406714960749,
          null
         ]
        },
        {
         "hoverinfo": "text",
         "line": {
          "color": "cornflowerblue",
          "width": 0.3
         },
         "mode": "lines",
         "text": [
          "Lysander--Quince: 1"
         ],
         "type": "scatter",
         "x": [
          0.23546184612347698,
          -0.5204889824338365,
          null
         ],
         "y": [
          0.1928108793466501,
          0.22235035580694495,
          null
         ]
        },
        {
         "hoverinfo": "text",
         "line": {
          "color": "cornflowerblue",
          "width": 0.3
         },
         "mode": "lines",
         "text": [
          "Lysander--Snug: 1"
         ],
         "type": "scatter",
         "x": [
          0.23546184612347698,
          -0.655576999427171,
          null
         ],
         "y": [
          0.1928108793466501,
          -0.01949483935384284,
          null
         ]
        },
        {
         "hoverinfo": "text",
         "line": {
          "color": "cornflowerblue",
          "width": 1.0090756983044573
         },
         "mode": "lines",
         "text": [
          "Lysander--Bottom: 2"
         ],
         "type": "scatter",
         "x": [
          0.23546184612347698,
          -0.1906098569695587,
          null
         ],
         "y": [
          0.1928108793466501,
          -0.03755510788633763,
          null
         ]
        },
        {
         "hoverinfo": "text",
         "line": {
          "color": "cornflowerblue",
          "width": 0.3
         },
         "mode": "lines",
         "text": [
          "Lysander--Flute: 1"
         ],
         "type": "scatter",
         "x": [
          0.23546184612347698,
          -0.7547279135512309,
          null
         ],
         "y": [
          0.1928108793466501,
          0.3794917410761324,
          null
         ]
        },
        {
         "hoverinfo": "text",
         "line": {
          "color": "cornflowerblue",
          "width": 0.3
         },
         "mode": "lines",
         "text": [
          "Lysander--Snout: 1"
         ],
         "type": "scatter",
         "x": [
          0.23546184612347698,
          -0.5403687168238172,
          null
         ],
         "y": [
          0.1928108793466501,
          0.47459790892090853,
          null
         ]
        },
        {
         "hoverinfo": "text",
         "line": {
          "color": "cornflowerblue",
          "width": 0.3
         },
         "mode": "lines",
         "text": [
          "Lysander--Starveling: 1"
         ],
         "type": "scatter",
         "x": [
          0.23546184612347698,
          -0.8074516311500721,
          null
         ],
         "y": [
          0.1928108793466501,
          0.13783186893176808,
          null
         ]
        },
        {
         "hoverinfo": "text",
         "line": {
          "color": "cornflowerblue",
          "width": 1.0090756983044573
         },
         "mode": "lines",
         "text": [
          "Lysander--Oberon: 2"
         ],
         "type": "scatter",
         "x": [
          0.23546184612347698,
          0.03780242648066849,
          null
         ],
         "y": [
          0.1928108793466501,
          -0.7331466447881557,
          null
         ]
        },
        {
         "hoverinfo": "text",
         "line": {
          "color": "cornflowerblue",
          "width": 1.0090756983044573
         },
         "mode": "lines",
         "text": [
          "Lysander--Titania: 2"
         ],
         "type": "scatter",
         "x": [
          0.23546184612347698,
          0.08483664581578082,
          null
         ],
         "y": [
          0.1928108793466501,
          -0.4466392644341982,
          null
         ]
        },
        {
         "hoverinfo": "text",
         "line": {
          "color": "cornflowerblue",
          "width": 2.0515563512592996
         },
         "mode": "lines",
         "text": [
          "Lysander--Puck: 3"
         ],
         "type": "scatter",
         "x": [
          0.23546184612347698,
          -0.20380273707368468,
          null
         ],
         "y": [
          0.1928108793466501,
          -0.47672890520182126,
          null
         ]
        },
        {
         "hoverinfo": "text",
         "line": {
          "color": "cornflowerblue",
          "width": 0.3
         },
         "mode": "lines",
         "text": [
          "Lysander--Peaseblossom: 1"
         ],
         "type": "scatter",
         "x": [
          0.23546184612347698,
          0.6471621292801955,
          null
         ],
         "y": [
          0.1928108793466501,
          -0.5179197960503585,
          null
         ]
        },
        {
         "hoverinfo": "text",
         "line": {
          "color": "cornflowerblue",
          "width": 0.3
         },
         "mode": "lines",
         "text": [
          "Lysander--Cobweb: 1"
         ],
         "type": "scatter",
         "x": [
          0.23546184612347698,
          0.31071592584759494,
          null
         ],
         "y": [
          0.1928108793466501,
          -1,
          null
         ]
        },
        {
         "hoverinfo": "text",
         "line": {
          "color": "cornflowerblue",
          "width": 0.3
         },
         "mode": "lines",
         "text": [
          "Lysander--Moth: 1"
         ],
         "type": "scatter",
         "x": [
          0.23546184612347698,
          0.6945499683517943,
          null
         ],
         "y": [
          0.1928108793466501,
          -0.7947839872811138,
          null
         ]
        },
        {
         "hoverinfo": "text",
         "line": {
          "color": "cornflowerblue",
          "width": 0.3
         },
         "mode": "lines",
         "text": [
          "Lysander--Mustardseed: 1"
         ],
         "type": "scatter",
         "x": [
          0.23546184612347698,
          0.8421994532944821,
          null
         ],
         "y": [
          0.1928108793466501,
          -0.3778235831239674,
          null
         ]
        },
        {
         "hoverinfo": "text",
         "line": {
          "color": "cornflowerblue",
          "width": 0.3
         },
         "mode": "lines",
         "text": [
          "Lysander--Fairies: 1"
         ],
         "type": "scatter",
         "x": [
          0.23546184612347698,
          0.3619745322604507,
          null
         ],
         "y": [
          0.1928108793466501,
          -0.7560229340319775,
          null
         ]
        },
        {
         "hoverinfo": "text",
         "line": {
          "color": "cornflowerblue",
          "width": 2.0515563512592996
         },
         "mode": "lines",
         "text": [
          "Lysander--Attendants: 3"
         ],
         "type": "scatter",
         "x": [
          0.23546184612347698,
          -0.15542033470591832,
          null
         ],
         "y": [
          0.1928108793466501,
          0.5921763898081837,
          null
         ]
        },
        {
         "hoverinfo": "text",
         "line": {
          "color": "cornflowerblue",
          "width": 0.3
         },
         "mode": "lines",
         "text": [
          "Demetrius--Philostrate: 1"
         ],
         "type": "scatter",
         "x": [
          0.25613161776046967,
          -0.4593311733942905,
          null
         ],
         "y": [
          0.00791373722457011,
          0.9317406714960749,
          null
         ]
        },
        {
         "hoverinfo": "text",
         "line": {
          "color": "cornflowerblue",
          "width": 0.3
         },
         "mode": "lines",
         "text": [
          "Demetrius--Quince: 1"
         ],
         "type": "scatter",
         "x": [
          0.25613161776046967,
          -0.5204889824338365,
          null
         ],
         "y": [
          0.00791373722457011,
          0.22235035580694495,
          null
         ]
        },
        {
         "hoverinfo": "text",
         "line": {
          "color": "cornflowerblue",
          "width": 0.3
         },
         "mode": "lines",
         "text": [
          "Demetrius--Snug: 1"
         ],
         "type": "scatter",
         "x": [
          0.25613161776046967,
          -0.655576999427171,
          null
         ],
         "y": [
          0.00791373722457011,
          -0.01949483935384284,
          null
         ]
        },
        {
         "hoverinfo": "text",
         "line": {
          "color": "cornflowerblue",
          "width": 1.0090756983044573
         },
         "mode": "lines",
         "text": [
          "Demetrius--Bottom: 2"
         ],
         "type": "scatter",
         "x": [
          0.25613161776046967,
          -0.1906098569695587,
          null
         ],
         "y": [
          0.00791373722457011,
          -0.03755510788633763,
          null
         ]
        },
        {
         "hoverinfo": "text",
         "line": {
          "color": "cornflowerblue",
          "width": 0.3
         },
         "mode": "lines",
         "text": [
          "Demetrius--Flute: 1"
         ],
         "type": "scatter",
         "x": [
          0.25613161776046967,
          -0.7547279135512309,
          null
         ],
         "y": [
          0.00791373722457011,
          0.3794917410761324,
          null
         ]
        },
        {
         "hoverinfo": "text",
         "line": {
          "color": "cornflowerblue",
          "width": 0.3
         },
         "mode": "lines",
         "text": [
          "Demetrius--Snout: 1"
         ],
         "type": "scatter",
         "x": [
          0.25613161776046967,
          -0.5403687168238172,
          null
         ],
         "y": [
          0.00791373722457011,
          0.47459790892090853,
          null
         ]
        },
        {
         "hoverinfo": "text",
         "line": {
          "color": "cornflowerblue",
          "width": 0.3
         },
         "mode": "lines",
         "text": [
          "Demetrius--Starveling: 1"
         ],
         "type": "scatter",
         "x": [
          0.25613161776046967,
          -0.8074516311500721,
          null
         ],
         "y": [
          0.00791373722457011,
          0.13783186893176808,
          null
         ]
        },
        {
         "hoverinfo": "text",
         "line": {
          "color": "cornflowerblue",
          "width": 2.0515563512592996
         },
         "mode": "lines",
         "text": [
          "Demetrius--Oberon: 3"
         ],
         "type": "scatter",
         "x": [
          0.25613161776046967,
          0.03780242648066849,
          null
         ],
         "y": [
          0.00791373722457011,
          -0.7331466447881557,
          null
         ]
        },
        {
         "hoverinfo": "text",
         "line": {
          "color": "cornflowerblue",
          "width": 1.0090756983044573
         },
         "mode": "lines",
         "text": [
          "Demetrius--Titania: 2"
         ],
         "type": "scatter",
         "x": [
          0.25613161776046967,
          0.08483664581578082,
          null
         ],
         "y": [
          0.00791373722457011,
          -0.4466392644341982,
          null
         ]
        },
        {
         "hoverinfo": "text",
         "line": {
          "color": "cornflowerblue",
          "width": 1.0090756983044573
         },
         "mode": "lines",
         "text": [
          "Demetrius--Puck: 2"
         ],
         "type": "scatter",
         "x": [
          0.25613161776046967,
          -0.20380273707368468,
          null
         ],
         "y": [
          0.00791373722457011,
          -0.47672890520182126,
          null
         ]
        },
        {
         "hoverinfo": "text",
         "line": {
          "color": "cornflowerblue",
          "width": 0.3
         },
         "mode": "lines",
         "text": [
          "Demetrius--Peaseblossom: 1"
         ],
         "type": "scatter",
         "x": [
          0.25613161776046967,
          0.6471621292801955,
          null
         ],
         "y": [
          0.00791373722457011,
          -0.5179197960503585,
          null
         ]
        },
        {
         "hoverinfo": "text",
         "line": {
          "color": "cornflowerblue",
          "width": 0.3
         },
         "mode": "lines",
         "text": [
          "Demetrius--Cobweb: 1"
         ],
         "type": "scatter",
         "x": [
          0.25613161776046967,
          0.31071592584759494,
          null
         ],
         "y": [
          0.00791373722457011,
          -1,
          null
         ]
        },
        {
         "hoverinfo": "text",
         "line": {
          "color": "cornflowerblue",
          "width": 0.3
         },
         "mode": "lines",
         "text": [
          "Demetrius--Moth: 1"
         ],
         "type": "scatter",
         "x": [
          0.25613161776046967,
          0.6945499683517943,
          null
         ],
         "y": [
          0.00791373722457011,
          -0.7947839872811138,
          null
         ]
        },
        {
         "hoverinfo": "text",
         "line": {
          "color": "cornflowerblue",
          "width": 0.3
         },
         "mode": "lines",
         "text": [
          "Demetrius--Mustardseed: 1"
         ],
         "type": "scatter",
         "x": [
          0.25613161776046967,
          0.8421994532944821,
          null
         ],
         "y": [
          0.00791373722457011,
          -0.3778235831239674,
          null
         ]
        },
        {
         "hoverinfo": "text",
         "line": {
          "color": "cornflowerblue",
          "width": 1.0090756983044573
         },
         "mode": "lines",
         "text": [
          "Demetrius--Fairies: 2"
         ],
         "type": "scatter",
         "x": [
          0.25613161776046967,
          0.3619745322604507,
          null
         ],
         "y": [
          0.00791373722457011,
          -0.7560229340319775,
          null
         ]
        },
        {
         "hoverinfo": "text",
         "line": {
          "color": "cornflowerblue",
          "width": 2.0515563512592996
         },
         "mode": "lines",
         "text": [
          "Demetrius--Attendants: 3"
         ],
         "type": "scatter",
         "x": [
          0.25613161776046967,
          -0.15542033470591832,
          null
         ],
         "y": [
          0.00791373722457011,
          0.5921763898081837,
          null
         ]
        },
        {
         "hoverinfo": "text",
         "line": {
          "color": "cornflowerblue",
          "width": 0.3
         },
         "mode": "lines",
         "text": [
          "Philostrate--Quince: 1"
         ],
         "type": "scatter",
         "x": [
          -0.4593311733942905,
          -0.5204889824338365,
          null
         ],
         "y": [
          0.9317406714960749,
          0.22235035580694495,
          null
         ]
        },
        {
         "hoverinfo": "text",
         "line": {
          "color": "cornflowerblue",
          "width": 0.3
         },
         "mode": "lines",
         "text": [
          "Philostrate--Snug: 1"
         ],
         "type": "scatter",
         "x": [
          -0.4593311733942905,
          -0.655576999427171,
          null
         ],
         "y": [
          0.9317406714960749,
          -0.01949483935384284,
          null
         ]
        },
        {
         "hoverinfo": "text",
         "line": {
          "color": "cornflowerblue",
          "width": 0.3
         },
         "mode": "lines",
         "text": [
          "Philostrate--Bottom: 1"
         ],
         "type": "scatter",
         "x": [
          -0.4593311733942905,
          -0.1906098569695587,
          null
         ],
         "y": [
          0.9317406714960749,
          -0.03755510788633763,
          null
         ]
        },
        {
         "hoverinfo": "text",
         "line": {
          "color": "cornflowerblue",
          "width": 0.3
         },
         "mode": "lines",
         "text": [
          "Philostrate--Flute: 1"
         ],
         "type": "scatter",
         "x": [
          -0.4593311733942905,
          -0.7547279135512309,
          null
         ],
         "y": [
          0.9317406714960749,
          0.3794917410761324,
          null
         ]
        },
        {
         "hoverinfo": "text",
         "line": {
          "color": "cornflowerblue",
          "width": 0.3
         },
         "mode": "lines",
         "text": [
          "Philostrate--Snout: 1"
         ],
         "type": "scatter",
         "x": [
          -0.4593311733942905,
          -0.5403687168238172,
          null
         ],
         "y": [
          0.9317406714960749,
          0.47459790892090853,
          null
         ]
        },
        {
         "hoverinfo": "text",
         "line": {
          "color": "cornflowerblue",
          "width": 0.3
         },
         "mode": "lines",
         "text": [
          "Philostrate--Starveling: 1"
         ],
         "type": "scatter",
         "x": [
          -0.4593311733942905,
          -0.8074516311500721,
          null
         ],
         "y": [
          0.9317406714960749,
          0.13783186893176808,
          null
         ]
        },
        {
         "hoverinfo": "text",
         "line": {
          "color": "cornflowerblue",
          "width": 1.0090756983044573
         },
         "mode": "lines",
         "text": [
          "Philostrate--Attendants: 2"
         ],
         "type": "scatter",
         "x": [
          -0.4593311733942905,
          -0.15542033470591832,
          null
         ],
         "y": [
          0.9317406714960749,
          0.5921763898081837,
          null
         ]
        },
        {
         "hoverinfo": "text",
         "line": {
          "color": "cornflowerblue",
          "width": 3.394112549695428
         },
         "mode": "lines",
         "text": [
          "Quince--Snug: 4"
         ],
         "type": "scatter",
         "x": [
          -0.5204889824338365,
          -0.655576999427171,
          null
         ],
         "y": [
          0.22235035580694495,
          -0.01949483935384284,
          null
         ]
        },
        {
         "hoverinfo": "text",
         "line": {
          "color": "cornflowerblue",
          "width": 3.394112549695428
         },
         "mode": "lines",
         "text": [
          "Quince--Bottom: 4"
         ],
         "type": "scatter",
         "x": [
          -0.5204889824338365,
          -0.1906098569695587,
          null
         ],
         "y": [
          0.22235035580694495,
          -0.03755510788633763,
          null
         ]
        },
        {
         "hoverinfo": "text",
         "line": {
          "color": "cornflowerblue",
          "width": 3.394112549695428
         },
         "mode": "lines",
         "text": [
          "Quince--Flute: 4"
         ],
         "type": "scatter",
         "x": [
          -0.5204889824338365,
          -0.7547279135512309,
          null
         ],
         "y": [
          0.22235035580694495,
          0.3794917410761324,
          null
         ]
        },
        {
         "hoverinfo": "text",
         "line": {
          "color": "cornflowerblue",
          "width": 3.394112549695428
         },
         "mode": "lines",
         "text": [
          "Quince--Snout: 4"
         ],
         "type": "scatter",
         "x": [
          -0.5204889824338365,
          -0.5403687168238172,
          null
         ],
         "y": [
          0.22235035580694495,
          0.47459790892090853,
          null
         ]
        },
        {
         "hoverinfo": "text",
         "line": {
          "color": "cornflowerblue",
          "width": 3.394112549695428
         },
         "mode": "lines",
         "text": [
          "Quince--Starveling: 4"
         ],
         "type": "scatter",
         "x": [
          -0.5204889824338365,
          -0.8074516311500721,
          null
         ],
         "y": [
          0.22235035580694495,
          0.13783186893176808,
          null
         ]
        },
        {
         "hoverinfo": "text",
         "line": {
          "color": "cornflowerblue",
          "width": 0.3
         },
         "mode": "lines",
         "text": [
          "Quince--Titania: 1"
         ],
         "type": "scatter",
         "x": [
          -0.5204889824338365,
          0.08483664581578082,
          null
         ],
         "y": [
          0.22235035580694495,
          -0.4466392644341982,
          null
         ]
        },
        {
         "hoverinfo": "text",
         "line": {
          "color": "cornflowerblue",
          "width": 0.3
         },
         "mode": "lines",
         "text": [
          "Quince--Puck: 1"
         ],
         "type": "scatter",
         "x": [
          -0.5204889824338365,
          -0.20380273707368468,
          null
         ],
         "y": [
          0.22235035580694495,
          -0.47672890520182126,
          null
         ]
        },
        {
         "hoverinfo": "text",
         "line": {
          "color": "cornflowerblue",
          "width": 0.3
         },
         "mode": "lines",
         "text": [
          "Quince--Attendants: 1"
         ],
         "type": "scatter",
         "x": [
          -0.5204889824338365,
          -0.15542033470591832,
          null
         ],
         "y": [
          0.22235035580694495,
          0.5921763898081837,
          null
         ]
        },
        {
         "hoverinfo": "text",
         "line": {
          "color": "cornflowerblue",
          "width": 3.394112549695428
         },
         "mode": "lines",
         "text": [
          "Snug--Bottom: 4"
         ],
         "type": "scatter",
         "x": [
          -0.655576999427171,
          -0.1906098569695587,
          null
         ],
         "y": [
          -0.01949483935384284,
          -0.03755510788633763,
          null
         ]
        },
        {
         "hoverinfo": "text",
         "line": {
          "color": "cornflowerblue",
          "width": 3.394112549695428
         },
         "mode": "lines",
         "text": [
          "Snug--Flute: 4"
         ],
         "type": "scatter",
         "x": [
          -0.655576999427171,
          -0.7547279135512309,
          null
         ],
         "y": [
          -0.01949483935384284,
          0.3794917410761324,
          null
         ]
        },
        {
         "hoverinfo": "text",
         "line": {
          "color": "cornflowerblue",
          "width": 3.394112549695428
         },
         "mode": "lines",
         "text": [
          "Snug--Snout: 4"
         ],
         "type": "scatter",
         "x": [
          -0.655576999427171,
          -0.5403687168238172,
          null
         ],
         "y": [
          -0.01949483935384284,
          0.47459790892090853,
          null
         ]
        },
        {
         "hoverinfo": "text",
         "line": {
          "color": "cornflowerblue",
          "width": 3.394112549695428
         },
         "mode": "lines",
         "text": [
          "Snug--Starveling: 4"
         ],
         "type": "scatter",
         "x": [
          -0.655576999427171,
          -0.8074516311500721,
          null
         ],
         "y": [
          -0.01949483935384284,
          0.13783186893176808,
          null
         ]
        },
        {
         "hoverinfo": "text",
         "line": {
          "color": "cornflowerblue",
          "width": 0.3
         },
         "mode": "lines",
         "text": [
          "Snug--Titania: 1"
         ],
         "type": "scatter",
         "x": [
          -0.655576999427171,
          0.08483664581578082,
          null
         ],
         "y": [
          -0.01949483935384284,
          -0.4466392644341982,
          null
         ]
        },
        {
         "hoverinfo": "text",
         "line": {
          "color": "cornflowerblue",
          "width": 0.3
         },
         "mode": "lines",
         "text": [
          "Snug--Puck: 1"
         ],
         "type": "scatter",
         "x": [
          -0.655576999427171,
          -0.20380273707368468,
          null
         ],
         "y": [
          -0.01949483935384284,
          -0.47672890520182126,
          null
         ]
        },
        {
         "hoverinfo": "text",
         "line": {
          "color": "cornflowerblue",
          "width": 0.3
         },
         "mode": "lines",
         "text": [
          "Snug--Attendants: 1"
         ],
         "type": "scatter",
         "x": [
          -0.655576999427171,
          -0.15542033470591832,
          null
         ],
         "y": [
          -0.01949483935384284,
          0.5921763898081837,
          null
         ]
        },
        {
         "hoverinfo": "text",
         "line": {
          "color": "cornflowerblue",
          "width": 3.394112549695428
         },
         "mode": "lines",
         "text": [
          "Bottom--Flute: 4"
         ],
         "type": "scatter",
         "x": [
          -0.1906098569695587,
          -0.7547279135512309,
          null
         ],
         "y": [
          -0.03755510788633763,
          0.3794917410761324,
          null
         ]
        },
        {
         "hoverinfo": "text",
         "line": {
          "color": "cornflowerblue",
          "width": 3.394112549695428
         },
         "mode": "lines",
         "text": [
          "Bottom--Snout: 4"
         ],
         "type": "scatter",
         "x": [
          -0.1906098569695587,
          -0.5403687168238172,
          null
         ],
         "y": [
          -0.03755510788633763,
          0.47459790892090853,
          null
         ]
        },
        {
         "hoverinfo": "text",
         "line": {
          "color": "cornflowerblue",
          "width": 3.394112549695428
         },
         "mode": "lines",
         "text": [
          "Bottom--Starveling: 4"
         ],
         "type": "scatter",
         "x": [
          -0.1906098569695587,
          -0.8074516311500721,
          null
         ],
         "y": [
          -0.03755510788633763,
          0.13783186893176808,
          null
         ]
        },
        {
         "hoverinfo": "text",
         "line": {
          "color": "cornflowerblue",
          "width": 0.3
         },
         "mode": "lines",
         "text": [
          "Bottom--Oberon: 1"
         ],
         "type": "scatter",
         "x": [
          -0.1906098569695587,
          0.03780242648066849,
          null
         ],
         "y": [
          -0.03755510788633763,
          -0.7331466447881557,
          null
         ]
        },
        {
         "hoverinfo": "text",
         "line": {
          "color": "cornflowerblue",
          "width": 1.0090756983044573
         },
         "mode": "lines",
         "text": [
          "Bottom--Titania: 2"
         ],
         "type": "scatter",
         "x": [
          -0.1906098569695587,
          0.08483664581578082,
          null
         ],
         "y": [
          -0.03755510788633763,
          -0.4466392644341982,
          null
         ]
        },
        {
         "hoverinfo": "text",
         "line": {
          "color": "cornflowerblue",
          "width": 1.0090756983044573
         },
         "mode": "lines",
         "text": [
          "Bottom--Puck: 2"
         ],
         "type": "scatter",
         "x": [
          -0.1906098569695587,
          -0.20380273707368468,
          null
         ],
         "y": [
          -0.03755510788633763,
          -0.47672890520182126,
          null
         ]
        },
        {
         "hoverinfo": "text",
         "line": {
          "color": "cornflowerblue",
          "width": 1.0090756983044573
         },
         "mode": "lines",
         "text": [
          "Bottom--Peaseblossom: 2"
         ],
         "type": "scatter",
         "x": [
          -0.1906098569695587,
          0.6471621292801955,
          null
         ],
         "y": [
          -0.03755510788633763,
          -0.5179197960503585,
          null
         ]
        },
        {
         "hoverinfo": "text",
         "line": {
          "color": "cornflowerblue",
          "width": 1.0090756983044573
         },
         "mode": "lines",
         "text": [
          "Bottom--Cobweb: 2"
         ],
         "type": "scatter",
         "x": [
          -0.1906098569695587,
          0.31071592584759494,
          null
         ],
         "y": [
          -0.03755510788633763,
          -1,
          null
         ]
        },
        {
         "hoverinfo": "text",
         "line": {
          "color": "cornflowerblue",
          "width": 1.0090756983044573
         },
         "mode": "lines",
         "text": [
          "Bottom--Moth: 2"
         ],
         "type": "scatter",
         "x": [
          -0.1906098569695587,
          0.6945499683517943,
          null
         ],
         "y": [
          -0.03755510788633763,
          -0.7947839872811138,
          null
         ]
        },
        {
         "hoverinfo": "text",
         "line": {
          "color": "cornflowerblue",
          "width": 1.0090756983044573
         },
         "mode": "lines",
         "text": [
          "Bottom--Mustardseed: 2"
         ],
         "type": "scatter",
         "x": [
          -0.1906098569695587,
          0.8421994532944821,
          null
         ],
         "y": [
          -0.03755510788633763,
          -0.3778235831239674,
          null
         ]
        },
        {
         "hoverinfo": "text",
         "line": {
          "color": "cornflowerblue",
          "width": 0.3
         },
         "mode": "lines",
         "text": [
          "Bottom--Fairies: 1"
         ],
         "type": "scatter",
         "x": [
          -0.1906098569695587,
          0.3619745322604507,
          null
         ],
         "y": [
          -0.03755510788633763,
          -0.7560229340319775,
          null
         ]
        },
        {
         "hoverinfo": "text",
         "line": {
          "color": "cornflowerblue",
          "width": 1.0090756983044573
         },
         "mode": "lines",
         "text": [
          "Bottom--Attendants: 2"
         ],
         "type": "scatter",
         "x": [
          -0.1906098569695587,
          -0.15542033470591832,
          null
         ],
         "y": [
          -0.03755510788633763,
          0.5921763898081837,
          null
         ]
        },
        {
         "hoverinfo": "text",
         "line": {
          "color": "cornflowerblue",
          "width": 3.394112549695428
         },
         "mode": "lines",
         "text": [
          "Flute--Snout: 4"
         ],
         "type": "scatter",
         "x": [
          -0.7547279135512309,
          -0.5403687168238172,
          null
         ],
         "y": [
          0.3794917410761324,
          0.47459790892090853,
          null
         ]
        },
        {
         "hoverinfo": "text",
         "line": {
          "color": "cornflowerblue",
          "width": 3.394112549695428
         },
         "mode": "lines",
         "text": [
          "Flute--Starveling: 4"
         ],
         "type": "scatter",
         "x": [
          -0.7547279135512309,
          -0.8074516311500721,
          null
         ],
         "y": [
          0.3794917410761324,
          0.13783186893176808,
          null
         ]
        },
        {
         "hoverinfo": "text",
         "line": {
          "color": "cornflowerblue",
          "width": 0.3
         },
         "mode": "lines",
         "text": [
          "Flute--Titania: 1"
         ],
         "type": "scatter",
         "x": [
          -0.7547279135512309,
          0.08483664581578082,
          null
         ],
         "y": [
          0.3794917410761324,
          -0.4466392644341982,
          null
         ]
        },
        {
         "hoverinfo": "text",
         "line": {
          "color": "cornflowerblue",
          "width": 0.3
         },
         "mode": "lines",
         "text": [
          "Flute--Puck: 1"
         ],
         "type": "scatter",
         "x": [
          -0.7547279135512309,
          -0.20380273707368468,
          null
         ],
         "y": [
          0.3794917410761324,
          -0.47672890520182126,
          null
         ]
        },
        {
         "hoverinfo": "text",
         "line": {
          "color": "cornflowerblue",
          "width": 0.3
         },
         "mode": "lines",
         "text": [
          "Flute--Attendants: 1"
         ],
         "type": "scatter",
         "x": [
          -0.7547279135512309,
          -0.15542033470591832,
          null
         ],
         "y": [
          0.3794917410761324,
          0.5921763898081837,
          null
         ]
        },
        {
         "hoverinfo": "text",
         "line": {
          "color": "cornflowerblue",
          "width": 3.394112549695428
         },
         "mode": "lines",
         "text": [
          "Snout--Starveling: 4"
         ],
         "type": "scatter",
         "x": [
          -0.5403687168238172,
          -0.8074516311500721,
          null
         ],
         "y": [
          0.47459790892090853,
          0.13783186893176808,
          null
         ]
        },
        {
         "hoverinfo": "text",
         "line": {
          "color": "cornflowerblue",
          "width": 0.3
         },
         "mode": "lines",
         "text": [
          "Snout--Titania: 1"
         ],
         "type": "scatter",
         "x": [
          -0.5403687168238172,
          0.08483664581578082,
          null
         ],
         "y": [
          0.47459790892090853,
          -0.4466392644341982,
          null
         ]
        },
        {
         "hoverinfo": "text",
         "line": {
          "color": "cornflowerblue",
          "width": 0.3
         },
         "mode": "lines",
         "text": [
          "Snout--Puck: 1"
         ],
         "type": "scatter",
         "x": [
          -0.5403687168238172,
          -0.20380273707368468,
          null
         ],
         "y": [
          0.47459790892090853,
          -0.47672890520182126,
          null
         ]
        },
        {
         "hoverinfo": "text",
         "line": {
          "color": "cornflowerblue",
          "width": 0.3
         },
         "mode": "lines",
         "text": [
          "Snout--Attendants: 1"
         ],
         "type": "scatter",
         "x": [
          -0.5403687168238172,
          -0.15542033470591832,
          null
         ],
         "y": [
          0.47459790892090853,
          0.5921763898081837,
          null
         ]
        },
        {
         "hoverinfo": "text",
         "line": {
          "color": "cornflowerblue",
          "width": 0.3
         },
         "mode": "lines",
         "text": [
          "Starveling--Titania: 1"
         ],
         "type": "scatter",
         "x": [
          -0.8074516311500721,
          0.08483664581578082,
          null
         ],
         "y": [
          0.13783186893176808,
          -0.4466392644341982,
          null
         ]
        },
        {
         "hoverinfo": "text",
         "line": {
          "color": "cornflowerblue",
          "width": 0.3
         },
         "mode": "lines",
         "text": [
          "Starveling--Puck: 1"
         ],
         "type": "scatter",
         "x": [
          -0.8074516311500721,
          -0.20380273707368468,
          null
         ],
         "y": [
          0.13783186893176808,
          -0.47672890520182126,
          null
         ]
        },
        {
         "hoverinfo": "text",
         "line": {
          "color": "cornflowerblue",
          "width": 0.3
         },
         "mode": "lines",
         "text": [
          "Starveling--Attendants: 1"
         ],
         "type": "scatter",
         "x": [
          -0.8074516311500721,
          -0.15542033470591832,
          null
         ],
         "y": [
          0.13783186893176808,
          0.5921763898081837,
          null
         ]
        },
        {
         "hoverinfo": "text",
         "line": {
          "color": "cornflowerblue",
          "width": 3.394112549695428
         },
         "mode": "lines",
         "text": [
          "Oberon--Titania: 4"
         ],
         "type": "scatter",
         "x": [
          0.03780242648066849,
          0.08483664581578082,
          null
         ],
         "y": [
          -0.7331466447881557,
          -0.4466392644341982,
          null
         ]
        },
        {
         "hoverinfo": "text",
         "line": {
          "color": "cornflowerblue",
          "width": 3.394112549695428
         },
         "mode": "lines",
         "text": [
          "Oberon--Puck: 4"
         ],
         "type": "scatter",
         "x": [
          0.03780242648066849,
          -0.20380273707368468,
          null
         ],
         "y": [
          -0.7331466447881557,
          -0.47672890520182126,
          null
         ]
        },
        {
         "hoverinfo": "text",
         "line": {
          "color": "cornflowerblue",
          "width": 0.3
         },
         "mode": "lines",
         "text": [
          "Oberon--Peaseblossom: 1"
         ],
         "type": "scatter",
         "x": [
          0.03780242648066849,
          0.6471621292801955,
          null
         ],
         "y": [
          -0.7331466447881557,
          -0.5179197960503585,
          null
         ]
        },
        {
         "hoverinfo": "text",
         "line": {
          "color": "cornflowerblue",
          "width": 0.3
         },
         "mode": "lines",
         "text": [
          "Oberon--Cobweb: 1"
         ],
         "type": "scatter",
         "x": [
          0.03780242648066849,
          0.31071592584759494,
          null
         ],
         "y": [
          -0.7331466447881557,
          -1,
          null
         ]
        },
        {
         "hoverinfo": "text",
         "line": {
          "color": "cornflowerblue",
          "width": 0.3
         },
         "mode": "lines",
         "text": [
          "Oberon--Moth: 1"
         ],
         "type": "scatter",
         "x": [
          0.03780242648066849,
          0.6945499683517943,
          null
         ],
         "y": [
          -0.7331466447881557,
          -0.7947839872811138,
          null
         ]
        },
        {
         "hoverinfo": "text",
         "line": {
          "color": "cornflowerblue",
          "width": 0.3
         },
         "mode": "lines",
         "text": [
          "Oberon--Mustardseed: 1"
         ],
         "type": "scatter",
         "x": [
          0.03780242648066849,
          0.8421994532944821,
          null
         ],
         "y": [
          -0.7331466447881557,
          -0.3778235831239674,
          null
         ]
        },
        {
         "hoverinfo": "text",
         "line": {
          "color": "cornflowerblue",
          "width": 2.0515563512592996
         },
         "mode": "lines",
         "text": [
          "Oberon--Fairies: 3"
         ],
         "type": "scatter",
         "x": [
          0.03780242648066849,
          0.3619745322604507,
          null
         ],
         "y": [
          -0.7331466447881557,
          -0.7560229340319775,
          null
         ]
        },
        {
         "hoverinfo": "text",
         "line": {
          "color": "cornflowerblue",
          "width": 5.015552287323165
         },
         "mode": "lines",
         "text": [
          "Titania--Puck: 5"
         ],
         "type": "scatter",
         "x": [
          0.08483664581578082,
          -0.20380273707368468,
          null
         ],
         "y": [
          -0.4466392644341982,
          -0.47672890520182126,
          null
         ]
        },
        {
         "hoverinfo": "text",
         "line": {
          "color": "cornflowerblue",
          "width": 1.0090756983044573
         },
         "mode": "lines",
         "text": [
          "Titania--Peaseblossom: 2"
         ],
         "type": "scatter",
         "x": [
          0.08483664581578082,
          0.6471621292801955,
          null
         ],
         "y": [
          -0.4466392644341982,
          -0.5179197960503585,
          null
         ]
        },
        {
         "hoverinfo": "text",
         "line": {
          "color": "cornflowerblue",
          "width": 1.0090756983044573
         },
         "mode": "lines",
         "text": [
          "Titania--Cobweb: 2"
         ],
         "type": "scatter",
         "x": [
          0.08483664581578082,
          0.31071592584759494,
          null
         ],
         "y": [
          -0.4466392644341982,
          -1,
          null
         ]
        },
        {
         "hoverinfo": "text",
         "line": {
          "color": "cornflowerblue",
          "width": 1.0090756983044573
         },
         "mode": "lines",
         "text": [
          "Titania--Moth: 2"
         ],
         "type": "scatter",
         "x": [
          0.08483664581578082,
          0.6945499683517943,
          null
         ],
         "y": [
          -0.4466392644341982,
          -0.7947839872811138,
          null
         ]
        },
        {
         "hoverinfo": "text",
         "line": {
          "color": "cornflowerblue",
          "width": 1.0090756983044573
         },
         "mode": "lines",
         "text": [
          "Titania--Mustardseed: 2"
         ],
         "type": "scatter",
         "x": [
          0.08483664581578082,
          0.8421994532944821,
          null
         ],
         "y": [
          -0.4466392644341982,
          -0.3778235831239674,
          null
         ]
        },
        {
         "hoverinfo": "text",
         "line": {
          "color": "cornflowerblue",
          "width": 3.394112549695428
         },
         "mode": "lines",
         "text": [
          "Titania--Fairies: 4"
         ],
         "type": "scatter",
         "x": [
          0.08483664581578082,
          0.3619745322604507,
          null
         ],
         "y": [
          -0.4466392644341982,
          -0.7560229340319775,
          null
         ]
        },
        {
         "hoverinfo": "text",
         "line": {
          "color": "cornflowerblue",
          "width": 0.3
         },
         "mode": "lines",
         "text": [
          "Puck--Peaseblossom: 1"
         ],
         "type": "scatter",
         "x": [
          -0.20380273707368468,
          0.6471621292801955,
          null
         ],
         "y": [
          -0.47672890520182126,
          -0.5179197960503585,
          null
         ]
        },
        {
         "hoverinfo": "text",
         "line": {
          "color": "cornflowerblue",
          "width": 0.3
         },
         "mode": "lines",
         "text": [
          "Puck--Cobweb: 1"
         ],
         "type": "scatter",
         "x": [
          -0.20380273707368468,
          0.31071592584759494,
          null
         ],
         "y": [
          -0.47672890520182126,
          -1,
          null
         ]
        },
        {
         "hoverinfo": "text",
         "line": {
          "color": "cornflowerblue",
          "width": 0.3
         },
         "mode": "lines",
         "text": [
          "Puck--Moth: 1"
         ],
         "type": "scatter",
         "x": [
          -0.20380273707368468,
          0.6945499683517943,
          null
         ],
         "y": [
          -0.47672890520182126,
          -0.7947839872811138,
          null
         ]
        },
        {
         "hoverinfo": "text",
         "line": {
          "color": "cornflowerblue",
          "width": 0.3
         },
         "mode": "lines",
         "text": [
          "Puck--Mustardseed: 1"
         ],
         "type": "scatter",
         "x": [
          -0.20380273707368468,
          0.8421994532944821,
          null
         ],
         "y": [
          -0.47672890520182126,
          -0.3778235831239674,
          null
         ]
        },
        {
         "hoverinfo": "text",
         "line": {
          "color": "cornflowerblue",
          "width": 2.0515563512592996
         },
         "mode": "lines",
         "text": [
          "Puck--Fairies: 3"
         ],
         "type": "scatter",
         "x": [
          -0.20380273707368468,
          0.3619745322604507,
          null
         ],
         "y": [
          -0.47672890520182126,
          -0.7560229340319775,
          null
         ]
        },
        {
         "hoverinfo": "text",
         "line": {
          "color": "cornflowerblue",
          "width": 1.0090756983044573
         },
         "mode": "lines",
         "text": [
          "Peaseblossom--Cobweb: 2"
         ],
         "type": "scatter",
         "x": [
          0.6471621292801955,
          0.31071592584759494,
          null
         ],
         "y": [
          -0.5179197960503585,
          -1,
          null
         ]
        },
        {
         "hoverinfo": "text",
         "line": {
          "color": "cornflowerblue",
          "width": 1.0090756983044573
         },
         "mode": "lines",
         "text": [
          "Peaseblossom--Moth: 2"
         ],
         "type": "scatter",
         "x": [
          0.6471621292801955,
          0.6945499683517943,
          null
         ],
         "y": [
          -0.5179197960503585,
          -0.7947839872811138,
          null
         ]
        },
        {
         "hoverinfo": "text",
         "line": {
          "color": "cornflowerblue",
          "width": 1.0090756983044573
         },
         "mode": "lines",
         "text": [
          "Peaseblossom--Mustardseed: 2"
         ],
         "type": "scatter",
         "x": [
          0.6471621292801955,
          0.8421994532944821,
          null
         ],
         "y": [
          -0.5179197960503585,
          -0.3778235831239674,
          null
         ]
        },
        {
         "hoverinfo": "text",
         "line": {
          "color": "cornflowerblue",
          "width": 0.3
         },
         "mode": "lines",
         "text": [
          "Peaseblossom--Fairies: 1"
         ],
         "type": "scatter",
         "x": [
          0.6471621292801955,
          0.3619745322604507,
          null
         ],
         "y": [
          -0.5179197960503585,
          -0.7560229340319775,
          null
         ]
        },
        {
         "hoverinfo": "text",
         "line": {
          "color": "cornflowerblue",
          "width": 1.0090756983044573
         },
         "mode": "lines",
         "text": [
          "Cobweb--Moth: 2"
         ],
         "type": "scatter",
         "x": [
          0.31071592584759494,
          0.6945499683517943,
          null
         ],
         "y": [
          -1,
          -0.7947839872811138,
          null
         ]
        },
        {
         "hoverinfo": "text",
         "line": {
          "color": "cornflowerblue",
          "width": 1.0090756983044573
         },
         "mode": "lines",
         "text": [
          "Cobweb--Mustardseed: 2"
         ],
         "type": "scatter",
         "x": [
          0.31071592584759494,
          0.8421994532944821,
          null
         ],
         "y": [
          -1,
          -0.3778235831239674,
          null
         ]
        },
        {
         "hoverinfo": "text",
         "line": {
          "color": "cornflowerblue",
          "width": 0.3
         },
         "mode": "lines",
         "text": [
          "Cobweb--Fairies: 1"
         ],
         "type": "scatter",
         "x": [
          0.31071592584759494,
          0.3619745322604507,
          null
         ],
         "y": [
          -1,
          -0.7560229340319775,
          null
         ]
        },
        {
         "hoverinfo": "text",
         "line": {
          "color": "cornflowerblue",
          "width": 1.0090756983044573
         },
         "mode": "lines",
         "text": [
          "Moth--Mustardseed: 2"
         ],
         "type": "scatter",
         "x": [
          0.6945499683517943,
          0.8421994532944821,
          null
         ],
         "y": [
          -0.7947839872811138,
          -0.3778235831239674,
          null
         ]
        },
        {
         "hoverinfo": "text",
         "line": {
          "color": "cornflowerblue",
          "width": 0.3
         },
         "mode": "lines",
         "text": [
          "Moth--Fairies: 1"
         ],
         "type": "scatter",
         "x": [
          0.6945499683517943,
          0.3619745322604507,
          null
         ],
         "y": [
          -0.7947839872811138,
          -0.7560229340319775,
          null
         ]
        },
        {
         "hoverinfo": "text",
         "line": {
          "color": "cornflowerblue",
          "width": 0.3
         },
         "mode": "lines",
         "text": [
          "Mustardseed--Fairies: 1"
         ],
         "type": "scatter",
         "x": [
          0.8421994532944821,
          0.3619745322604507,
          null
         ],
         "y": [
          -0.3778235831239674,
          -0.7560229340319775,
          null
         ]
        },
        {
         "hoverinfo": "none",
         "marker": {
          "color": [
           "cornflowerblue",
           "cornflowerblue",
           "cornflowerblue",
           "cornflowerblue",
           "cornflowerblue",
           "cornflowerblue",
           "cornflowerblue",
           "cornflowerblue",
           "cornflowerblue",
           "cornflowerblue",
           "cornflowerblue",
           "cornflowerblue",
           "cornflowerblue",
           "cornflowerblue",
           "cornflowerblue",
           "cornflowerblue",
           "cornflowerblue",
           "cornflowerblue",
           "cornflowerblue",
           "cornflowerblue",
           "cornflowerblue",
           "cornflowerblue",
           "cornflowerblue"
          ],
          "size": [
           15,
           15,
           10,
           25,
           30,
           25,
           30,
           10,
           20,
           20,
           25,
           20,
           20,
           20,
           25,
           25,
           30,
           10,
           10,
           10,
           10,
           20,
           15
          ]
         },
         "mode": "markers+text",
         "text": [
          "<b>Theseus</b>",
          "<b>Hippolyta</b>",
          "<b>Egeus</b>",
          "<b>Hermia</b>",
          "<b>Helena</b>",
          "<b>Lysander</b>",
          "<b>Demetrius</b>",
          "<b>Philostrate</b>",
          "<b>Quince</b>",
          "<b>Snug</b>",
          "<b>Bottom</b>",
          "<b>Flute</b>",
          "<b>Snout</b>",
          "<b>Starveling</b>",
          "<b>Oberon</b>",
          "<b>Titania</b>",
          "<b>Puck</b>",
          "<b>Peaseblossom</b>",
          "<b>Cobweb</b>",
          "<b>Moth</b>",
          "<b>Mustardseed</b>",
          "<b>Fairies</b>",
          "<b>Attendants</b>"
         ],
         "textfont": {
          "size": 10
         },
         "textposition": "top center",
         "type": "scatter",
         "x": [
          0.1554902138750292,
          -0.04070213698679434,
          0.6116763894640966,
          0.02457706255091086,
          0.06590227141141339,
          0.23546184612347698,
          0.25613161776046967,
          -0.4593311733942905,
          -0.5204889824338365,
          -0.655576999427171,
          -0.1906098569695587,
          -0.7547279135512309,
          -0.5403687168238172,
          -0.8074516311500721,
          0.03780242648066849,
          0.08483664581578082,
          -0.20380273707368468,
          0.6471621292801955,
          0.31071592584759494,
          0.6945499683517943,
          0.8421994532944821,
          0.3619745322604507,
          -0.15542033470591832
         ],
         "y": [
          0.6461567604274282,
          0.7617540358084427,
          0.777457843952184,
          0.13962701387691515,
          -0.10379414452443335,
          0.1928108793466501,
          0.00791373722457011,
          0.9317406714960749,
          0.22235035580694495,
          -0.01949483935384284,
          -0.03755510788633763,
          0.3794917410761324,
          0.47459790892090853,
          0.13783186893176808,
          -0.7331466447881557,
          -0.4466392644341982,
          -0.47672890520182126,
          -0.5179197960503585,
          -1,
          -0.7947839872811138,
          -0.3778235831239674,
          -0.7560229340319775,
          0.5921763898081837
         ]
        }
       ],
       "layout": {
        "paper_bgcolor": "rgba(0,0,0,0)",
        "plot_bgcolor": "rgba(0,0,0,0)",
        "showlegend": false,
        "template": {
         "data": {
          "bar": [
           {
            "error_x": {
             "color": "#2a3f5f"
            },
            "error_y": {
             "color": "#2a3f5f"
            },
            "marker": {
             "line": {
              "color": "#E5ECF6",
              "width": 0.5
             }
            },
            "type": "bar"
           }
          ],
          "barpolar": [
           {
            "marker": {
             "line": {
              "color": "#E5ECF6",
              "width": 0.5
             }
            },
            "type": "barpolar"
           }
          ],
          "carpet": [
           {
            "aaxis": {
             "endlinecolor": "#2a3f5f",
             "gridcolor": "white",
             "linecolor": "white",
             "minorgridcolor": "white",
             "startlinecolor": "#2a3f5f"
            },
            "baxis": {
             "endlinecolor": "#2a3f5f",
             "gridcolor": "white",
             "linecolor": "white",
             "minorgridcolor": "white",
             "startlinecolor": "#2a3f5f"
            },
            "type": "carpet"
           }
          ],
          "choropleth": [
           {
            "colorbar": {
             "outlinewidth": 0,
             "ticks": ""
            },
            "type": "choropleth"
           }
          ],
          "contour": [
           {
            "colorbar": {
             "outlinewidth": 0,
             "ticks": ""
            },
            "colorscale": [
             [
              0,
              "#0d0887"
             ],
             [
              0.1111111111111111,
              "#46039f"
             ],
             [
              0.2222222222222222,
              "#7201a8"
             ],
             [
              0.3333333333333333,
              "#9c179e"
             ],
             [
              0.4444444444444444,
              "#bd3786"
             ],
             [
              0.5555555555555556,
              "#d8576b"
             ],
             [
              0.6666666666666666,
              "#ed7953"
             ],
             [
              0.7777777777777778,
              "#fb9f3a"
             ],
             [
              0.8888888888888888,
              "#fdca26"
             ],
             [
              1,
              "#f0f921"
             ]
            ],
            "type": "contour"
           }
          ],
          "contourcarpet": [
           {
            "colorbar": {
             "outlinewidth": 0,
             "ticks": ""
            },
            "type": "contourcarpet"
           }
          ],
          "heatmap": [
           {
            "colorbar": {
             "outlinewidth": 0,
             "ticks": ""
            },
            "colorscale": [
             [
              0,
              "#0d0887"
             ],
             [
              0.1111111111111111,
              "#46039f"
             ],
             [
              0.2222222222222222,
              "#7201a8"
             ],
             [
              0.3333333333333333,
              "#9c179e"
             ],
             [
              0.4444444444444444,
              "#bd3786"
             ],
             [
              0.5555555555555556,
              "#d8576b"
             ],
             [
              0.6666666666666666,
              "#ed7953"
             ],
             [
              0.7777777777777778,
              "#fb9f3a"
             ],
             [
              0.8888888888888888,
              "#fdca26"
             ],
             [
              1,
              "#f0f921"
             ]
            ],
            "type": "heatmap"
           }
          ],
          "heatmapgl": [
           {
            "colorbar": {
             "outlinewidth": 0,
             "ticks": ""
            },
            "colorscale": [
             [
              0,
              "#0d0887"
             ],
             [
              0.1111111111111111,
              "#46039f"
             ],
             [
              0.2222222222222222,
              "#7201a8"
             ],
             [
              0.3333333333333333,
              "#9c179e"
             ],
             [
              0.4444444444444444,
              "#bd3786"
             ],
             [
              0.5555555555555556,
              "#d8576b"
             ],
             [
              0.6666666666666666,
              "#ed7953"
             ],
             [
              0.7777777777777778,
              "#fb9f3a"
             ],
             [
              0.8888888888888888,
              "#fdca26"
             ],
             [
              1,
              "#f0f921"
             ]
            ],
            "type": "heatmapgl"
           }
          ],
          "histogram": [
           {
            "marker": {
             "colorbar": {
              "outlinewidth": 0,
              "ticks": ""
             }
            },
            "type": "histogram"
           }
          ],
          "histogram2d": [
           {
            "colorbar": {
             "outlinewidth": 0,
             "ticks": ""
            },
            "colorscale": [
             [
              0,
              "#0d0887"
             ],
             [
              0.1111111111111111,
              "#46039f"
             ],
             [
              0.2222222222222222,
              "#7201a8"
             ],
             [
              0.3333333333333333,
              "#9c179e"
             ],
             [
              0.4444444444444444,
              "#bd3786"
             ],
             [
              0.5555555555555556,
              "#d8576b"
             ],
             [
              0.6666666666666666,
              "#ed7953"
             ],
             [
              0.7777777777777778,
              "#fb9f3a"
             ],
             [
              0.8888888888888888,
              "#fdca26"
             ],
             [
              1,
              "#f0f921"
             ]
            ],
            "type": "histogram2d"
           }
          ],
          "histogram2dcontour": [
           {
            "colorbar": {
             "outlinewidth": 0,
             "ticks": ""
            },
            "colorscale": [
             [
              0,
              "#0d0887"
             ],
             [
              0.1111111111111111,
              "#46039f"
             ],
             [
              0.2222222222222222,
              "#7201a8"
             ],
             [
              0.3333333333333333,
              "#9c179e"
             ],
             [
              0.4444444444444444,
              "#bd3786"
             ],
             [
              0.5555555555555556,
              "#d8576b"
             ],
             [
              0.6666666666666666,
              "#ed7953"
             ],
             [
              0.7777777777777778,
              "#fb9f3a"
             ],
             [
              0.8888888888888888,
              "#fdca26"
             ],
             [
              1,
              "#f0f921"
             ]
            ],
            "type": "histogram2dcontour"
           }
          ],
          "mesh3d": [
           {
            "colorbar": {
             "outlinewidth": 0,
             "ticks": ""
            },
            "type": "mesh3d"
           }
          ],
          "parcoords": [
           {
            "line": {
             "colorbar": {
              "outlinewidth": 0,
              "ticks": ""
             }
            },
            "type": "parcoords"
           }
          ],
          "pie": [
           {
            "automargin": true,
            "type": "pie"
           }
          ],
          "scatter": [
           {
            "marker": {
             "colorbar": {
              "outlinewidth": 0,
              "ticks": ""
             }
            },
            "type": "scatter"
           }
          ],
          "scatter3d": [
           {
            "line": {
             "colorbar": {
              "outlinewidth": 0,
              "ticks": ""
             }
            },
            "marker": {
             "colorbar": {
              "outlinewidth": 0,
              "ticks": ""
             }
            },
            "type": "scatter3d"
           }
          ],
          "scattercarpet": [
           {
            "marker": {
             "colorbar": {
              "outlinewidth": 0,
              "ticks": ""
             }
            },
            "type": "scattercarpet"
           }
          ],
          "scattergeo": [
           {
            "marker": {
             "colorbar": {
              "outlinewidth": 0,
              "ticks": ""
             }
            },
            "type": "scattergeo"
           }
          ],
          "scattergl": [
           {
            "marker": {
             "colorbar": {
              "outlinewidth": 0,
              "ticks": ""
             }
            },
            "type": "scattergl"
           }
          ],
          "scattermapbox": [
           {
            "marker": {
             "colorbar": {
              "outlinewidth": 0,
              "ticks": ""
             }
            },
            "type": "scattermapbox"
           }
          ],
          "scatterpolar": [
           {
            "marker": {
             "colorbar": {
              "outlinewidth": 0,
              "ticks": ""
             }
            },
            "type": "scatterpolar"
           }
          ],
          "scatterpolargl": [
           {
            "marker": {
             "colorbar": {
              "outlinewidth": 0,
              "ticks": ""
             }
            },
            "type": "scatterpolargl"
           }
          ],
          "scatterternary": [
           {
            "marker": {
             "colorbar": {
              "outlinewidth": 0,
              "ticks": ""
             }
            },
            "type": "scatterternary"
           }
          ],
          "surface": [
           {
            "colorbar": {
             "outlinewidth": 0,
             "ticks": ""
            },
            "colorscale": [
             [
              0,
              "#0d0887"
             ],
             [
              0.1111111111111111,
              "#46039f"
             ],
             [
              0.2222222222222222,
              "#7201a8"
             ],
             [
              0.3333333333333333,
              "#9c179e"
             ],
             [
              0.4444444444444444,
              "#bd3786"
             ],
             [
              0.5555555555555556,
              "#d8576b"
             ],
             [
              0.6666666666666666,
              "#ed7953"
             ],
             [
              0.7777777777777778,
              "#fb9f3a"
             ],
             [
              0.8888888888888888,
              "#fdca26"
             ],
             [
              1,
              "#f0f921"
             ]
            ],
            "type": "surface"
           }
          ],
          "table": [
           {
            "cells": {
             "fill": {
              "color": "#EBF0F8"
             },
             "line": {
              "color": "white"
             }
            },
            "header": {
             "fill": {
              "color": "#C8D4E3"
             },
             "line": {
              "color": "white"
             }
            },
            "type": "table"
           }
          ]
         },
         "layout": {
          "annotationdefaults": {
           "arrowcolor": "#2a3f5f",
           "arrowhead": 0,
           "arrowwidth": 1
          },
          "coloraxis": {
           "colorbar": {
            "outlinewidth": 0,
            "ticks": ""
           }
          },
          "colorscale": {
           "diverging": [
            [
             0,
             "#8e0152"
            ],
            [
             0.1,
             "#c51b7d"
            ],
            [
             0.2,
             "#de77ae"
            ],
            [
             0.3,
             "#f1b6da"
            ],
            [
             0.4,
             "#fde0ef"
            ],
            [
             0.5,
             "#f7f7f7"
            ],
            [
             0.6,
             "#e6f5d0"
            ],
            [
             0.7,
             "#b8e186"
            ],
            [
             0.8,
             "#7fbc41"
            ],
            [
             0.9,
             "#4d9221"
            ],
            [
             1,
             "#276419"
            ]
           ],
           "sequential": [
            [
             0,
             "#0d0887"
            ],
            [
             0.1111111111111111,
             "#46039f"
            ],
            [
             0.2222222222222222,
             "#7201a8"
            ],
            [
             0.3333333333333333,
             "#9c179e"
            ],
            [
             0.4444444444444444,
             "#bd3786"
            ],
            [
             0.5555555555555556,
             "#d8576b"
            ],
            [
             0.6666666666666666,
             "#ed7953"
            ],
            [
             0.7777777777777778,
             "#fb9f3a"
            ],
            [
             0.8888888888888888,
             "#fdca26"
            ],
            [
             1,
             "#f0f921"
            ]
           ],
           "sequentialminus": [
            [
             0,
             "#0d0887"
            ],
            [
             0.1111111111111111,
             "#46039f"
            ],
            [
             0.2222222222222222,
             "#7201a8"
            ],
            [
             0.3333333333333333,
             "#9c179e"
            ],
            [
             0.4444444444444444,
             "#bd3786"
            ],
            [
             0.5555555555555556,
             "#d8576b"
            ],
            [
             0.6666666666666666,
             "#ed7953"
            ],
            [
             0.7777777777777778,
             "#fb9f3a"
            ],
            [
             0.8888888888888888,
             "#fdca26"
            ],
            [
             1,
             "#f0f921"
            ]
           ]
          },
          "colorway": [
           "#636efa",
           "#EF553B",
           "#00cc96",
           "#ab63fa",
           "#FFA15A",
           "#19d3f3",
           "#FF6692",
           "#B6E880",
           "#FF97FF",
           "#FECB52"
          ],
          "font": {
           "color": "#2a3f5f"
          },
          "geo": {
           "bgcolor": "white",
           "lakecolor": "white",
           "landcolor": "#E5ECF6",
           "showlakes": true,
           "showland": true,
           "subunitcolor": "white"
          },
          "hoverlabel": {
           "align": "left"
          },
          "hovermode": "closest",
          "mapbox": {
           "style": "light"
          },
          "paper_bgcolor": "white",
          "plot_bgcolor": "#E5ECF6",
          "polar": {
           "angularaxis": {
            "gridcolor": "white",
            "linecolor": "white",
            "ticks": ""
           },
           "bgcolor": "#E5ECF6",
           "radialaxis": {
            "gridcolor": "white",
            "linecolor": "white",
            "ticks": ""
           }
          },
          "scene": {
           "xaxis": {
            "backgroundcolor": "#E5ECF6",
            "gridcolor": "white",
            "gridwidth": 2,
            "linecolor": "white",
            "showbackground": true,
            "ticks": "",
            "zerolinecolor": "white"
           },
           "yaxis": {
            "backgroundcolor": "#E5ECF6",
            "gridcolor": "white",
            "gridwidth": 2,
            "linecolor": "white",
            "showbackground": true,
            "ticks": "",
            "zerolinecolor": "white"
           },
           "zaxis": {
            "backgroundcolor": "#E5ECF6",
            "gridcolor": "white",
            "gridwidth": 2,
            "linecolor": "white",
            "showbackground": true,
            "ticks": "",
            "zerolinecolor": "white"
           }
          },
          "shapedefaults": {
           "line": {
            "color": "#2a3f5f"
           }
          },
          "ternary": {
           "aaxis": {
            "gridcolor": "white",
            "linecolor": "white",
            "ticks": ""
           },
           "baxis": {
            "gridcolor": "white",
            "linecolor": "white",
            "ticks": ""
           },
           "bgcolor": "#E5ECF6",
           "caxis": {
            "gridcolor": "white",
            "linecolor": "white",
            "ticks": ""
           }
          },
          "title": {
           "x": 0.05
          },
          "xaxis": {
           "automargin": true,
           "gridcolor": "white",
           "linecolor": "white",
           "ticks": "",
           "title": {
            "standoff": 15
           },
           "zerolinecolor": "white",
           "zerolinewidth": 2
          },
          "yaxis": {
           "automargin": true,
           "gridcolor": "white",
           "linecolor": "white",
           "ticks": "",
           "title": {
            "standoff": 15
           },
           "zerolinecolor": "white",
           "zerolinewidth": 2
          }
         }
        },
        "xaxis": {
         "showticklabels": false
        },
        "yaxis": {
         "showticklabels": false
        }
       }
      },
      "text/html": [
       "<div>\n",
       "        \n",
       "        \n",
       "            <div id=\"c8c5ed05-1443-4068-9fee-91354d35fbd4\" class=\"plotly-graph-div\" style=\"height:525px; width:100%;\"></div>\n",
       "            <script type=\"text/javascript\">\n",
       "                require([\"plotly\"], function(Plotly) {\n",
       "                    window.PLOTLYENV=window.PLOTLYENV || {};\n",
       "                    \n",
       "                if (document.getElementById(\"c8c5ed05-1443-4068-9fee-91354d35fbd4\")) {\n",
       "                    Plotly.newPlot(\n",
       "                        'c8c5ed05-1443-4068-9fee-91354d35fbd4',\n",
       "                        [{\"hoverinfo\": \"text\", \"line\": {\"color\": \"cornflowerblue\", \"width\": 2.0515563512592996}, \"mode\": \"lines\", \"text\": [\"Theseus--Hippolyta: 3\"], \"type\": \"scatter\", \"x\": [0.1554902138750292, -0.04070213698679434, null], \"y\": [0.6461567604274282, 0.7617540358084427, null]}, {\"hoverinfo\": \"text\", \"line\": {\"color\": \"cornflowerblue\", \"width\": 1.0090756983044573}, \"mode\": \"lines\", \"text\": [\"Theseus--Egeus: 2\"], \"type\": \"scatter\", \"x\": [0.1554902138750292, 0.6116763894640966, null], \"y\": [0.6461567604274282, 0.777457843952184, null]}, {\"hoverinfo\": \"text\", \"line\": {\"color\": \"cornflowerblue\", \"width\": 2.0515563512592996}, \"mode\": \"lines\", \"text\": [\"Theseus--Hermia: 3\"], \"type\": \"scatter\", \"x\": [0.1554902138750292, 0.02457706255091086, null], \"y\": [0.6461567604274282, 0.13962701387691515, null]}, {\"hoverinfo\": \"text\", \"line\": {\"color\": \"cornflowerblue\", \"width\": 1.0090756983044573}, \"mode\": \"lines\", \"text\": [\"Theseus--Helena: 2\"], \"type\": \"scatter\", \"x\": [0.1554902138750292, 0.06590227141141339, null], \"y\": [0.6461567604274282, -0.10379414452443335, null]}, {\"hoverinfo\": \"text\", \"line\": {\"color\": \"cornflowerblue\", \"width\": 2.0515563512592996}, \"mode\": \"lines\", \"text\": [\"Theseus--Lysander: 3\"], \"type\": \"scatter\", \"x\": [0.1554902138750292, 0.23546184612347698, null], \"y\": [0.6461567604274282, 0.1928108793466501, null]}, {\"hoverinfo\": \"text\", \"line\": {\"color\": \"cornflowerblue\", \"width\": 2.0515563512592996}, \"mode\": \"lines\", \"text\": [\"Theseus--Demetrius: 3\"], \"type\": \"scatter\", \"x\": [0.1554902138750292, 0.25613161776046967, null], \"y\": [0.6461567604274282, 0.00791373722457011, null]}, {\"hoverinfo\": \"text\", \"line\": {\"color\": \"cornflowerblue\", \"width\": 1.0090756983044573}, \"mode\": \"lines\", \"text\": [\"Theseus--Philostrate: 2\"], \"type\": \"scatter\", \"x\": [0.1554902138750292, -0.4593311733942905, null], \"y\": [0.6461567604274282, 0.9317406714960749, null]}, {\"hoverinfo\": \"text\", \"line\": {\"color\": \"cornflowerblue\", \"width\": 0.3}, \"mode\": \"lines\", \"text\": [\"Theseus--Quince: 1\"], \"type\": \"scatter\", \"x\": [0.1554902138750292, -0.5204889824338365, null], \"y\": [0.6461567604274282, 0.22235035580694495, null]}, {\"hoverinfo\": \"text\", \"line\": {\"color\": \"cornflowerblue\", \"width\": 0.3}, \"mode\": \"lines\", \"text\": [\"Theseus--Snug: 1\"], \"type\": \"scatter\", \"x\": [0.1554902138750292, -0.655576999427171, null], \"y\": [0.6461567604274282, -0.01949483935384284, null]}, {\"hoverinfo\": \"text\", \"line\": {\"color\": \"cornflowerblue\", \"width\": 1.0090756983044573}, \"mode\": \"lines\", \"text\": [\"Theseus--Bottom: 2\"], \"type\": \"scatter\", \"x\": [0.1554902138750292, -0.1906098569695587, null], \"y\": [0.6461567604274282, -0.03755510788633763, null]}, {\"hoverinfo\": \"text\", \"line\": {\"color\": \"cornflowerblue\", \"width\": 0.3}, \"mode\": \"lines\", \"text\": [\"Theseus--Flute: 1\"], \"type\": \"scatter\", \"x\": [0.1554902138750292, -0.7547279135512309, null], \"y\": [0.6461567604274282, 0.3794917410761324, null]}, {\"hoverinfo\": \"text\", \"line\": {\"color\": \"cornflowerblue\", \"width\": 0.3}, \"mode\": \"lines\", \"text\": [\"Theseus--Snout: 1\"], \"type\": \"scatter\", \"x\": [0.1554902138750292, -0.5403687168238172, null], \"y\": [0.6461567604274282, 0.47459790892090853, null]}, {\"hoverinfo\": \"text\", \"line\": {\"color\": \"cornflowerblue\", \"width\": 0.3}, \"mode\": \"lines\", \"text\": [\"Theseus--Starveling: 1\"], \"type\": \"scatter\", \"x\": [0.1554902138750292, -0.8074516311500721, null], \"y\": [0.6461567604274282, 0.13783186893176808, null]}, {\"hoverinfo\": \"text\", \"line\": {\"color\": \"cornflowerblue\", \"width\": 2.0515563512592996}, \"mode\": \"lines\", \"text\": [\"Theseus--Attendants: 3\"], \"type\": \"scatter\", \"x\": [0.1554902138750292, -0.15542033470591832, null], \"y\": [0.6461567604274282, 0.5921763898081837, null]}, {\"hoverinfo\": \"text\", \"line\": {\"color\": \"cornflowerblue\", \"width\": 1.0090756983044573}, \"mode\": \"lines\", \"text\": [\"Hippolyta--Egeus: 2\"], \"type\": \"scatter\", \"x\": [-0.04070213698679434, 0.6116763894640966, null], \"y\": [0.7617540358084427, 0.777457843952184, null]}, {\"hoverinfo\": \"text\", \"line\": {\"color\": \"cornflowerblue\", \"width\": 2.0515563512592996}, \"mode\": \"lines\", \"text\": [\"Hippolyta--Hermia: 3\"], \"type\": \"scatter\", \"x\": [-0.04070213698679434, 0.02457706255091086, null], \"y\": [0.7617540358084427, 0.13962701387691515, null]}, {\"hoverinfo\": \"text\", \"line\": {\"color\": \"cornflowerblue\", \"width\": 1.0090756983044573}, \"mode\": \"lines\", \"text\": [\"Hippolyta--Helena: 2\"], \"type\": \"scatter\", \"x\": [-0.04070213698679434, 0.06590227141141339, null], \"y\": [0.7617540358084427, -0.10379414452443335, null]}, {\"hoverinfo\": \"text\", \"line\": {\"color\": \"cornflowerblue\", \"width\": 2.0515563512592996}, \"mode\": \"lines\", \"text\": [\"Hippolyta--Lysander: 3\"], \"type\": \"scatter\", \"x\": [-0.04070213698679434, 0.23546184612347698, null], \"y\": [0.7617540358084427, 0.1928108793466501, null]}, {\"hoverinfo\": \"text\", \"line\": {\"color\": \"cornflowerblue\", \"width\": 2.0515563512592996}, \"mode\": \"lines\", \"text\": [\"Hippolyta--Demetrius: 3\"], \"type\": \"scatter\", \"x\": [-0.04070213698679434, 0.25613161776046967, null], \"y\": [0.7617540358084427, 0.00791373722457011, null]}, {\"hoverinfo\": \"text\", \"line\": {\"color\": \"cornflowerblue\", \"width\": 1.0090756983044573}, \"mode\": \"lines\", \"text\": [\"Hippolyta--Philostrate: 2\"], \"type\": \"scatter\", \"x\": [-0.04070213698679434, -0.4593311733942905, null], \"y\": [0.7617540358084427, 0.9317406714960749, null]}, {\"hoverinfo\": \"text\", \"line\": {\"color\": \"cornflowerblue\", \"width\": 0.3}, \"mode\": \"lines\", \"text\": [\"Hippolyta--Quince: 1\"], \"type\": \"scatter\", \"x\": [-0.04070213698679434, -0.5204889824338365, null], \"y\": [0.7617540358084427, 0.22235035580694495, null]}, {\"hoverinfo\": \"text\", \"line\": {\"color\": \"cornflowerblue\", \"width\": 0.3}, \"mode\": \"lines\", \"text\": [\"Hippolyta--Snug: 1\"], \"type\": \"scatter\", \"x\": [-0.04070213698679434, -0.655576999427171, null], \"y\": [0.7617540358084427, -0.01949483935384284, null]}, {\"hoverinfo\": \"text\", \"line\": {\"color\": \"cornflowerblue\", \"width\": 1.0090756983044573}, \"mode\": \"lines\", \"text\": [\"Hippolyta--Bottom: 2\"], \"type\": \"scatter\", \"x\": [-0.04070213698679434, -0.1906098569695587, null], \"y\": [0.7617540358084427, -0.03755510788633763, null]}, {\"hoverinfo\": \"text\", \"line\": {\"color\": \"cornflowerblue\", \"width\": 0.3}, \"mode\": \"lines\", \"text\": [\"Hippolyta--Flute: 1\"], \"type\": \"scatter\", \"x\": [-0.04070213698679434, -0.7547279135512309, null], \"y\": [0.7617540358084427, 0.3794917410761324, null]}, {\"hoverinfo\": \"text\", \"line\": {\"color\": \"cornflowerblue\", \"width\": 0.3}, \"mode\": \"lines\", \"text\": [\"Hippolyta--Snout: 1\"], \"type\": \"scatter\", \"x\": [-0.04070213698679434, -0.5403687168238172, null], \"y\": [0.7617540358084427, 0.47459790892090853, null]}, {\"hoverinfo\": \"text\", \"line\": {\"color\": \"cornflowerblue\", \"width\": 0.3}, \"mode\": \"lines\", \"text\": [\"Hippolyta--Starveling: 1\"], \"type\": \"scatter\", \"x\": [-0.04070213698679434, -0.8074516311500721, null], \"y\": [0.7617540358084427, 0.13783186893176808, null]}, {\"hoverinfo\": \"text\", \"line\": {\"color\": \"cornflowerblue\", \"width\": 2.0515563512592996}, \"mode\": \"lines\", \"text\": [\"Hippolyta--Attendants: 3\"], \"type\": \"scatter\", \"x\": [-0.04070213698679434, -0.15542033470591832, null], \"y\": [0.7617540358084427, 0.5921763898081837, null]}, {\"hoverinfo\": \"text\", \"line\": {\"color\": \"cornflowerblue\", \"width\": 1.0090756983044573}, \"mode\": \"lines\", \"text\": [\"Egeus--Hermia: 2\"], \"type\": \"scatter\", \"x\": [0.6116763894640966, 0.02457706255091086, null], \"y\": [0.777457843952184, 0.13962701387691515, null]}, {\"hoverinfo\": \"text\", \"line\": {\"color\": \"cornflowerblue\", \"width\": 0.3}, \"mode\": \"lines\", \"text\": [\"Egeus--Helena: 1\"], \"type\": \"scatter\", \"x\": [0.6116763894640966, 0.06590227141141339, null], \"y\": [0.777457843952184, -0.10379414452443335, null]}, {\"hoverinfo\": \"text\", \"line\": {\"color\": \"cornflowerblue\", \"width\": 1.0090756983044573}, \"mode\": \"lines\", \"text\": [\"Egeus--Lysander: 2\"], \"type\": \"scatter\", \"x\": [0.6116763894640966, 0.23546184612347698, null], \"y\": [0.777457843952184, 0.1928108793466501, null]}, {\"hoverinfo\": \"text\", \"line\": {\"color\": \"cornflowerblue\", \"width\": 1.0090756983044573}, \"mode\": \"lines\", \"text\": [\"Egeus--Demetrius: 2\"], \"type\": \"scatter\", \"x\": [0.6116763894640966, 0.25613161776046967, null], \"y\": [0.777457843952184, 0.00791373722457011, null]}, {\"hoverinfo\": \"text\", \"line\": {\"color\": \"cornflowerblue\", \"width\": 0.3}, \"mode\": \"lines\", \"text\": [\"Egeus--Bottom: 1\"], \"type\": \"scatter\", \"x\": [0.6116763894640966, -0.1906098569695587, null], \"y\": [0.777457843952184, -0.03755510788633763, null]}, {\"hoverinfo\": \"text\", \"line\": {\"color\": \"cornflowerblue\", \"width\": 1.0090756983044573}, \"mode\": \"lines\", \"text\": [\"Egeus--Attendants: 2\"], \"type\": \"scatter\", \"x\": [0.6116763894640966, -0.15542033470591832, null], \"y\": [0.777457843952184, 0.5921763898081837, null]}, {\"hoverinfo\": \"text\", \"line\": {\"color\": \"cornflowerblue\", \"width\": 5.015552287323165}, \"mode\": \"lines\", \"text\": [\"Hermia--Helena: 5\"], \"type\": \"scatter\", \"x\": [0.02457706255091086, 0.06590227141141339, null], \"y\": [0.13962701387691515, -0.10379414452443335, null]}, {\"hoverinfo\": \"text\", \"line\": {\"color\": \"cornflowerblue\", \"width\": 5.015552287323165}, \"mode\": \"lines\", \"text\": [\"Hermia--Lysander: 5\"], \"type\": \"scatter\", \"x\": [0.02457706255091086, 0.23546184612347698, null], \"y\": [0.13962701387691515, 0.1928108793466501, null]}, {\"hoverinfo\": \"text\", \"line\": {\"color\": \"cornflowerblue\", \"width\": 5.015552287323165}, \"mode\": \"lines\", \"text\": [\"Hermia--Demetrius: 5\"], \"type\": \"scatter\", \"x\": [0.02457706255091086, 0.25613161776046967, null], \"y\": [0.13962701387691515, 0.00791373722457011, null]}, {\"hoverinfo\": \"text\", \"line\": {\"color\": \"cornflowerblue\", \"width\": 0.3}, \"mode\": \"lines\", \"text\": [\"Hermia--Philostrate: 1\"], \"type\": \"scatter\", \"x\": [0.02457706255091086, -0.4593311733942905, null], \"y\": [0.13962701387691515, 0.9317406714960749, null]}, {\"hoverinfo\": \"text\", \"line\": {\"color\": \"cornflowerblue\", \"width\": 0.3}, \"mode\": \"lines\", \"text\": [\"Hermia--Quince: 1\"], \"type\": \"scatter\", \"x\": [0.02457706255091086, -0.5204889824338365, null], \"y\": [0.13962701387691515, 0.22235035580694495, null]}, {\"hoverinfo\": \"text\", \"line\": {\"color\": \"cornflowerblue\", \"width\": 0.3}, \"mode\": \"lines\", \"text\": [\"Hermia--Snug: 1\"], \"type\": \"scatter\", \"x\": [0.02457706255091086, -0.655576999427171, null], \"y\": [0.13962701387691515, -0.01949483935384284, null]}, {\"hoverinfo\": \"text\", \"line\": {\"color\": \"cornflowerblue\", \"width\": 1.0090756983044573}, \"mode\": \"lines\", \"text\": [\"Hermia--Bottom: 2\"], \"type\": \"scatter\", \"x\": [0.02457706255091086, -0.1906098569695587, null], \"y\": [0.13962701387691515, -0.03755510788633763, null]}, {\"hoverinfo\": \"text\", \"line\": {\"color\": \"cornflowerblue\", \"width\": 0.3}, \"mode\": \"lines\", \"text\": [\"Hermia--Flute: 1\"], \"type\": \"scatter\", \"x\": [0.02457706255091086, -0.7547279135512309, null], \"y\": [0.13962701387691515, 0.3794917410761324, null]}, {\"hoverinfo\": \"text\", \"line\": {\"color\": \"cornflowerblue\", \"width\": 0.3}, \"mode\": \"lines\", \"text\": [\"Hermia--Snout: 1\"], \"type\": \"scatter\", \"x\": [0.02457706255091086, -0.5403687168238172, null], \"y\": [0.13962701387691515, 0.47459790892090853, null]}, {\"hoverinfo\": \"text\", \"line\": {\"color\": \"cornflowerblue\", \"width\": 0.3}, \"mode\": \"lines\", \"text\": [\"Hermia--Starveling: 1\"], \"type\": \"scatter\", \"x\": [0.02457706255091086, -0.8074516311500721, null], \"y\": [0.13962701387691515, 0.13783186893176808, null]}, {\"hoverinfo\": \"text\", \"line\": {\"color\": \"cornflowerblue\", \"width\": 1.0090756983044573}, \"mode\": \"lines\", \"text\": [\"Hermia--Oberon: 2\"], \"type\": \"scatter\", \"x\": [0.02457706255091086, 0.03780242648066849, null], \"y\": [0.13962701387691515, -0.7331466447881557, null]}, {\"hoverinfo\": \"text\", \"line\": {\"color\": \"cornflowerblue\", \"width\": 1.0090756983044573}, \"mode\": \"lines\", \"text\": [\"Hermia--Titania: 2\"], \"type\": \"scatter\", \"x\": [0.02457706255091086, 0.08483664581578082, null], \"y\": [0.13962701387691515, -0.4466392644341982, null]}, {\"hoverinfo\": \"text\", \"line\": {\"color\": \"cornflowerblue\", \"width\": 2.0515563512592996}, \"mode\": \"lines\", \"text\": [\"Hermia--Puck: 3\"], \"type\": \"scatter\", \"x\": [0.02457706255091086, -0.20380273707368468, null], \"y\": [0.13962701387691515, -0.47672890520182126, null]}, {\"hoverinfo\": \"text\", \"line\": {\"color\": \"cornflowerblue\", \"width\": 0.3}, \"mode\": \"lines\", \"text\": [\"Hermia--Peaseblossom: 1\"], \"type\": \"scatter\", \"x\": [0.02457706255091086, 0.6471621292801955, null], \"y\": [0.13962701387691515, -0.5179197960503585, null]}, {\"hoverinfo\": \"text\", \"line\": {\"color\": \"cornflowerblue\", \"width\": 0.3}, \"mode\": \"lines\", \"text\": [\"Hermia--Cobweb: 1\"], \"type\": \"scatter\", \"x\": [0.02457706255091086, 0.31071592584759494, null], \"y\": [0.13962701387691515, -1.0, null]}, {\"hoverinfo\": \"text\", \"line\": {\"color\": \"cornflowerblue\", \"width\": 0.3}, \"mode\": \"lines\", \"text\": [\"Hermia--Moth: 1\"], \"type\": \"scatter\", \"x\": [0.02457706255091086, 0.6945499683517943, null], \"y\": [0.13962701387691515, -0.7947839872811138, null]}, {\"hoverinfo\": \"text\", \"line\": {\"color\": \"cornflowerblue\", \"width\": 0.3}, \"mode\": \"lines\", \"text\": [\"Hermia--Mustardseed: 1\"], \"type\": \"scatter\", \"x\": [0.02457706255091086, 0.8421994532944821, null], \"y\": [0.13962701387691515, -0.3778235831239674, null]}, {\"hoverinfo\": \"text\", \"line\": {\"color\": \"cornflowerblue\", \"width\": 0.3}, \"mode\": \"lines\", \"text\": [\"Hermia--Fairies: 1\"], \"type\": \"scatter\", \"x\": [0.02457706255091086, 0.3619745322604507, null], \"y\": [0.13962701387691515, -0.7560229340319775, null]}, {\"hoverinfo\": \"text\", \"line\": {\"color\": \"cornflowerblue\", \"width\": 2.0515563512592996}, \"mode\": \"lines\", \"text\": [\"Hermia--Attendants: 3\"], \"type\": \"scatter\", \"x\": [0.02457706255091086, -0.15542033470591832, null], \"y\": [0.13962701387691515, 0.5921763898081837, null]}, {\"hoverinfo\": \"text\", \"line\": {\"color\": \"cornflowerblue\", \"width\": 5.015552287323165}, \"mode\": \"lines\", \"text\": [\"Helena--Lysander: 5\"], \"type\": \"scatter\", \"x\": [0.06590227141141339, 0.23546184612347698, null], \"y\": [-0.10379414452443335, 0.1928108793466501, null]}, {\"hoverinfo\": \"text\", \"line\": {\"color\": \"cornflowerblue\", \"width\": 5.015552287323165}, \"mode\": \"lines\", \"text\": [\"Helena--Demetrius: 5\"], \"type\": \"scatter\", \"x\": [0.06590227141141339, 0.25613161776046967, null], \"y\": [-0.10379414452443335, 0.00791373722457011, null]}, {\"hoverinfo\": \"text\", \"line\": {\"color\": \"cornflowerblue\", \"width\": 0.3}, \"mode\": \"lines\", \"text\": [\"Helena--Philostrate: 1\"], \"type\": \"scatter\", \"x\": [0.06590227141141339, -0.4593311733942905, null], \"y\": [-0.10379414452443335, 0.9317406714960749, null]}, {\"hoverinfo\": \"text\", \"line\": {\"color\": \"cornflowerblue\", \"width\": 0.3}, \"mode\": \"lines\", \"text\": [\"Helena--Quince: 1\"], \"type\": \"scatter\", \"x\": [0.06590227141141339, -0.5204889824338365, null], \"y\": [-0.10379414452443335, 0.22235035580694495, null]}, {\"hoverinfo\": \"text\", \"line\": {\"color\": \"cornflowerblue\", \"width\": 0.3}, \"mode\": \"lines\", \"text\": [\"Helena--Snug: 1\"], \"type\": \"scatter\", \"x\": [0.06590227141141339, -0.655576999427171, null], \"y\": [-0.10379414452443335, -0.01949483935384284, null]}, {\"hoverinfo\": \"text\", \"line\": {\"color\": \"cornflowerblue\", \"width\": 1.0090756983044573}, \"mode\": \"lines\", \"text\": [\"Helena--Bottom: 2\"], \"type\": \"scatter\", \"x\": [0.06590227141141339, -0.1906098569695587, null], \"y\": [-0.10379414452443335, -0.03755510788633763, null]}, {\"hoverinfo\": \"text\", \"line\": {\"color\": \"cornflowerblue\", \"width\": 0.3}, \"mode\": \"lines\", \"text\": [\"Helena--Flute: 1\"], \"type\": \"scatter\", \"x\": [0.06590227141141339, -0.7547279135512309, null], \"y\": [-0.10379414452443335, 0.3794917410761324, null]}, {\"hoverinfo\": \"text\", \"line\": {\"color\": \"cornflowerblue\", \"width\": 0.3}, \"mode\": \"lines\", \"text\": [\"Helena--Snout: 1\"], \"type\": \"scatter\", \"x\": [0.06590227141141339, -0.5403687168238172, null], \"y\": [-0.10379414452443335, 0.47459790892090853, null]}, {\"hoverinfo\": \"text\", \"line\": {\"color\": \"cornflowerblue\", \"width\": 0.3}, \"mode\": \"lines\", \"text\": [\"Helena--Starveling: 1\"], \"type\": \"scatter\", \"x\": [0.06590227141141339, -0.8074516311500721, null], \"y\": [-0.10379414452443335, 0.13783186893176808, null]}, {\"hoverinfo\": \"text\", \"line\": {\"color\": \"cornflowerblue\", \"width\": 2.0515563512592996}, \"mode\": \"lines\", \"text\": [\"Helena--Oberon: 3\"], \"type\": \"scatter\", \"x\": [0.06590227141141339, 0.03780242648066849, null], \"y\": [-0.10379414452443335, -0.7331466447881557, null]}, {\"hoverinfo\": \"text\", \"line\": {\"color\": \"cornflowerblue\", \"width\": 1.0090756983044573}, \"mode\": \"lines\", \"text\": [\"Helena--Titania: 2\"], \"type\": \"scatter\", \"x\": [0.06590227141141339, 0.08483664581578082, null], \"y\": [-0.10379414452443335, -0.4466392644341982, null]}, {\"hoverinfo\": \"text\", \"line\": {\"color\": \"cornflowerblue\", \"width\": 1.0090756983044573}, \"mode\": \"lines\", \"text\": [\"Helena--Puck: 2\"], \"type\": \"scatter\", \"x\": [0.06590227141141339, -0.20380273707368468, null], \"y\": [-0.10379414452443335, -0.47672890520182126, null]}, {\"hoverinfo\": \"text\", \"line\": {\"color\": \"cornflowerblue\", \"width\": 0.3}, \"mode\": \"lines\", \"text\": [\"Helena--Peaseblossom: 1\"], \"type\": \"scatter\", \"x\": [0.06590227141141339, 0.6471621292801955, null], \"y\": [-0.10379414452443335, -0.5179197960503585, null]}, {\"hoverinfo\": \"text\", \"line\": {\"color\": \"cornflowerblue\", \"width\": 0.3}, \"mode\": \"lines\", \"text\": [\"Helena--Cobweb: 1\"], \"type\": \"scatter\", \"x\": [0.06590227141141339, 0.31071592584759494, null], \"y\": [-0.10379414452443335, -1.0, null]}, {\"hoverinfo\": \"text\", \"line\": {\"color\": \"cornflowerblue\", \"width\": 0.3}, \"mode\": \"lines\", \"text\": [\"Helena--Moth: 1\"], \"type\": \"scatter\", \"x\": [0.06590227141141339, 0.6945499683517943, null], \"y\": [-0.10379414452443335, -0.7947839872811138, null]}, {\"hoverinfo\": \"text\", \"line\": {\"color\": \"cornflowerblue\", \"width\": 0.3}, \"mode\": \"lines\", \"text\": [\"Helena--Mustardseed: 1\"], \"type\": \"scatter\", \"x\": [0.06590227141141339, 0.8421994532944821, null], \"y\": [-0.10379414452443335, -0.3778235831239674, null]}, {\"hoverinfo\": \"text\", \"line\": {\"color\": \"cornflowerblue\", \"width\": 1.0090756983044573}, \"mode\": \"lines\", \"text\": [\"Helena--Fairies: 2\"], \"type\": \"scatter\", \"x\": [0.06590227141141339, 0.3619745322604507, null], \"y\": [-0.10379414452443335, -0.7560229340319775, null]}, {\"hoverinfo\": \"text\", \"line\": {\"color\": \"cornflowerblue\", \"width\": 1.0090756983044573}, \"mode\": \"lines\", \"text\": [\"Helena--Attendants: 2\"], \"type\": \"scatter\", \"x\": [0.06590227141141339, -0.15542033470591832, null], \"y\": [-0.10379414452443335, 0.5921763898081837, null]}, {\"hoverinfo\": \"text\", \"line\": {\"color\": \"cornflowerblue\", \"width\": 5.015552287323165}, \"mode\": \"lines\", \"text\": [\"Lysander--Demetrius: 5\"], \"type\": \"scatter\", \"x\": [0.23546184612347698, 0.25613161776046967, null], \"y\": [0.1928108793466501, 0.00791373722457011, null]}, {\"hoverinfo\": \"text\", \"line\": {\"color\": \"cornflowerblue\", \"width\": 0.3}, \"mode\": \"lines\", \"text\": [\"Lysander--Philostrate: 1\"], \"type\": \"scatter\", \"x\": [0.23546184612347698, -0.4593311733942905, null], \"y\": [0.1928108793466501, 0.9317406714960749, null]}, {\"hoverinfo\": \"text\", \"line\": {\"color\": \"cornflowerblue\", \"width\": 0.3}, \"mode\": \"lines\", \"text\": [\"Lysander--Quince: 1\"], \"type\": \"scatter\", \"x\": [0.23546184612347698, -0.5204889824338365, null], \"y\": [0.1928108793466501, 0.22235035580694495, null]}, {\"hoverinfo\": \"text\", \"line\": {\"color\": \"cornflowerblue\", \"width\": 0.3}, \"mode\": \"lines\", \"text\": [\"Lysander--Snug: 1\"], \"type\": \"scatter\", \"x\": [0.23546184612347698, -0.655576999427171, null], \"y\": [0.1928108793466501, -0.01949483935384284, null]}, {\"hoverinfo\": \"text\", \"line\": {\"color\": \"cornflowerblue\", \"width\": 1.0090756983044573}, \"mode\": \"lines\", \"text\": [\"Lysander--Bottom: 2\"], \"type\": \"scatter\", \"x\": [0.23546184612347698, -0.1906098569695587, null], \"y\": [0.1928108793466501, -0.03755510788633763, null]}, {\"hoverinfo\": \"text\", \"line\": {\"color\": \"cornflowerblue\", \"width\": 0.3}, \"mode\": \"lines\", \"text\": [\"Lysander--Flute: 1\"], \"type\": \"scatter\", \"x\": [0.23546184612347698, -0.7547279135512309, null], \"y\": [0.1928108793466501, 0.3794917410761324, null]}, {\"hoverinfo\": \"text\", \"line\": {\"color\": \"cornflowerblue\", \"width\": 0.3}, \"mode\": \"lines\", \"text\": [\"Lysander--Snout: 1\"], \"type\": \"scatter\", \"x\": [0.23546184612347698, -0.5403687168238172, null], \"y\": [0.1928108793466501, 0.47459790892090853, null]}, {\"hoverinfo\": \"text\", \"line\": {\"color\": \"cornflowerblue\", \"width\": 0.3}, \"mode\": \"lines\", \"text\": [\"Lysander--Starveling: 1\"], \"type\": \"scatter\", \"x\": [0.23546184612347698, -0.8074516311500721, null], \"y\": [0.1928108793466501, 0.13783186893176808, null]}, {\"hoverinfo\": \"text\", \"line\": {\"color\": \"cornflowerblue\", \"width\": 1.0090756983044573}, \"mode\": \"lines\", \"text\": [\"Lysander--Oberon: 2\"], \"type\": \"scatter\", \"x\": [0.23546184612347698, 0.03780242648066849, null], \"y\": [0.1928108793466501, -0.7331466447881557, null]}, {\"hoverinfo\": \"text\", \"line\": {\"color\": \"cornflowerblue\", \"width\": 1.0090756983044573}, \"mode\": \"lines\", \"text\": [\"Lysander--Titania: 2\"], \"type\": \"scatter\", \"x\": [0.23546184612347698, 0.08483664581578082, null], \"y\": [0.1928108793466501, -0.4466392644341982, null]}, {\"hoverinfo\": \"text\", \"line\": {\"color\": \"cornflowerblue\", \"width\": 2.0515563512592996}, \"mode\": \"lines\", \"text\": [\"Lysander--Puck: 3\"], \"type\": \"scatter\", \"x\": [0.23546184612347698, -0.20380273707368468, null], \"y\": [0.1928108793466501, -0.47672890520182126, null]}, {\"hoverinfo\": \"text\", \"line\": {\"color\": \"cornflowerblue\", \"width\": 0.3}, \"mode\": \"lines\", \"text\": [\"Lysander--Peaseblossom: 1\"], \"type\": \"scatter\", \"x\": [0.23546184612347698, 0.6471621292801955, null], \"y\": [0.1928108793466501, -0.5179197960503585, null]}, {\"hoverinfo\": \"text\", \"line\": {\"color\": \"cornflowerblue\", \"width\": 0.3}, \"mode\": \"lines\", \"text\": [\"Lysander--Cobweb: 1\"], \"type\": \"scatter\", \"x\": [0.23546184612347698, 0.31071592584759494, null], \"y\": [0.1928108793466501, -1.0, null]}, {\"hoverinfo\": \"text\", \"line\": {\"color\": \"cornflowerblue\", \"width\": 0.3}, \"mode\": \"lines\", \"text\": [\"Lysander--Moth: 1\"], \"type\": \"scatter\", \"x\": [0.23546184612347698, 0.6945499683517943, null], \"y\": [0.1928108793466501, -0.7947839872811138, null]}, {\"hoverinfo\": \"text\", \"line\": {\"color\": \"cornflowerblue\", \"width\": 0.3}, \"mode\": \"lines\", \"text\": [\"Lysander--Mustardseed: 1\"], \"type\": \"scatter\", \"x\": [0.23546184612347698, 0.8421994532944821, null], \"y\": [0.1928108793466501, -0.3778235831239674, null]}, {\"hoverinfo\": \"text\", \"line\": {\"color\": \"cornflowerblue\", \"width\": 0.3}, \"mode\": \"lines\", \"text\": [\"Lysander--Fairies: 1\"], \"type\": \"scatter\", \"x\": [0.23546184612347698, 0.3619745322604507, null], \"y\": [0.1928108793466501, -0.7560229340319775, null]}, {\"hoverinfo\": \"text\", \"line\": {\"color\": \"cornflowerblue\", \"width\": 2.0515563512592996}, \"mode\": \"lines\", \"text\": [\"Lysander--Attendants: 3\"], \"type\": \"scatter\", \"x\": [0.23546184612347698, -0.15542033470591832, null], \"y\": [0.1928108793466501, 0.5921763898081837, null]}, {\"hoverinfo\": \"text\", \"line\": {\"color\": \"cornflowerblue\", \"width\": 0.3}, \"mode\": \"lines\", \"text\": [\"Demetrius--Philostrate: 1\"], \"type\": \"scatter\", \"x\": [0.25613161776046967, -0.4593311733942905, null], \"y\": [0.00791373722457011, 0.9317406714960749, null]}, {\"hoverinfo\": \"text\", \"line\": {\"color\": \"cornflowerblue\", \"width\": 0.3}, \"mode\": \"lines\", \"text\": [\"Demetrius--Quince: 1\"], \"type\": \"scatter\", \"x\": [0.25613161776046967, -0.5204889824338365, null], \"y\": [0.00791373722457011, 0.22235035580694495, null]}, {\"hoverinfo\": \"text\", \"line\": {\"color\": \"cornflowerblue\", \"width\": 0.3}, \"mode\": \"lines\", \"text\": [\"Demetrius--Snug: 1\"], \"type\": \"scatter\", \"x\": [0.25613161776046967, -0.655576999427171, null], \"y\": [0.00791373722457011, -0.01949483935384284, null]}, {\"hoverinfo\": \"text\", \"line\": {\"color\": \"cornflowerblue\", \"width\": 1.0090756983044573}, \"mode\": \"lines\", \"text\": [\"Demetrius--Bottom: 2\"], \"type\": \"scatter\", \"x\": [0.25613161776046967, -0.1906098569695587, null], \"y\": [0.00791373722457011, -0.03755510788633763, null]}, {\"hoverinfo\": \"text\", \"line\": {\"color\": \"cornflowerblue\", \"width\": 0.3}, \"mode\": \"lines\", \"text\": [\"Demetrius--Flute: 1\"], \"type\": \"scatter\", \"x\": [0.25613161776046967, -0.7547279135512309, null], \"y\": [0.00791373722457011, 0.3794917410761324, null]}, {\"hoverinfo\": \"text\", \"line\": {\"color\": \"cornflowerblue\", \"width\": 0.3}, \"mode\": \"lines\", \"text\": [\"Demetrius--Snout: 1\"], \"type\": \"scatter\", \"x\": [0.25613161776046967, -0.5403687168238172, null], \"y\": [0.00791373722457011, 0.47459790892090853, null]}, {\"hoverinfo\": \"text\", \"line\": {\"color\": \"cornflowerblue\", \"width\": 0.3}, \"mode\": \"lines\", \"text\": [\"Demetrius--Starveling: 1\"], \"type\": \"scatter\", \"x\": [0.25613161776046967, -0.8074516311500721, null], \"y\": [0.00791373722457011, 0.13783186893176808, null]}, {\"hoverinfo\": \"text\", \"line\": {\"color\": \"cornflowerblue\", \"width\": 2.0515563512592996}, \"mode\": \"lines\", \"text\": [\"Demetrius--Oberon: 3\"], \"type\": \"scatter\", \"x\": [0.25613161776046967, 0.03780242648066849, null], \"y\": [0.00791373722457011, -0.7331466447881557, null]}, {\"hoverinfo\": \"text\", \"line\": {\"color\": \"cornflowerblue\", \"width\": 1.0090756983044573}, \"mode\": \"lines\", \"text\": [\"Demetrius--Titania: 2\"], \"type\": \"scatter\", \"x\": [0.25613161776046967, 0.08483664581578082, null], \"y\": [0.00791373722457011, -0.4466392644341982, null]}, {\"hoverinfo\": \"text\", \"line\": {\"color\": \"cornflowerblue\", \"width\": 1.0090756983044573}, \"mode\": \"lines\", \"text\": [\"Demetrius--Puck: 2\"], \"type\": \"scatter\", \"x\": [0.25613161776046967, -0.20380273707368468, null], \"y\": [0.00791373722457011, -0.47672890520182126, null]}, {\"hoverinfo\": \"text\", \"line\": {\"color\": \"cornflowerblue\", \"width\": 0.3}, \"mode\": \"lines\", \"text\": [\"Demetrius--Peaseblossom: 1\"], \"type\": \"scatter\", \"x\": [0.25613161776046967, 0.6471621292801955, null], \"y\": [0.00791373722457011, -0.5179197960503585, null]}, {\"hoverinfo\": \"text\", \"line\": {\"color\": \"cornflowerblue\", \"width\": 0.3}, \"mode\": \"lines\", \"text\": [\"Demetrius--Cobweb: 1\"], \"type\": \"scatter\", \"x\": [0.25613161776046967, 0.31071592584759494, null], \"y\": [0.00791373722457011, -1.0, null]}, {\"hoverinfo\": \"text\", \"line\": {\"color\": \"cornflowerblue\", \"width\": 0.3}, \"mode\": \"lines\", \"text\": [\"Demetrius--Moth: 1\"], \"type\": \"scatter\", \"x\": [0.25613161776046967, 0.6945499683517943, null], \"y\": [0.00791373722457011, -0.7947839872811138, null]}, {\"hoverinfo\": \"text\", \"line\": {\"color\": \"cornflowerblue\", \"width\": 0.3}, \"mode\": \"lines\", \"text\": [\"Demetrius--Mustardseed: 1\"], \"type\": \"scatter\", \"x\": [0.25613161776046967, 0.8421994532944821, null], \"y\": [0.00791373722457011, -0.3778235831239674, null]}, {\"hoverinfo\": \"text\", \"line\": {\"color\": \"cornflowerblue\", \"width\": 1.0090756983044573}, \"mode\": \"lines\", \"text\": [\"Demetrius--Fairies: 2\"], \"type\": \"scatter\", \"x\": [0.25613161776046967, 0.3619745322604507, null], \"y\": [0.00791373722457011, -0.7560229340319775, null]}, {\"hoverinfo\": \"text\", \"line\": {\"color\": \"cornflowerblue\", \"width\": 2.0515563512592996}, \"mode\": \"lines\", \"text\": [\"Demetrius--Attendants: 3\"], \"type\": \"scatter\", \"x\": [0.25613161776046967, -0.15542033470591832, null], \"y\": [0.00791373722457011, 0.5921763898081837, null]}, {\"hoverinfo\": \"text\", \"line\": {\"color\": \"cornflowerblue\", \"width\": 0.3}, \"mode\": \"lines\", \"text\": [\"Philostrate--Quince: 1\"], \"type\": \"scatter\", \"x\": [-0.4593311733942905, -0.5204889824338365, null], \"y\": [0.9317406714960749, 0.22235035580694495, null]}, {\"hoverinfo\": \"text\", \"line\": {\"color\": \"cornflowerblue\", \"width\": 0.3}, \"mode\": \"lines\", \"text\": [\"Philostrate--Snug: 1\"], \"type\": \"scatter\", \"x\": [-0.4593311733942905, -0.655576999427171, null], \"y\": [0.9317406714960749, -0.01949483935384284, null]}, {\"hoverinfo\": \"text\", \"line\": {\"color\": \"cornflowerblue\", \"width\": 0.3}, \"mode\": \"lines\", \"text\": [\"Philostrate--Bottom: 1\"], \"type\": \"scatter\", \"x\": [-0.4593311733942905, -0.1906098569695587, null], \"y\": [0.9317406714960749, -0.03755510788633763, null]}, {\"hoverinfo\": \"text\", \"line\": {\"color\": \"cornflowerblue\", \"width\": 0.3}, \"mode\": \"lines\", \"text\": [\"Philostrate--Flute: 1\"], \"type\": \"scatter\", \"x\": [-0.4593311733942905, -0.7547279135512309, null], \"y\": [0.9317406714960749, 0.3794917410761324, null]}, {\"hoverinfo\": \"text\", \"line\": {\"color\": \"cornflowerblue\", \"width\": 0.3}, \"mode\": \"lines\", \"text\": [\"Philostrate--Snout: 1\"], \"type\": \"scatter\", \"x\": [-0.4593311733942905, -0.5403687168238172, null], \"y\": [0.9317406714960749, 0.47459790892090853, null]}, {\"hoverinfo\": \"text\", \"line\": {\"color\": \"cornflowerblue\", \"width\": 0.3}, \"mode\": \"lines\", \"text\": [\"Philostrate--Starveling: 1\"], \"type\": \"scatter\", \"x\": [-0.4593311733942905, -0.8074516311500721, null], \"y\": [0.9317406714960749, 0.13783186893176808, null]}, {\"hoverinfo\": \"text\", \"line\": {\"color\": \"cornflowerblue\", \"width\": 1.0090756983044573}, \"mode\": \"lines\", \"text\": [\"Philostrate--Attendants: 2\"], \"type\": \"scatter\", \"x\": [-0.4593311733942905, -0.15542033470591832, null], \"y\": [0.9317406714960749, 0.5921763898081837, null]}, {\"hoverinfo\": \"text\", \"line\": {\"color\": \"cornflowerblue\", \"width\": 3.394112549695428}, \"mode\": \"lines\", \"text\": [\"Quince--Snug: 4\"], \"type\": \"scatter\", \"x\": [-0.5204889824338365, -0.655576999427171, null], \"y\": [0.22235035580694495, -0.01949483935384284, null]}, {\"hoverinfo\": \"text\", \"line\": {\"color\": \"cornflowerblue\", \"width\": 3.394112549695428}, \"mode\": \"lines\", \"text\": [\"Quince--Bottom: 4\"], \"type\": \"scatter\", \"x\": [-0.5204889824338365, -0.1906098569695587, null], \"y\": [0.22235035580694495, -0.03755510788633763, null]}, {\"hoverinfo\": \"text\", \"line\": {\"color\": \"cornflowerblue\", \"width\": 3.394112549695428}, \"mode\": \"lines\", \"text\": [\"Quince--Flute: 4\"], \"type\": \"scatter\", \"x\": [-0.5204889824338365, -0.7547279135512309, null], \"y\": [0.22235035580694495, 0.3794917410761324, null]}, {\"hoverinfo\": \"text\", \"line\": {\"color\": \"cornflowerblue\", \"width\": 3.394112549695428}, \"mode\": \"lines\", \"text\": [\"Quince--Snout: 4\"], \"type\": \"scatter\", \"x\": [-0.5204889824338365, -0.5403687168238172, null], \"y\": [0.22235035580694495, 0.47459790892090853, null]}, {\"hoverinfo\": \"text\", \"line\": {\"color\": \"cornflowerblue\", \"width\": 3.394112549695428}, \"mode\": \"lines\", \"text\": [\"Quince--Starveling: 4\"], \"type\": \"scatter\", \"x\": [-0.5204889824338365, -0.8074516311500721, null], \"y\": [0.22235035580694495, 0.13783186893176808, null]}, {\"hoverinfo\": \"text\", \"line\": {\"color\": \"cornflowerblue\", \"width\": 0.3}, \"mode\": \"lines\", \"text\": [\"Quince--Titania: 1\"], \"type\": \"scatter\", \"x\": [-0.5204889824338365, 0.08483664581578082, null], \"y\": [0.22235035580694495, -0.4466392644341982, null]}, {\"hoverinfo\": \"text\", \"line\": {\"color\": \"cornflowerblue\", \"width\": 0.3}, \"mode\": \"lines\", \"text\": [\"Quince--Puck: 1\"], \"type\": \"scatter\", \"x\": [-0.5204889824338365, -0.20380273707368468, null], \"y\": [0.22235035580694495, -0.47672890520182126, null]}, {\"hoverinfo\": \"text\", \"line\": {\"color\": \"cornflowerblue\", \"width\": 0.3}, \"mode\": \"lines\", \"text\": [\"Quince--Attendants: 1\"], \"type\": \"scatter\", \"x\": [-0.5204889824338365, -0.15542033470591832, null], \"y\": [0.22235035580694495, 0.5921763898081837, null]}, {\"hoverinfo\": \"text\", \"line\": {\"color\": \"cornflowerblue\", \"width\": 3.394112549695428}, \"mode\": \"lines\", \"text\": [\"Snug--Bottom: 4\"], \"type\": \"scatter\", \"x\": [-0.655576999427171, -0.1906098569695587, null], \"y\": [-0.01949483935384284, -0.03755510788633763, null]}, {\"hoverinfo\": \"text\", \"line\": {\"color\": \"cornflowerblue\", \"width\": 3.394112549695428}, \"mode\": \"lines\", \"text\": [\"Snug--Flute: 4\"], \"type\": \"scatter\", \"x\": [-0.655576999427171, -0.7547279135512309, null], \"y\": [-0.01949483935384284, 0.3794917410761324, null]}, {\"hoverinfo\": \"text\", \"line\": {\"color\": \"cornflowerblue\", \"width\": 3.394112549695428}, \"mode\": \"lines\", \"text\": [\"Snug--Snout: 4\"], \"type\": \"scatter\", \"x\": [-0.655576999427171, -0.5403687168238172, null], \"y\": [-0.01949483935384284, 0.47459790892090853, null]}, {\"hoverinfo\": \"text\", \"line\": {\"color\": \"cornflowerblue\", \"width\": 3.394112549695428}, \"mode\": \"lines\", \"text\": [\"Snug--Starveling: 4\"], \"type\": \"scatter\", \"x\": [-0.655576999427171, -0.8074516311500721, null], \"y\": [-0.01949483935384284, 0.13783186893176808, null]}, {\"hoverinfo\": \"text\", \"line\": {\"color\": \"cornflowerblue\", \"width\": 0.3}, \"mode\": \"lines\", \"text\": [\"Snug--Titania: 1\"], \"type\": \"scatter\", \"x\": [-0.655576999427171, 0.08483664581578082, null], \"y\": [-0.01949483935384284, -0.4466392644341982, null]}, {\"hoverinfo\": \"text\", \"line\": {\"color\": \"cornflowerblue\", \"width\": 0.3}, \"mode\": \"lines\", \"text\": [\"Snug--Puck: 1\"], \"type\": \"scatter\", \"x\": [-0.655576999427171, -0.20380273707368468, null], \"y\": [-0.01949483935384284, -0.47672890520182126, null]}, {\"hoverinfo\": \"text\", \"line\": {\"color\": \"cornflowerblue\", \"width\": 0.3}, \"mode\": \"lines\", \"text\": [\"Snug--Attendants: 1\"], \"type\": \"scatter\", \"x\": [-0.655576999427171, -0.15542033470591832, null], \"y\": [-0.01949483935384284, 0.5921763898081837, null]}, {\"hoverinfo\": \"text\", \"line\": {\"color\": \"cornflowerblue\", \"width\": 3.394112549695428}, \"mode\": \"lines\", \"text\": [\"Bottom--Flute: 4\"], \"type\": \"scatter\", \"x\": [-0.1906098569695587, -0.7547279135512309, null], \"y\": [-0.03755510788633763, 0.3794917410761324, null]}, {\"hoverinfo\": \"text\", \"line\": {\"color\": \"cornflowerblue\", \"width\": 3.394112549695428}, \"mode\": \"lines\", \"text\": [\"Bottom--Snout: 4\"], \"type\": \"scatter\", \"x\": [-0.1906098569695587, -0.5403687168238172, null], \"y\": [-0.03755510788633763, 0.47459790892090853, null]}, {\"hoverinfo\": \"text\", \"line\": {\"color\": \"cornflowerblue\", \"width\": 3.394112549695428}, \"mode\": \"lines\", \"text\": [\"Bottom--Starveling: 4\"], \"type\": \"scatter\", \"x\": [-0.1906098569695587, -0.8074516311500721, null], \"y\": [-0.03755510788633763, 0.13783186893176808, null]}, {\"hoverinfo\": \"text\", \"line\": {\"color\": \"cornflowerblue\", \"width\": 0.3}, \"mode\": \"lines\", \"text\": [\"Bottom--Oberon: 1\"], \"type\": \"scatter\", \"x\": [-0.1906098569695587, 0.03780242648066849, null], \"y\": [-0.03755510788633763, -0.7331466447881557, null]}, {\"hoverinfo\": \"text\", \"line\": {\"color\": \"cornflowerblue\", \"width\": 1.0090756983044573}, \"mode\": \"lines\", \"text\": [\"Bottom--Titania: 2\"], \"type\": \"scatter\", \"x\": [-0.1906098569695587, 0.08483664581578082, null], \"y\": [-0.03755510788633763, -0.4466392644341982, null]}, {\"hoverinfo\": \"text\", \"line\": {\"color\": \"cornflowerblue\", \"width\": 1.0090756983044573}, \"mode\": \"lines\", \"text\": [\"Bottom--Puck: 2\"], \"type\": \"scatter\", \"x\": [-0.1906098569695587, -0.20380273707368468, null], \"y\": [-0.03755510788633763, -0.47672890520182126, null]}, {\"hoverinfo\": \"text\", \"line\": {\"color\": \"cornflowerblue\", \"width\": 1.0090756983044573}, \"mode\": \"lines\", \"text\": [\"Bottom--Peaseblossom: 2\"], \"type\": \"scatter\", \"x\": [-0.1906098569695587, 0.6471621292801955, null], \"y\": [-0.03755510788633763, -0.5179197960503585, null]}, {\"hoverinfo\": \"text\", \"line\": {\"color\": \"cornflowerblue\", \"width\": 1.0090756983044573}, \"mode\": \"lines\", \"text\": [\"Bottom--Cobweb: 2\"], \"type\": \"scatter\", \"x\": [-0.1906098569695587, 0.31071592584759494, null], \"y\": [-0.03755510788633763, -1.0, null]}, {\"hoverinfo\": \"text\", \"line\": {\"color\": \"cornflowerblue\", \"width\": 1.0090756983044573}, \"mode\": \"lines\", \"text\": [\"Bottom--Moth: 2\"], \"type\": \"scatter\", \"x\": [-0.1906098569695587, 0.6945499683517943, null], \"y\": [-0.03755510788633763, -0.7947839872811138, null]}, {\"hoverinfo\": \"text\", \"line\": {\"color\": \"cornflowerblue\", \"width\": 1.0090756983044573}, \"mode\": \"lines\", \"text\": [\"Bottom--Mustardseed: 2\"], \"type\": \"scatter\", \"x\": [-0.1906098569695587, 0.8421994532944821, null], \"y\": [-0.03755510788633763, -0.3778235831239674, null]}, {\"hoverinfo\": \"text\", \"line\": {\"color\": \"cornflowerblue\", \"width\": 0.3}, \"mode\": \"lines\", \"text\": [\"Bottom--Fairies: 1\"], \"type\": \"scatter\", \"x\": [-0.1906098569695587, 0.3619745322604507, null], \"y\": [-0.03755510788633763, -0.7560229340319775, null]}, {\"hoverinfo\": \"text\", \"line\": {\"color\": \"cornflowerblue\", \"width\": 1.0090756983044573}, \"mode\": \"lines\", \"text\": [\"Bottom--Attendants: 2\"], \"type\": \"scatter\", \"x\": [-0.1906098569695587, -0.15542033470591832, null], \"y\": [-0.03755510788633763, 0.5921763898081837, null]}, {\"hoverinfo\": \"text\", \"line\": {\"color\": \"cornflowerblue\", \"width\": 3.394112549695428}, \"mode\": \"lines\", \"text\": [\"Flute--Snout: 4\"], \"type\": \"scatter\", \"x\": [-0.7547279135512309, -0.5403687168238172, null], \"y\": [0.3794917410761324, 0.47459790892090853, null]}, {\"hoverinfo\": \"text\", \"line\": {\"color\": \"cornflowerblue\", \"width\": 3.394112549695428}, \"mode\": \"lines\", \"text\": [\"Flute--Starveling: 4\"], \"type\": \"scatter\", \"x\": [-0.7547279135512309, -0.8074516311500721, null], \"y\": [0.3794917410761324, 0.13783186893176808, null]}, {\"hoverinfo\": \"text\", \"line\": {\"color\": \"cornflowerblue\", \"width\": 0.3}, \"mode\": \"lines\", \"text\": [\"Flute--Titania: 1\"], \"type\": \"scatter\", \"x\": [-0.7547279135512309, 0.08483664581578082, null], \"y\": [0.3794917410761324, -0.4466392644341982, null]}, {\"hoverinfo\": \"text\", \"line\": {\"color\": \"cornflowerblue\", \"width\": 0.3}, \"mode\": \"lines\", \"text\": [\"Flute--Puck: 1\"], \"type\": \"scatter\", \"x\": [-0.7547279135512309, -0.20380273707368468, null], \"y\": [0.3794917410761324, -0.47672890520182126, null]}, {\"hoverinfo\": \"text\", \"line\": {\"color\": \"cornflowerblue\", \"width\": 0.3}, \"mode\": \"lines\", \"text\": [\"Flute--Attendants: 1\"], \"type\": \"scatter\", \"x\": [-0.7547279135512309, -0.15542033470591832, null], \"y\": [0.3794917410761324, 0.5921763898081837, null]}, {\"hoverinfo\": \"text\", \"line\": {\"color\": \"cornflowerblue\", \"width\": 3.394112549695428}, \"mode\": \"lines\", \"text\": [\"Snout--Starveling: 4\"], \"type\": \"scatter\", \"x\": [-0.5403687168238172, -0.8074516311500721, null], \"y\": [0.47459790892090853, 0.13783186893176808, null]}, {\"hoverinfo\": \"text\", \"line\": {\"color\": \"cornflowerblue\", \"width\": 0.3}, \"mode\": \"lines\", \"text\": [\"Snout--Titania: 1\"], \"type\": \"scatter\", \"x\": [-0.5403687168238172, 0.08483664581578082, null], \"y\": [0.47459790892090853, -0.4466392644341982, null]}, {\"hoverinfo\": \"text\", \"line\": {\"color\": \"cornflowerblue\", \"width\": 0.3}, \"mode\": \"lines\", \"text\": [\"Snout--Puck: 1\"], \"type\": \"scatter\", \"x\": [-0.5403687168238172, -0.20380273707368468, null], \"y\": [0.47459790892090853, -0.47672890520182126, null]}, {\"hoverinfo\": \"text\", \"line\": {\"color\": \"cornflowerblue\", \"width\": 0.3}, \"mode\": \"lines\", \"text\": [\"Snout--Attendants: 1\"], \"type\": \"scatter\", \"x\": [-0.5403687168238172, -0.15542033470591832, null], \"y\": [0.47459790892090853, 0.5921763898081837, null]}, {\"hoverinfo\": \"text\", \"line\": {\"color\": \"cornflowerblue\", \"width\": 0.3}, \"mode\": \"lines\", \"text\": [\"Starveling--Titania: 1\"], \"type\": \"scatter\", \"x\": [-0.8074516311500721, 0.08483664581578082, null], \"y\": [0.13783186893176808, -0.4466392644341982, null]}, {\"hoverinfo\": \"text\", \"line\": {\"color\": \"cornflowerblue\", \"width\": 0.3}, \"mode\": \"lines\", \"text\": [\"Starveling--Puck: 1\"], \"type\": \"scatter\", \"x\": [-0.8074516311500721, -0.20380273707368468, null], \"y\": [0.13783186893176808, -0.47672890520182126, null]}, {\"hoverinfo\": \"text\", \"line\": {\"color\": \"cornflowerblue\", \"width\": 0.3}, \"mode\": \"lines\", \"text\": [\"Starveling--Attendants: 1\"], \"type\": \"scatter\", \"x\": [-0.8074516311500721, -0.15542033470591832, null], \"y\": [0.13783186893176808, 0.5921763898081837, null]}, {\"hoverinfo\": \"text\", \"line\": {\"color\": \"cornflowerblue\", \"width\": 3.394112549695428}, \"mode\": \"lines\", \"text\": [\"Oberon--Titania: 4\"], \"type\": \"scatter\", \"x\": [0.03780242648066849, 0.08483664581578082, null], \"y\": [-0.7331466447881557, -0.4466392644341982, null]}, {\"hoverinfo\": \"text\", \"line\": {\"color\": \"cornflowerblue\", \"width\": 3.394112549695428}, \"mode\": \"lines\", \"text\": [\"Oberon--Puck: 4\"], \"type\": \"scatter\", \"x\": [0.03780242648066849, -0.20380273707368468, null], \"y\": [-0.7331466447881557, -0.47672890520182126, null]}, {\"hoverinfo\": \"text\", \"line\": {\"color\": \"cornflowerblue\", \"width\": 0.3}, \"mode\": \"lines\", \"text\": [\"Oberon--Peaseblossom: 1\"], \"type\": \"scatter\", \"x\": [0.03780242648066849, 0.6471621292801955, null], \"y\": [-0.7331466447881557, -0.5179197960503585, null]}, {\"hoverinfo\": \"text\", \"line\": {\"color\": \"cornflowerblue\", \"width\": 0.3}, \"mode\": \"lines\", \"text\": [\"Oberon--Cobweb: 1\"], \"type\": \"scatter\", \"x\": [0.03780242648066849, 0.31071592584759494, null], \"y\": [-0.7331466447881557, -1.0, null]}, {\"hoverinfo\": \"text\", \"line\": {\"color\": \"cornflowerblue\", \"width\": 0.3}, \"mode\": \"lines\", \"text\": [\"Oberon--Moth: 1\"], \"type\": \"scatter\", \"x\": [0.03780242648066849, 0.6945499683517943, null], \"y\": [-0.7331466447881557, -0.7947839872811138, null]}, {\"hoverinfo\": \"text\", \"line\": {\"color\": \"cornflowerblue\", \"width\": 0.3}, \"mode\": \"lines\", \"text\": [\"Oberon--Mustardseed: 1\"], \"type\": \"scatter\", \"x\": [0.03780242648066849, 0.8421994532944821, null], \"y\": [-0.7331466447881557, -0.3778235831239674, null]}, {\"hoverinfo\": \"text\", \"line\": {\"color\": \"cornflowerblue\", \"width\": 2.0515563512592996}, \"mode\": \"lines\", \"text\": [\"Oberon--Fairies: 3\"], \"type\": \"scatter\", \"x\": [0.03780242648066849, 0.3619745322604507, null], \"y\": [-0.7331466447881557, -0.7560229340319775, null]}, {\"hoverinfo\": \"text\", \"line\": {\"color\": \"cornflowerblue\", \"width\": 5.015552287323165}, \"mode\": \"lines\", \"text\": [\"Titania--Puck: 5\"], \"type\": \"scatter\", \"x\": [0.08483664581578082, -0.20380273707368468, null], \"y\": [-0.4466392644341982, -0.47672890520182126, null]}, {\"hoverinfo\": \"text\", \"line\": {\"color\": \"cornflowerblue\", \"width\": 1.0090756983044573}, \"mode\": \"lines\", \"text\": [\"Titania--Peaseblossom: 2\"], \"type\": \"scatter\", \"x\": [0.08483664581578082, 0.6471621292801955, null], \"y\": [-0.4466392644341982, -0.5179197960503585, null]}, {\"hoverinfo\": \"text\", \"line\": {\"color\": \"cornflowerblue\", \"width\": 1.0090756983044573}, \"mode\": \"lines\", \"text\": [\"Titania--Cobweb: 2\"], \"type\": \"scatter\", \"x\": [0.08483664581578082, 0.31071592584759494, null], \"y\": [-0.4466392644341982, -1.0, null]}, {\"hoverinfo\": \"text\", \"line\": {\"color\": \"cornflowerblue\", \"width\": 1.0090756983044573}, \"mode\": \"lines\", \"text\": [\"Titania--Moth: 2\"], \"type\": \"scatter\", \"x\": [0.08483664581578082, 0.6945499683517943, null], \"y\": [-0.4466392644341982, -0.7947839872811138, null]}, {\"hoverinfo\": \"text\", \"line\": {\"color\": \"cornflowerblue\", \"width\": 1.0090756983044573}, \"mode\": \"lines\", \"text\": [\"Titania--Mustardseed: 2\"], \"type\": \"scatter\", \"x\": [0.08483664581578082, 0.8421994532944821, null], \"y\": [-0.4466392644341982, -0.3778235831239674, null]}, {\"hoverinfo\": \"text\", \"line\": {\"color\": \"cornflowerblue\", \"width\": 3.394112549695428}, \"mode\": \"lines\", \"text\": [\"Titania--Fairies: 4\"], \"type\": \"scatter\", \"x\": [0.08483664581578082, 0.3619745322604507, null], \"y\": [-0.4466392644341982, -0.7560229340319775, null]}, {\"hoverinfo\": \"text\", \"line\": {\"color\": \"cornflowerblue\", \"width\": 0.3}, \"mode\": \"lines\", \"text\": [\"Puck--Peaseblossom: 1\"], \"type\": \"scatter\", \"x\": [-0.20380273707368468, 0.6471621292801955, null], \"y\": [-0.47672890520182126, -0.5179197960503585, null]}, {\"hoverinfo\": \"text\", \"line\": {\"color\": \"cornflowerblue\", \"width\": 0.3}, \"mode\": \"lines\", \"text\": [\"Puck--Cobweb: 1\"], \"type\": \"scatter\", \"x\": [-0.20380273707368468, 0.31071592584759494, null], \"y\": [-0.47672890520182126, -1.0, null]}, {\"hoverinfo\": \"text\", \"line\": {\"color\": \"cornflowerblue\", \"width\": 0.3}, \"mode\": \"lines\", \"text\": [\"Puck--Moth: 1\"], \"type\": \"scatter\", \"x\": [-0.20380273707368468, 0.6945499683517943, null], \"y\": [-0.47672890520182126, -0.7947839872811138, null]}, {\"hoverinfo\": \"text\", \"line\": {\"color\": \"cornflowerblue\", \"width\": 0.3}, \"mode\": \"lines\", \"text\": [\"Puck--Mustardseed: 1\"], \"type\": \"scatter\", \"x\": [-0.20380273707368468, 0.8421994532944821, null], \"y\": [-0.47672890520182126, -0.3778235831239674, null]}, {\"hoverinfo\": \"text\", \"line\": {\"color\": \"cornflowerblue\", \"width\": 2.0515563512592996}, \"mode\": \"lines\", \"text\": [\"Puck--Fairies: 3\"], \"type\": \"scatter\", \"x\": [-0.20380273707368468, 0.3619745322604507, null], \"y\": [-0.47672890520182126, -0.7560229340319775, null]}, {\"hoverinfo\": \"text\", \"line\": {\"color\": \"cornflowerblue\", \"width\": 1.0090756983044573}, \"mode\": \"lines\", \"text\": [\"Peaseblossom--Cobweb: 2\"], \"type\": \"scatter\", \"x\": [0.6471621292801955, 0.31071592584759494, null], \"y\": [-0.5179197960503585, -1.0, null]}, {\"hoverinfo\": \"text\", \"line\": {\"color\": \"cornflowerblue\", \"width\": 1.0090756983044573}, \"mode\": \"lines\", \"text\": [\"Peaseblossom--Moth: 2\"], \"type\": \"scatter\", \"x\": [0.6471621292801955, 0.6945499683517943, null], \"y\": [-0.5179197960503585, -0.7947839872811138, null]}, {\"hoverinfo\": \"text\", \"line\": {\"color\": \"cornflowerblue\", \"width\": 1.0090756983044573}, \"mode\": \"lines\", \"text\": [\"Peaseblossom--Mustardseed: 2\"], \"type\": \"scatter\", \"x\": [0.6471621292801955, 0.8421994532944821, null], \"y\": [-0.5179197960503585, -0.3778235831239674, null]}, {\"hoverinfo\": \"text\", \"line\": {\"color\": \"cornflowerblue\", \"width\": 0.3}, \"mode\": \"lines\", \"text\": [\"Peaseblossom--Fairies: 1\"], \"type\": \"scatter\", \"x\": [0.6471621292801955, 0.3619745322604507, null], \"y\": [-0.5179197960503585, -0.7560229340319775, null]}, {\"hoverinfo\": \"text\", \"line\": {\"color\": \"cornflowerblue\", \"width\": 1.0090756983044573}, \"mode\": \"lines\", \"text\": [\"Cobweb--Moth: 2\"], \"type\": \"scatter\", \"x\": [0.31071592584759494, 0.6945499683517943, null], \"y\": [-1.0, -0.7947839872811138, null]}, {\"hoverinfo\": \"text\", \"line\": {\"color\": \"cornflowerblue\", \"width\": 1.0090756983044573}, \"mode\": \"lines\", \"text\": [\"Cobweb--Mustardseed: 2\"], \"type\": \"scatter\", \"x\": [0.31071592584759494, 0.8421994532944821, null], \"y\": [-1.0, -0.3778235831239674, null]}, {\"hoverinfo\": \"text\", \"line\": {\"color\": \"cornflowerblue\", \"width\": 0.3}, \"mode\": \"lines\", \"text\": [\"Cobweb--Fairies: 1\"], \"type\": \"scatter\", \"x\": [0.31071592584759494, 0.3619745322604507, null], \"y\": [-1.0, -0.7560229340319775, null]}, {\"hoverinfo\": \"text\", \"line\": {\"color\": \"cornflowerblue\", \"width\": 1.0090756983044573}, \"mode\": \"lines\", \"text\": [\"Moth--Mustardseed: 2\"], \"type\": \"scatter\", \"x\": [0.6945499683517943, 0.8421994532944821, null], \"y\": [-0.7947839872811138, -0.3778235831239674, null]}, {\"hoverinfo\": \"text\", \"line\": {\"color\": \"cornflowerblue\", \"width\": 0.3}, \"mode\": \"lines\", \"text\": [\"Moth--Fairies: 1\"], \"type\": \"scatter\", \"x\": [0.6945499683517943, 0.3619745322604507, null], \"y\": [-0.7947839872811138, -0.7560229340319775, null]}, {\"hoverinfo\": \"text\", \"line\": {\"color\": \"cornflowerblue\", \"width\": 0.3}, \"mode\": \"lines\", \"text\": [\"Mustardseed--Fairies: 1\"], \"type\": \"scatter\", \"x\": [0.8421994532944821, 0.3619745322604507, null], \"y\": [-0.3778235831239674, -0.7560229340319775, null]}, {\"hoverinfo\": \"none\", \"marker\": {\"color\": [\"cornflowerblue\", \"cornflowerblue\", \"cornflowerblue\", \"cornflowerblue\", \"cornflowerblue\", \"cornflowerblue\", \"cornflowerblue\", \"cornflowerblue\", \"cornflowerblue\", \"cornflowerblue\", \"cornflowerblue\", \"cornflowerblue\", \"cornflowerblue\", \"cornflowerblue\", \"cornflowerblue\", \"cornflowerblue\", \"cornflowerblue\", \"cornflowerblue\", \"cornflowerblue\", \"cornflowerblue\", \"cornflowerblue\", \"cornflowerblue\", \"cornflowerblue\"], \"size\": [15, 15, 10, 25, 30, 25, 30, 10, 20, 20, 25, 20, 20, 20, 25, 25, 30, 10, 10, 10, 10, 20, 15]}, \"mode\": \"markers+text\", \"text\": [\"<b>Theseus</b>\", \"<b>Hippolyta</b>\", \"<b>Egeus</b>\", \"<b>Hermia</b>\", \"<b>Helena</b>\", \"<b>Lysander</b>\", \"<b>Demetrius</b>\", \"<b>Philostrate</b>\", \"<b>Quince</b>\", \"<b>Snug</b>\", \"<b>Bottom</b>\", \"<b>Flute</b>\", \"<b>Snout</b>\", \"<b>Starveling</b>\", \"<b>Oberon</b>\", \"<b>Titania</b>\", \"<b>Puck</b>\", \"<b>Peaseblossom</b>\", \"<b>Cobweb</b>\", \"<b>Moth</b>\", \"<b>Mustardseed</b>\", \"<b>Fairies</b>\", \"<b>Attendants</b>\"], \"textfont\": {\"size\": 10}, \"textposition\": \"top center\", \"type\": \"scatter\", \"x\": [0.1554902138750292, -0.04070213698679434, 0.6116763894640966, 0.02457706255091086, 0.06590227141141339, 0.23546184612347698, 0.25613161776046967, -0.4593311733942905, -0.5204889824338365, -0.655576999427171, -0.1906098569695587, -0.7547279135512309, -0.5403687168238172, -0.8074516311500721, 0.03780242648066849, 0.08483664581578082, -0.20380273707368468, 0.6471621292801955, 0.31071592584759494, 0.6945499683517943, 0.8421994532944821, 0.3619745322604507, -0.15542033470591832], \"y\": [0.6461567604274282, 0.7617540358084427, 0.777457843952184, 0.13962701387691515, -0.10379414452443335, 0.1928108793466501, 0.00791373722457011, 0.9317406714960749, 0.22235035580694495, -0.01949483935384284, -0.03755510788633763, 0.3794917410761324, 0.47459790892090853, 0.13783186893176808, -0.7331466447881557, -0.4466392644341982, -0.47672890520182126, -0.5179197960503585, -1.0, -0.7947839872811138, -0.3778235831239674, -0.7560229340319775, 0.5921763898081837]}],\n",
       "                        {\"paper_bgcolor\": \"rgba(0,0,0,0)\", \"plot_bgcolor\": \"rgba(0,0,0,0)\", \"showlegend\": false, \"template\": {\"data\": {\"bar\": [{\"error_x\": {\"color\": \"#2a3f5f\"}, \"error_y\": {\"color\": \"#2a3f5f\"}, \"marker\": {\"line\": {\"color\": \"#E5ECF6\", \"width\": 0.5}}, \"type\": \"bar\"}], \"barpolar\": [{\"marker\": {\"line\": {\"color\": \"#E5ECF6\", \"width\": 0.5}}, \"type\": \"barpolar\"}], \"carpet\": [{\"aaxis\": {\"endlinecolor\": \"#2a3f5f\", \"gridcolor\": \"white\", \"linecolor\": \"white\", \"minorgridcolor\": \"white\", \"startlinecolor\": \"#2a3f5f\"}, \"baxis\": {\"endlinecolor\": \"#2a3f5f\", \"gridcolor\": \"white\", \"linecolor\": \"white\", \"minorgridcolor\": \"white\", \"startlinecolor\": \"#2a3f5f\"}, \"type\": \"carpet\"}], \"choropleth\": [{\"colorbar\": {\"outlinewidth\": 0, \"ticks\": \"\"}, \"type\": \"choropleth\"}], \"contour\": [{\"colorbar\": {\"outlinewidth\": 0, \"ticks\": \"\"}, \"colorscale\": [[0.0, \"#0d0887\"], [0.1111111111111111, \"#46039f\"], [0.2222222222222222, \"#7201a8\"], [0.3333333333333333, \"#9c179e\"], [0.4444444444444444, \"#bd3786\"], [0.5555555555555556, \"#d8576b\"], [0.6666666666666666, \"#ed7953\"], [0.7777777777777778, \"#fb9f3a\"], [0.8888888888888888, \"#fdca26\"], [1.0, \"#f0f921\"]], \"type\": \"contour\"}], \"contourcarpet\": [{\"colorbar\": {\"outlinewidth\": 0, \"ticks\": \"\"}, \"type\": \"contourcarpet\"}], \"heatmap\": [{\"colorbar\": {\"outlinewidth\": 0, \"ticks\": \"\"}, \"colorscale\": [[0.0, \"#0d0887\"], [0.1111111111111111, \"#46039f\"], [0.2222222222222222, \"#7201a8\"], [0.3333333333333333, \"#9c179e\"], [0.4444444444444444, \"#bd3786\"], [0.5555555555555556, \"#d8576b\"], [0.6666666666666666, \"#ed7953\"], [0.7777777777777778, \"#fb9f3a\"], [0.8888888888888888, \"#fdca26\"], [1.0, \"#f0f921\"]], \"type\": \"heatmap\"}], \"heatmapgl\": [{\"colorbar\": {\"outlinewidth\": 0, \"ticks\": \"\"}, \"colorscale\": [[0.0, \"#0d0887\"], [0.1111111111111111, \"#46039f\"], [0.2222222222222222, \"#7201a8\"], [0.3333333333333333, \"#9c179e\"], [0.4444444444444444, \"#bd3786\"], [0.5555555555555556, \"#d8576b\"], [0.6666666666666666, \"#ed7953\"], [0.7777777777777778, \"#fb9f3a\"], [0.8888888888888888, \"#fdca26\"], [1.0, \"#f0f921\"]], \"type\": \"heatmapgl\"}], \"histogram\": [{\"marker\": {\"colorbar\": {\"outlinewidth\": 0, \"ticks\": \"\"}}, \"type\": \"histogram\"}], \"histogram2d\": [{\"colorbar\": {\"outlinewidth\": 0, \"ticks\": \"\"}, \"colorscale\": [[0.0, \"#0d0887\"], [0.1111111111111111, \"#46039f\"], [0.2222222222222222, \"#7201a8\"], [0.3333333333333333, \"#9c179e\"], [0.4444444444444444, \"#bd3786\"], [0.5555555555555556, \"#d8576b\"], [0.6666666666666666, \"#ed7953\"], [0.7777777777777778, \"#fb9f3a\"], [0.8888888888888888, \"#fdca26\"], [1.0, \"#f0f921\"]], \"type\": \"histogram2d\"}], \"histogram2dcontour\": [{\"colorbar\": {\"outlinewidth\": 0, \"ticks\": \"\"}, \"colorscale\": [[0.0, \"#0d0887\"], [0.1111111111111111, \"#46039f\"], [0.2222222222222222, \"#7201a8\"], [0.3333333333333333, \"#9c179e\"], [0.4444444444444444, \"#bd3786\"], [0.5555555555555556, \"#d8576b\"], [0.6666666666666666, \"#ed7953\"], [0.7777777777777778, \"#fb9f3a\"], [0.8888888888888888, \"#fdca26\"], [1.0, \"#f0f921\"]], \"type\": \"histogram2dcontour\"}], \"mesh3d\": [{\"colorbar\": {\"outlinewidth\": 0, \"ticks\": \"\"}, \"type\": \"mesh3d\"}], \"parcoords\": [{\"line\": {\"colorbar\": {\"outlinewidth\": 0, \"ticks\": \"\"}}, \"type\": \"parcoords\"}], \"pie\": [{\"automargin\": true, \"type\": \"pie\"}], \"scatter\": [{\"marker\": {\"colorbar\": {\"outlinewidth\": 0, \"ticks\": \"\"}}, \"type\": \"scatter\"}], \"scatter3d\": [{\"line\": {\"colorbar\": {\"outlinewidth\": 0, \"ticks\": \"\"}}, \"marker\": {\"colorbar\": {\"outlinewidth\": 0, \"ticks\": \"\"}}, \"type\": \"scatter3d\"}], \"scattercarpet\": [{\"marker\": {\"colorbar\": {\"outlinewidth\": 0, \"ticks\": \"\"}}, \"type\": \"scattercarpet\"}], \"scattergeo\": [{\"marker\": {\"colorbar\": {\"outlinewidth\": 0, \"ticks\": \"\"}}, \"type\": \"scattergeo\"}], \"scattergl\": [{\"marker\": {\"colorbar\": {\"outlinewidth\": 0, \"ticks\": \"\"}}, \"type\": \"scattergl\"}], \"scattermapbox\": [{\"marker\": {\"colorbar\": {\"outlinewidth\": 0, \"ticks\": \"\"}}, \"type\": \"scattermapbox\"}], \"scatterpolar\": [{\"marker\": {\"colorbar\": {\"outlinewidth\": 0, \"ticks\": \"\"}}, \"type\": \"scatterpolar\"}], \"scatterpolargl\": [{\"marker\": {\"colorbar\": {\"outlinewidth\": 0, \"ticks\": \"\"}}, \"type\": \"scatterpolargl\"}], \"scatterternary\": [{\"marker\": {\"colorbar\": {\"outlinewidth\": 0, \"ticks\": \"\"}}, \"type\": \"scatterternary\"}], \"surface\": [{\"colorbar\": {\"outlinewidth\": 0, \"ticks\": \"\"}, \"colorscale\": [[0.0, \"#0d0887\"], [0.1111111111111111, \"#46039f\"], [0.2222222222222222, \"#7201a8\"], [0.3333333333333333, \"#9c179e\"], [0.4444444444444444, \"#bd3786\"], [0.5555555555555556, \"#d8576b\"], [0.6666666666666666, \"#ed7953\"], [0.7777777777777778, \"#fb9f3a\"], [0.8888888888888888, \"#fdca26\"], [1.0, \"#f0f921\"]], \"type\": \"surface\"}], \"table\": [{\"cells\": {\"fill\": {\"color\": \"#EBF0F8\"}, \"line\": {\"color\": \"white\"}}, \"header\": {\"fill\": {\"color\": \"#C8D4E3\"}, \"line\": {\"color\": \"white\"}}, \"type\": \"table\"}]}, \"layout\": {\"annotationdefaults\": {\"arrowcolor\": \"#2a3f5f\", \"arrowhead\": 0, \"arrowwidth\": 1}, \"coloraxis\": {\"colorbar\": {\"outlinewidth\": 0, \"ticks\": \"\"}}, \"colorscale\": {\"diverging\": [[0, \"#8e0152\"], [0.1, \"#c51b7d\"], [0.2, \"#de77ae\"], [0.3, \"#f1b6da\"], [0.4, \"#fde0ef\"], [0.5, \"#f7f7f7\"], [0.6, \"#e6f5d0\"], [0.7, \"#b8e186\"], [0.8, \"#7fbc41\"], [0.9, \"#4d9221\"], [1, \"#276419\"]], \"sequential\": [[0.0, \"#0d0887\"], [0.1111111111111111, \"#46039f\"], [0.2222222222222222, \"#7201a8\"], [0.3333333333333333, \"#9c179e\"], [0.4444444444444444, \"#bd3786\"], [0.5555555555555556, \"#d8576b\"], [0.6666666666666666, \"#ed7953\"], [0.7777777777777778, \"#fb9f3a\"], [0.8888888888888888, \"#fdca26\"], [1.0, \"#f0f921\"]], \"sequentialminus\": [[0.0, \"#0d0887\"], [0.1111111111111111, \"#46039f\"], [0.2222222222222222, \"#7201a8\"], [0.3333333333333333, \"#9c179e\"], [0.4444444444444444, \"#bd3786\"], [0.5555555555555556, \"#d8576b\"], [0.6666666666666666, \"#ed7953\"], [0.7777777777777778, \"#fb9f3a\"], [0.8888888888888888, \"#fdca26\"], [1.0, \"#f0f921\"]]}, \"colorway\": [\"#636efa\", \"#EF553B\", \"#00cc96\", \"#ab63fa\", \"#FFA15A\", \"#19d3f3\", \"#FF6692\", \"#B6E880\", \"#FF97FF\", \"#FECB52\"], \"font\": {\"color\": \"#2a3f5f\"}, \"geo\": {\"bgcolor\": \"white\", \"lakecolor\": \"white\", \"landcolor\": \"#E5ECF6\", \"showlakes\": true, \"showland\": true, \"subunitcolor\": \"white\"}, \"hoverlabel\": {\"align\": \"left\"}, \"hovermode\": \"closest\", \"mapbox\": {\"style\": \"light\"}, \"paper_bgcolor\": \"white\", \"plot_bgcolor\": \"#E5ECF6\", \"polar\": {\"angularaxis\": {\"gridcolor\": \"white\", \"linecolor\": \"white\", \"ticks\": \"\"}, \"bgcolor\": \"#E5ECF6\", \"radialaxis\": {\"gridcolor\": \"white\", \"linecolor\": \"white\", \"ticks\": \"\"}}, \"scene\": {\"xaxis\": {\"backgroundcolor\": \"#E5ECF6\", \"gridcolor\": \"white\", \"gridwidth\": 2, \"linecolor\": \"white\", \"showbackground\": true, \"ticks\": \"\", \"zerolinecolor\": \"white\"}, \"yaxis\": {\"backgroundcolor\": \"#E5ECF6\", \"gridcolor\": \"white\", \"gridwidth\": 2, \"linecolor\": \"white\", \"showbackground\": true, \"ticks\": \"\", \"zerolinecolor\": \"white\"}, \"zaxis\": {\"backgroundcolor\": \"#E5ECF6\", \"gridcolor\": \"white\", \"gridwidth\": 2, \"linecolor\": \"white\", \"showbackground\": true, \"ticks\": \"\", \"zerolinecolor\": \"white\"}}, \"shapedefaults\": {\"line\": {\"color\": \"#2a3f5f\"}}, \"ternary\": {\"aaxis\": {\"gridcolor\": \"white\", \"linecolor\": \"white\", \"ticks\": \"\"}, \"baxis\": {\"gridcolor\": \"white\", \"linecolor\": \"white\", \"ticks\": \"\"}, \"bgcolor\": \"#E5ECF6\", \"caxis\": {\"gridcolor\": \"white\", \"linecolor\": \"white\", \"ticks\": \"\"}}, \"title\": {\"x\": 0.05}, \"xaxis\": {\"automargin\": true, \"gridcolor\": \"white\", \"linecolor\": \"white\", \"ticks\": \"\", \"title\": {\"standoff\": 15}, \"zerolinecolor\": \"white\", \"zerolinewidth\": 2}, \"yaxis\": {\"automargin\": true, \"gridcolor\": \"white\", \"linecolor\": \"white\", \"ticks\": \"\", \"title\": {\"standoff\": 15}, \"zerolinecolor\": \"white\", \"zerolinewidth\": 2}}}, \"xaxis\": {\"showticklabels\": false}, \"yaxis\": {\"showticklabels\": false}},\n",
       "                        {\"responsive\": true}\n",
       "                    ).then(function(){\n",
       "                            \n",
       "var gd = document.getElementById('c8c5ed05-1443-4068-9fee-91354d35fbd4');\n",
       "var x = new MutationObserver(function (mutations, observer) {{\n",
       "        var display = window.getComputedStyle(gd).display;\n",
       "        if (!display || display === 'none') {{\n",
       "            console.log([gd, 'removed!']);\n",
       "            Plotly.purge(gd);\n",
       "            observer.disconnect();\n",
       "        }}\n",
       "}});\n",
       "\n",
       "// Listen for the removal of the full notebook cells\n",
       "var notebookContainer = gd.closest('#notebook-container');\n",
       "if (notebookContainer) {{\n",
       "    x.observe(notebookContainer, {childList: true});\n",
       "}}\n",
       "\n",
       "// Listen for the clearing of the current output cell\n",
       "var outputEl = gd.closest('.output');\n",
       "if (outputEl) {{\n",
       "    x.observe(outputEl, {childList: true});\n",
       "}}\n",
       "\n",
       "                        })\n",
       "                };\n",
       "                });\n",
       "            </script>\n",
       "        </div>"
      ]
     },
     "metadata": {},
     "output_type": "display_data"
    },
    {
     "data": {
      "text/plain": [
       "'midsummer_network.html'"
      ]
     },
     "execution_count": 37,
     "metadata": {},
     "output_type": "execute_result"
    }
   ],
   "source": [
    "layout = go.Layout(\n",
    "    paper_bgcolor='rgba(0,0,0,0)',\n",
    "    plot_bgcolor='rgba(0,0,0,0)'\n",
    ")\n",
    "\n",
    "\n",
    "fig = go.Figure(layout = layout)\n",
    "\n",
    "for trace in edge_trace:\n",
    "    fig.add_trace(trace)\n",
    "\n",
    "fig.add_trace(node_trace)\n",
    "\n",
    "fig.update_layout(showlegend = False)\n",
    "\n",
    "fig.update_xaxes(showticklabels = False)\n",
    "\n",
    "fig.update_yaxes(showticklabels = False)\n",
    "\n",
    "fig.show()\n",
    "py.plot(fig, filename='midsummer_network.html')"
   ]
  },
  {
   "cell_type": "code",
   "execution_count": null,
   "metadata": {},
   "outputs": [],
   "source": []
  }
 ],
 "metadata": {
  "kernelspec": {
   "display_name": "Python 3",
   "language": "python",
   "name": "python3"
  },
  "language_info": {
   "codemirror_mode": {
    "name": "ipython",
    "version": 3
   },
   "file_extension": ".py",
   "mimetype": "text/x-python",
   "name": "python",
   "nbconvert_exporter": "python",
   "pygments_lexer": "ipython3",
   "version": "3.7.3"
  }
 },
 "nbformat": 4,
 "nbformat_minor": 2
}
